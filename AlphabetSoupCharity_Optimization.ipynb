{
 "cells": [
  {
   "cell_type": "markdown",
   "id": "b768fa82-01f2-43f5-aa51-8e5c6c656a85",
   "metadata": {},
   "source": [
    "# Model Optimization\n",
    "\n",
    "We can use characteristics of our input data to determine what parameters should be changed.\n",
    "\n",
    "There are a few means of optimizing a neural network:\n",
    "\n",
    "* Check out the input dataset.\n",
    "* Add more neurons to a hidden layer.\n",
    "* Add additional hidden layers.\n",
    "* Use a different activation function for the hidden layers.\n",
    "* Add additional epochs to the training regimen.\n",
    "\n",
    "The input dataset will be re-examined to add \"NAME\" which was dropped from the intial model for simplicity\n",
    "\n",
    "An additional hidden layer will be added (making this a deep learning model as it will 3 hidden layers)\n",
    "\n",
    "If the benchmark is not achieved additional epochs will be added (only if needed)"
   ]
  },
  {
   "cell_type": "markdown",
   "id": "a5d2cd52-a3c8-4311-90ac-802adaf87613",
   "metadata": {
    "tags": []
   },
   "source": [
    "## Preprocessing the Data for the Optimized Neural Network"
   ]
  },
  {
   "cell_type": "code",
   "execution_count": 1,
   "id": "b527326a-99d3-4bbc-b0e1-5e2ad9a5334f",
   "metadata": {
    "tags": []
   },
   "outputs": [],
   "source": [
    "# import common libraries\n",
    "import pandas as pd\n",
    "import numpy as np\n",
    "import matplotlib.pyplot as plt\n",
    "import seaborn as sns\n",
    "sns.set_theme(style=\"darkgrid\")\n"
   ]
  },
  {
   "cell_type": "code",
   "execution_count": 2,
   "id": "f9307070-1caf-4b08-8e8e-8d6452edd788",
   "metadata": {},
   "outputs": [],
   "source": [
    "# Import dependencies from sklearn\n",
    "import sklearn as skl\n",
    "from sklearn.model_selection import train_test_split\n",
    "from sklearn.preprocessing import StandardScaler,OneHotEncoder"
   ]
  },
  {
   "cell_type": "code",
   "execution_count": 3,
   "id": "5123c207-4568-4726-874a-0c0d51a55a76",
   "metadata": {},
   "outputs": [],
   "source": [
    "# import dependencies from tensorflow\n",
    "import tensorflow as tf"
   ]
  },
  {
   "cell_type": "markdown",
   "id": "85ba7f7e-014e-4fe5-a400-81216cc98996",
   "metadata": {},
   "source": [
    "Read in the charity_data.csv to a Pandas DataFrame, and be sure to identify the following in your dataset:\n",
    "\n",
    "* What variable is considered the target for your model?\n",
    "the target variable is IS_SUCCESSFUL\n",
    "\n",
    "* What variable(s) are considered the feature(s) for your model?\n",
    "The following are all part of the features maxtrix (X)\n",
    "1. APPLICATION_TYPE\n",
    "2. AFFILIATION\n",
    "3. CLASSIFICATION\n",
    "4. USE_CASE\n",
    "5. ORGANIZATION\n",
    "6. STATUS\n",
    "7. INCOME_AMT\n",
    "8. SPECIAL_CONSIDERATIONS\n",
    "9. ASK_AMT"
   ]
  },
  {
   "cell_type": "markdown",
   "id": "d1bb6e88-f619-4a88-9f46-c1927200bf17",
   "metadata": {},
   "source": [
    "Note: the pwd was somehow starting in the wrong folder which caused an error in importing a csv file from the \"Resources\" folder\n",
    "this was remedied by changing the current working directory"
   ]
  },
  {
   "cell_type": "code",
   "execution_count": 4,
   "id": "a51ff09f-d200-4a9a-8c3c-762c6ccc3975",
   "metadata": {},
   "outputs": [
    {
     "data": {
      "text/plain": [
       "'C:\\\\Users\\\\jamie\\\\Tutoring\\\\Jamie_Homework\\\\Module_3\\\\Neural_Network_Charity_Analysis'"
      ]
     },
     "execution_count": 4,
     "metadata": {},
     "output_type": "execute_result"
    }
   ],
   "source": [
    "pwd\n"
   ]
  },
  {
   "cell_type": "code",
   "execution_count": 5,
   "id": "1eb6c517-0790-4e6b-811b-f6c4781dfea1",
   "metadata": {},
   "outputs": [],
   "source": [
    "# cd ..\n"
   ]
  },
  {
   "cell_type": "markdown",
   "id": "6eb3ecfd-0ddd-4983-802c-454c7affdae3",
   "metadata": {},
   "source": [
    "## Checkout the Input Data\n",
    "\n",
    "Adjusting the input data to ensure that there are no variables or outliers that are causing confusion in the model, such as:\n",
    "* Dropping more or fewer columns.\n",
    "* Creating more bins for rare occurrences in columns.\n",
    "* Increasing or decreasing the number of values for each bin.Adjusting the input data to ensure that there are no variables or outliers that are causing confusion in the model, such as:\n",
    "* Dropping more or fewer columns.\n",
    "* Creating more bins for rare occurrences in columns.\n",
    "* Increasing or decreasing the number of values for each bin.\n"
   ]
  },
  {
   "cell_type": "code",
   "execution_count": 6,
   "id": "f5d0a4b3-8c6e-4bc2-b1e5-82d7ba3e9b0d",
   "metadata": {},
   "outputs": [
    {
     "data": {
      "text/html": [
       "<div>\n",
       "<style scoped>\n",
       "    .dataframe tbody tr th:only-of-type {\n",
       "        vertical-align: middle;\n",
       "    }\n",
       "\n",
       "    .dataframe tbody tr th {\n",
       "        vertical-align: top;\n",
       "    }\n",
       "\n",
       "    .dataframe thead th {\n",
       "        text-align: right;\n",
       "    }\n",
       "</style>\n",
       "<table border=\"1\" class=\"dataframe\">\n",
       "  <thead>\n",
       "    <tr style=\"text-align: right;\">\n",
       "      <th></th>\n",
       "      <th>EIN</th>\n",
       "      <th>NAME</th>\n",
       "      <th>APPLICATION_TYPE</th>\n",
       "      <th>AFFILIATION</th>\n",
       "      <th>CLASSIFICATION</th>\n",
       "      <th>USE_CASE</th>\n",
       "      <th>ORGANIZATION</th>\n",
       "      <th>STATUS</th>\n",
       "      <th>INCOME_AMT</th>\n",
       "      <th>SPECIAL_CONSIDERATIONS</th>\n",
       "      <th>ASK_AMT</th>\n",
       "      <th>IS_SUCCESSFUL</th>\n",
       "    </tr>\n",
       "  </thead>\n",
       "  <tbody>\n",
       "    <tr>\n",
       "      <th>0</th>\n",
       "      <td>10520599</td>\n",
       "      <td>BLUE KNIGHTS MOTORCYCLE CLUB</td>\n",
       "      <td>T10</td>\n",
       "      <td>Independent</td>\n",
       "      <td>C1000</td>\n",
       "      <td>ProductDev</td>\n",
       "      <td>Association</td>\n",
       "      <td>1</td>\n",
       "      <td>0</td>\n",
       "      <td>N</td>\n",
       "      <td>5000</td>\n",
       "      <td>1</td>\n",
       "    </tr>\n",
       "    <tr>\n",
       "      <th>1</th>\n",
       "      <td>10531628</td>\n",
       "      <td>AMERICAN CHESAPEAKE CLUB CHARITABLE TR</td>\n",
       "      <td>T3</td>\n",
       "      <td>Independent</td>\n",
       "      <td>C2000</td>\n",
       "      <td>Preservation</td>\n",
       "      <td>Co-operative</td>\n",
       "      <td>1</td>\n",
       "      <td>Jan-99</td>\n",
       "      <td>N</td>\n",
       "      <td>108590</td>\n",
       "      <td>1</td>\n",
       "    </tr>\n",
       "    <tr>\n",
       "      <th>2</th>\n",
       "      <td>10547893</td>\n",
       "      <td>ST CLOUD PROFESSIONAL FIREFIGHTERS</td>\n",
       "      <td>T5</td>\n",
       "      <td>CompanySponsored</td>\n",
       "      <td>C3000</td>\n",
       "      <td>ProductDev</td>\n",
       "      <td>Association</td>\n",
       "      <td>1</td>\n",
       "      <td>0</td>\n",
       "      <td>N</td>\n",
       "      <td>5000</td>\n",
       "      <td>0</td>\n",
       "    </tr>\n",
       "    <tr>\n",
       "      <th>3</th>\n",
       "      <td>10553066</td>\n",
       "      <td>SOUTHSIDE ATHLETIC ASSOCIATION</td>\n",
       "      <td>T3</td>\n",
       "      <td>CompanySponsored</td>\n",
       "      <td>C2000</td>\n",
       "      <td>Preservation</td>\n",
       "      <td>Trust</td>\n",
       "      <td>1</td>\n",
       "      <td>10000-24999</td>\n",
       "      <td>N</td>\n",
       "      <td>6692</td>\n",
       "      <td>1</td>\n",
       "    </tr>\n",
       "    <tr>\n",
       "      <th>4</th>\n",
       "      <td>10556103</td>\n",
       "      <td>GENETIC RESEARCH INSTITUTE OF THE DESERT</td>\n",
       "      <td>T3</td>\n",
       "      <td>Independent</td>\n",
       "      <td>C1000</td>\n",
       "      <td>Heathcare</td>\n",
       "      <td>Trust</td>\n",
       "      <td>1</td>\n",
       "      <td>100000-499999</td>\n",
       "      <td>N</td>\n",
       "      <td>142590</td>\n",
       "      <td>1</td>\n",
       "    </tr>\n",
       "  </tbody>\n",
       "</table>\n",
       "</div>"
      ],
      "text/plain": [
       "        EIN                                      NAME APPLICATION_TYPE  \\\n",
       "0  10520599              BLUE KNIGHTS MOTORCYCLE CLUB              T10   \n",
       "1  10531628    AMERICAN CHESAPEAKE CLUB CHARITABLE TR               T3   \n",
       "2  10547893        ST CLOUD PROFESSIONAL FIREFIGHTERS               T5   \n",
       "3  10553066            SOUTHSIDE ATHLETIC ASSOCIATION               T3   \n",
       "4  10556103  GENETIC RESEARCH INSTITUTE OF THE DESERT               T3   \n",
       "\n",
       "        AFFILIATION CLASSIFICATION      USE_CASE  ORGANIZATION  STATUS  \\\n",
       "0       Independent          C1000    ProductDev   Association       1   \n",
       "1       Independent          C2000  Preservation  Co-operative       1   \n",
       "2  CompanySponsored          C3000    ProductDev   Association       1   \n",
       "3  CompanySponsored          C2000  Preservation         Trust       1   \n",
       "4       Independent          C1000     Heathcare         Trust       1   \n",
       "\n",
       "      INCOME_AMT SPECIAL_CONSIDERATIONS  ASK_AMT  IS_SUCCESSFUL  \n",
       "0              0                      N     5000              1  \n",
       "1         Jan-99                      N   108590              1  \n",
       "2              0                      N     5000              0  \n",
       "3    10000-24999                      N     6692              1  \n",
       "4  100000-499999                      N   142590              1  "
      ]
     },
     "execution_count": 6,
     "metadata": {},
     "output_type": "execute_result"
    }
   ],
   "source": [
    "#  Import and read the charity_data.csv.\n",
    "application_df = pd.read_csv(\"./Resources/charity_data.csv\")\n",
    "application_df.head()"
   ]
  },
  {
   "cell_type": "markdown",
   "id": "d5d8c548-4b09-4cbb-819e-42152dbac03b",
   "metadata": {},
   "source": [
    "### Data Dictionary:\n",
    "\n",
    "* EIN and NAME—Identification columns\n",
    "* APPLICATION_TYPE—Alphabet Soup application type\n",
    "* AFFILIATION—Affiliated sector of industry\n",
    "* CLASSIFICATION—Government organization classification\n",
    "* USE_CASE—Use case for funding\n",
    "* ORGANIZATION—Organization type\n",
    "* STATUS—Active status\n",
    "* INCOME_AMT—Income classification\n",
    "* SPECIAL_CONSIDERATIONS—Special consideration for application\n",
    "* ASK_AMT—Funding amount requested\n",
    "* IS_SUCCESSFUL—Was the money used effectively"
   ]
  },
  {
   "cell_type": "code",
   "execution_count": 7,
   "id": "25905f1e-9fdd-497f-af9e-5ca7812d72ab",
   "metadata": {},
   "outputs": [
    {
     "name": "stdout",
     "output_type": "stream",
     "text": [
      "<class 'pandas.core.frame.DataFrame'>\n",
      "RangeIndex: 34299 entries, 0 to 34298\n",
      "Data columns (total 12 columns):\n",
      " #   Column                  Non-Null Count  Dtype \n",
      "---  ------                  --------------  ----- \n",
      " 0   EIN                     34299 non-null  int64 \n",
      " 1   NAME                    34299 non-null  object\n",
      " 2   APPLICATION_TYPE        34299 non-null  object\n",
      " 3   AFFILIATION             34299 non-null  object\n",
      " 4   CLASSIFICATION          34299 non-null  object\n",
      " 5   USE_CASE                34299 non-null  object\n",
      " 6   ORGANIZATION            34299 non-null  object\n",
      " 7   STATUS                  34299 non-null  int64 \n",
      " 8   INCOME_AMT              34299 non-null  object\n",
      " 9   SPECIAL_CONSIDERATIONS  34299 non-null  object\n",
      " 10  ASK_AMT                 34299 non-null  int64 \n",
      " 11  IS_SUCCESSFUL           34299 non-null  int64 \n",
      "dtypes: int64(4), object(8)\n",
      "memory usage: 3.1+ MB\n"
     ]
    }
   ],
   "source": [
    "# explore the data\n",
    "application_df.info() # 12 columns"
   ]
  },
  {
   "cell_type": "code",
   "execution_count": 8,
   "id": "370d654a-a3e2-4e6e-a54e-eee2bd30bcdf",
   "metadata": {},
   "outputs": [
    {
     "data": {
      "text/plain": [
       "1    18261\n",
       "0    16038\n",
       "Name: IS_SUCCESSFUL, dtype: int64"
      ]
     },
     "execution_count": 8,
     "metadata": {},
     "output_type": "execute_result"
    }
   ],
   "source": [
    "# check the mix of the target variable\n",
    "application_df[\"IS_SUCCESSFUL\"].value_counts()\n",
    "\n",
    "# there appears to be a good mix of successful and not successful applications"
   ]
  },
  {
   "cell_type": "code",
   "execution_count": 9,
   "id": "ae2b4ad3-952a-411b-96c9-75fb4f2f8826",
   "metadata": {},
   "outputs": [
    {
     "data": {
      "text/plain": [
       "<AxesSubplot:>"
      ]
     },
     "execution_count": 9,
     "metadata": {},
     "output_type": "execute_result"
    },
    {
     "data": {
      "image/png": "[encoded data removed]",
      "text/plain": [
       "<Figure size 432x288 with 1 Axes>"
      ]
     },
     "metadata": {},
     "output_type": "display_data"
    }
   ],
   "source": [
    "# visualize \"IS_SUCCESSFUL\" mix\n",
    "application_df[\"IS_SUCCESSFUL\"].value_counts().plot.barh()"
   ]
  },
  {
   "cell_type": "code",
   "execution_count": 10,
   "id": "e5f23508-7618-497b-96f1-8bdd7b938477",
   "metadata": {},
   "outputs": [
    {
     "data": {
      "text/plain": [
       "C1000    17326\n",
       "C2000     6074\n",
       "C1200     4837\n",
       "C3000     1918\n",
       "C2100     1883\n",
       "         ...  \n",
       "C4120        1\n",
       "C8210        1\n",
       "C2561        1\n",
       "C4500        1\n",
       "C2150        1\n",
       "Name: CLASSIFICATION, Length: 71, dtype: int64"
      ]
     },
     "execution_count": 10,
     "metadata": {},
     "output_type": "execute_result"
    }
   ],
   "source": [
    "# Look at CLASSIFICATION value counts for binning\n",
    "classification_type = application_df[\"CLASSIFICATION\"].value_counts()\n",
    "classification_type"
   ]
  },
  {
   "cell_type": "code",
   "execution_count": 11,
   "id": "8482df76-8f6d-48a8-8d3f-c417ce70a1bc",
   "metadata": {},
   "outputs": [
    {
     "data": {
      "text/plain": [
       "<AxesSubplot:ylabel='Density'>"
      ]
     },
     "execution_count": 11,
     "metadata": {},
     "output_type": "execute_result"
    },
    {
     "data": {
      "image/png": "[encoded data removed]",
      "text/plain": [
       "<Figure size 432x288 with 1 Axes>"
      ]
     },
     "metadata": {},
     "output_type": "display_data"
    }
   ],
   "source": [
    "# Visualize the value counts of CLASSIFICATION\n",
    "classification_type.plot.density()"
   ]
  },
  {
   "cell_type": "code",
   "execution_count": 12,
   "id": "e09bb4b9-452e-4717-bfb1-ae7477c0f350",
   "metadata": {},
   "outputs": [
    {
     "data": {
      "text/plain": [
       "C1000    17326\n",
       "C2000     6074\n",
       "C1200     4837\n",
       "C3000     1918\n",
       "C2100     1883\n",
       "Other     1484\n",
       "C7000      777\n",
       "Name: CLASSIFICATION, dtype: int64"
      ]
     },
     "execution_count": 12,
     "metadata": {},
     "output_type": "execute_result"
    }
   ],
   "source": [
    "# Determine which values to replace\n",
    "replace_classification_type = list(classification_type[classification_type < 500].index)\n",
    "\n",
    "# Replace in DataFrame\n",
    "for classification_type in replace_classification_type:\n",
    "    application_df[\"CLASSIFICATION\"] = application_df[\"CLASSIFICATION\"].replace(classification_type, \"Other\")\n",
    "    \n",
    "# check to make sure binning was successful\n",
    "application_df[\"CLASSIFICATION\"].value_counts()"
   ]
  },
  {
   "cell_type": "code",
   "execution_count": 13,
   "id": "b47fe8f5-437f-484c-a092-4e86d11bd30e",
   "metadata": {},
   "outputs": [
    {
     "data": {
      "text/plain": [
       "<AxesSubplot:ylabel='Density'>"
      ]
     },
     "execution_count": 13,
     "metadata": {},
     "output_type": "execute_result"
    },
    {
     "data": {
      "image/png": "[encoded data removed]",
      "text/plain": [
       "<Figure size 432x288 with 1 Axes>"
      ]
     },
     "metadata": {},
     "output_type": "display_data"
    }
   ],
   "source": [
    "# Visualize the value counts of CLASSIFICATION after binning\n",
    "application_df[\"CLASSIFICATION\"].value_counts().plot.density()"
   ]
  },
  {
   "cell_type": "code",
   "execution_count": 14,
   "id": "660b1b60-e442-4f01-90e8-007f1f1a69be",
   "metadata": {},
   "outputs": [
    {
     "data": {
      "text/plain": [
       "T3     27037\n",
       "T4      1542\n",
       "T6      1216\n",
       "T5      1173\n",
       "T19     1065\n",
       "T8       737\n",
       "T7       725\n",
       "T10      528\n",
       "T9       156\n",
       "T13       66\n",
       "T12       27\n",
       "T2        16\n",
       "T25        3\n",
       "T14        3\n",
       "T29        2\n",
       "T15        2\n",
       "T17        1\n",
       "Name: APPLICATION_TYPE, dtype: int64"
      ]
     },
     "execution_count": 14,
     "metadata": {},
     "output_type": "execute_result"
    }
   ],
   "source": [
    "# Look at APPLICATION_TYPE value counts for binning\n",
    "application_type = application_df[\"APPLICATION_TYPE\"].value_counts()\n",
    "application_type"
   ]
  },
  {
   "cell_type": "code",
   "execution_count": 15,
   "id": "414a5b2d-0247-449b-b32a-d6521462a696",
   "metadata": {},
   "outputs": [
    {
     "data": {
      "text/plain": [
       "<AxesSubplot:ylabel='Density'>"
      ]
     },
     "execution_count": 15,
     "metadata": {},
     "output_type": "execute_result"
    },
    {
     "data": {
      "image/png": "[encoded data removed]",
      "text/plain": [
       "<Figure size 432x288 with 1 Axes>"
      ]
     },
     "metadata": {},
     "output_type": "display_data"
    }
   ],
   "source": [
    "# Visualize the value counts of APPLICATION_TYPE\n",
    "application_type.plot.density()"
   ]
  },
  {
   "cell_type": "code",
   "execution_count": 16,
   "id": "0497efd7-9779-4e66-8238-6337c2f5a1c6",
   "metadata": {},
   "outputs": [
    {
     "data": {
      "text/plain": [
       "T3       27037\n",
       "Other     2266\n",
       "T4        1542\n",
       "T6        1216\n",
       "T5        1173\n",
       "T19       1065\n",
       "Name: APPLICATION_TYPE, dtype: int64"
      ]
     },
     "execution_count": 16,
     "metadata": {},
     "output_type": "execute_result"
    }
   ],
   "source": [
    "# Determine which values to replace\n",
    "replace_application_type = list(application_type[application_type < 1000].index)\n",
    "\n",
    "# Replace in DataFrame\n",
    "for application_type in replace_application_type:\n",
    "    application_df[\"APPLICATION_TYPE\"] = application_df[\"APPLICATION_TYPE\"].replace(application_type, \"Other\")\n",
    "    \n",
    "# check to make sure binning was successful\n",
    "application_df[\"APPLICATION_TYPE\"].value_counts()"
   ]
  },
  {
   "cell_type": "code",
   "execution_count": 17,
   "id": "fb11d04a-19ca-4539-b60b-bcf21225441f",
   "metadata": {},
   "outputs": [
    {
     "data": {
      "text/plain": [
       "<AxesSubplot:ylabel='Density'>"
      ]
     },
     "execution_count": 17,
     "metadata": {},
     "output_type": "execute_result"
    },
    {
     "data": {
      "image/png": "[encoded data removed]",
      "text/plain": [
       "<Figure size 432x288 with 1 Axes>"
      ]
     },
     "metadata": {},
     "output_type": "display_data"
    }
   ],
   "source": [
    "# Visualize the value counts of APPLICATION_TYPE after binning\n",
    "application_df[\"APPLICATION_TYPE\"].value_counts().plot.density()\n",
    "\n",
    "# binning appears successful"
   ]
  },
  {
   "cell_type": "markdown",
   "id": "94e724a3-6c9b-4568-80e1-09b88f7db3a9",
   "metadata": {
    "tags": []
   },
   "source": [
    "## Re-examined to add \"NAME\" \n",
    "\n",
    "### \"NAME\" and \"EIN\" were not included in the inital model\n",
    "Name will be examined in this optimization model"
   ]
  },
  {
   "cell_type": "code",
   "execution_count": 18,
   "id": "b99e4284-5844-4b35-a9e0-0d554c04ea49",
   "metadata": {},
   "outputs": [
    {
     "data": {
      "text/plain": [
       "34299"
      ]
     },
     "execution_count": 18,
     "metadata": {},
     "output_type": "execute_result"
    }
   ],
   "source": [
    "# Determine the number of unique values in the EIN column.\n",
    "application_df['EIN'].nunique()\n",
    "\n",
    "# EIN appears to be an index variable and will be dropped"
   ]
  },
  {
   "cell_type": "code",
   "execution_count": 19,
   "id": "7a9ff9c6-f6aa-452a-9f8b-5be9f5a38c48",
   "metadata": {},
   "outputs": [
    {
     "name": "stdout",
     "output_type": "stream",
     "text": [
      "<class 'pandas.core.frame.DataFrame'>\n",
      "RangeIndex: 34299 entries, 0 to 34298\n",
      "Data columns (total 11 columns):\n",
      " #   Column                  Non-Null Count  Dtype \n",
      "---  ------                  --------------  ----- \n",
      " 0   NAME                    34299 non-null  object\n",
      " 1   APPLICATION_TYPE        34299 non-null  object\n",
      " 2   AFFILIATION             34299 non-null  object\n",
      " 3   CLASSIFICATION          34299 non-null  object\n",
      " 4   USE_CASE                34299 non-null  object\n",
      " 5   ORGANIZATION            34299 non-null  object\n",
      " 6   STATUS                  34299 non-null  int64 \n",
      " 7   INCOME_AMT              34299 non-null  object\n",
      " 8   SPECIAL_CONSIDERATIONS  34299 non-null  object\n",
      " 9   ASK_AMT                 34299 non-null  int64 \n",
      " 10  IS_SUCCESSFUL           34299 non-null  int64 \n",
      "dtypes: int64(3), object(8)\n",
      "memory usage: 2.9+ MB\n"
     ]
    }
   ],
   "source": [
    "# Drop the non-beneficial ID columns, 'EIN'.\n",
    "application_df.drop(columns= [\"EIN\"], inplace=True)\n",
    "application_df.info() # 10 columns"
   ]
  },
  {
   "cell_type": "code",
   "execution_count": 20,
   "id": "1d66eb83-d873-42f0-b20c-53b83596d6a4",
   "metadata": {},
   "outputs": [
    {
     "data": {
      "text/plain": [
       "PARENT BOOSTER USA INC                                          1260\n",
       "TOPS CLUB INC                                                    765\n",
       "UNITED STATES BOWLING CONGRESS INC                               700\n",
       "WASHINGTON STATE UNIVERSITY                                      492\n",
       "AMATEUR ATHLETIC UNION OF THE UNITED STATES INC                  408\n",
       "                                                                ... \n",
       "DAUGHTERS OF ESTHER FELLOWSHIP INTERNATIONAL MINISTRIES INC       24\n",
       "FUTURE FARMERS OF AMERICA STATE ASSOCIATIONS & LOCAL CHAPTER      24\n",
       "INTERNATIONAL FEDERATION OF FLY FISHERS INC                       24\n",
       "BETTER WORLD FUND                                                 23\n",
       "DEPARTMENT OF WYOMING VFW AUXILIARY                               23\n",
       "Name: NAME, Length: 100, dtype: int64"
      ]
     },
     "execution_count": 20,
     "metadata": {},
     "output_type": "execute_result"
    }
   ],
   "source": [
    "# Look at NAME value counts for binning\n",
    "Names = application_df[\"NAME\"].value_counts()\n",
    "Names.head(100) # the 100 most common names are all over 20"
   ]
  },
  {
   "cell_type": "code",
   "execution_count": 21,
   "id": "3e610073-85df-4739-abce-ecf15ecab384",
   "metadata": {},
   "outputs": [
    {
     "data": {
      "text/plain": [
       "<AxesSubplot:ylabel='Density'>"
      ]
     },
     "execution_count": 21,
     "metadata": {},
     "output_type": "execute_result"
    },
    {
     "data": {
      "image/png": "[encoded data removed]",
      "text/plain": [
       "<Figure size 432x288 with 1 Axes>"
      ]
     },
     "metadata": {},
     "output_type": "display_data"
    }
   ],
   "source": [
    "# Visualize the value counts of Names\n",
    "Names.plot.density()"
   ]
  },
  {
   "cell_type": "code",
   "execution_count": 22,
   "id": "af87c748-a97d-4bd1-9333-2eb77e7c5aa6",
   "metadata": {},
   "outputs": [
    {
     "data": {
      "text/plain": [
       "Other                                             22409\n",
       "PARENT BOOSTER USA INC                             1260\n",
       "TOPS CLUB INC                                       765\n",
       "UNITED STATES BOWLING CONGRESS INC                  700\n",
       "WASHINGTON STATE UNIVERSITY                         492\n",
       "                                                  ...  \n",
       "AMERICAN IRIS SOCIETY                                21\n",
       "ARIZONA FEDERATION OF GARDEN CLUBS                   21\n",
       "GENERAL FEDERATION OF WOMENS CLUBS ARIZONA INC       20\n",
       "DISABLED AMERICAN VETERANS AUXILIARY INC             20\n",
       "TEXAS MASTER GARDENER ASSOCIATION INC                20\n",
       "Name: NAME, Length: 122, dtype: int64"
      ]
     },
     "execution_count": 22,
     "metadata": {},
     "output_type": "execute_result"
    }
   ],
   "source": [
    "# Determine which values to replace (started with 20 then examined 10, then 5) kept 20 for simplicity\n",
    "replace_Names = list(Names[Names < 20].index)\n",
    "\n",
    "# Replace in DataFrame\n",
    "for Names in replace_Names:\n",
    "    application_df[\"NAME\"] = application_df[\"NAME\"].replace(Names, \"Other\")\n",
    "    \n",
    "# check to make sure binning was successful\n",
    "application_df[\"NAME\"].value_counts()"
   ]
  },
  {
   "cell_type": "code",
   "execution_count": 23,
   "id": "af788f54-cc06-4a10-8362-da24be55c362",
   "metadata": {},
   "outputs": [
    {
     "data": {
      "text/plain": [
       "<AxesSubplot:ylabel='Density'>"
      ]
     },
     "execution_count": 23,
     "metadata": {},
     "output_type": "execute_result"
    },
    {
     "data": {
      "image/png": "[encoded data removed]",
      "text/plain": [
       "<Figure size 432x288 with 1 Axes>"
      ]
     },
     "metadata": {},
     "output_type": "display_data"
    }
   ],
   "source": [
    "# Visualize the value counts of Names after binning (tried 20, 10 and 5 not very different)\n",
    "application_df[\"NAME\"].value_counts().plot.density()"
   ]
  },
  {
   "cell_type": "code",
   "execution_count": 24,
   "id": "80925997-7178-4398-9013-824cab6e4c63",
   "metadata": {},
   "outputs": [
    {
     "data": {
      "text/plain": [
       "NAME                      122\n",
       "APPLICATION_TYPE            6\n",
       "AFFILIATION                 6\n",
       "CLASSIFICATION              7\n",
       "USE_CASE                    5\n",
       "ORGANIZATION                4\n",
       "INCOME_AMT                  9\n",
       "SPECIAL_CONSIDERATIONS      2\n",
       "dtype: int64"
      ]
     },
     "execution_count": 24,
     "metadata": {},
     "output_type": "execute_result"
    }
   ],
   "source": [
    "# Generate our categorical variable list (having Dtype of \"object\")\n",
    "\n",
    "application_cat = application_df.dtypes[application_df.dtypes == \"object\"].index.tolist()\n",
    "application_df[application_cat].nunique()"
   ]
  },
  {
   "cell_type": "code",
   "execution_count": 25,
   "id": "dfebcb80-bf88-48d5-857f-574b703a87c2",
   "metadata": {},
   "outputs": [
    {
     "data": {
      "text/html": [
       "<div>\n",
       "<style scoped>\n",
       "    .dataframe tbody tr th:only-of-type {\n",
       "        vertical-align: middle;\n",
       "    }\n",
       "\n",
       "    .dataframe tbody tr th {\n",
       "        vertical-align: top;\n",
       "    }\n",
       "\n",
       "    .dataframe thead th {\n",
       "        text-align: right;\n",
       "    }\n",
       "</style>\n",
       "<table border=\"1\" class=\"dataframe\">\n",
       "  <thead>\n",
       "    <tr style=\"text-align: right;\">\n",
       "      <th></th>\n",
       "      <th>NAME_AIR FORCE ASSOCIATION</th>\n",
       "      <th>NAME_ALABAMA FEDERATION OF WOMENS CLUBS</th>\n",
       "      <th>NAME_ALABAMA TREASURE FOREST ASSOCIATION</th>\n",
       "      <th>NAME_ALPHA PHI SIGMA</th>\n",
       "      <th>NAME_ALPHA PHI SIGMA INC</th>\n",
       "      <th>NAME_ALTRUSA INTERNATIONAL FOUNDATION INC</th>\n",
       "      <th>NAME_AMATEUR ATHLETIC UNION OF THE UNITED STATES</th>\n",
       "      <th>NAME_AMATEUR ATHLETIC UNION OF THE UNITED STATES INC</th>\n",
       "      <th>NAME_AMERICAN ASSOCIATION OF UNIVERSITY WOMEN</th>\n",
       "      <th>NAME_AMERICAN ASSOCIATION OF UNIVERSITY WOMEN INC</th>\n",
       "      <th>...</th>\n",
       "      <th>INCOME_AMT_10000-24999</th>\n",
       "      <th>INCOME_AMT_100000-499999</th>\n",
       "      <th>INCOME_AMT_10M-50M</th>\n",
       "      <th>INCOME_AMT_1M-5M</th>\n",
       "      <th>INCOME_AMT_25000-99999</th>\n",
       "      <th>INCOME_AMT_50M+</th>\n",
       "      <th>INCOME_AMT_5M-10M</th>\n",
       "      <th>INCOME_AMT_Jan-99</th>\n",
       "      <th>SPECIAL_CONSIDERATIONS_N</th>\n",
       "      <th>SPECIAL_CONSIDERATIONS_Y</th>\n",
       "    </tr>\n",
       "  </thead>\n",
       "  <tbody>\n",
       "    <tr>\n",
       "      <th>0</th>\n",
       "      <td>0.0</td>\n",
       "      <td>0.0</td>\n",
       "      <td>0.0</td>\n",
       "      <td>0.0</td>\n",
       "      <td>0.0</td>\n",
       "      <td>0.0</td>\n",
       "      <td>0.0</td>\n",
       "      <td>0.0</td>\n",
       "      <td>0.0</td>\n",
       "      <td>0.0</td>\n",
       "      <td>...</td>\n",
       "      <td>0.0</td>\n",
       "      <td>0.0</td>\n",
       "      <td>0.0</td>\n",
       "      <td>0.0</td>\n",
       "      <td>0.0</td>\n",
       "      <td>0.0</td>\n",
       "      <td>0.0</td>\n",
       "      <td>0.0</td>\n",
       "      <td>1.0</td>\n",
       "      <td>0.0</td>\n",
       "    </tr>\n",
       "    <tr>\n",
       "      <th>1</th>\n",
       "      <td>0.0</td>\n",
       "      <td>0.0</td>\n",
       "      <td>0.0</td>\n",
       "      <td>0.0</td>\n",
       "      <td>0.0</td>\n",
       "      <td>0.0</td>\n",
       "      <td>0.0</td>\n",
       "      <td>0.0</td>\n",
       "      <td>0.0</td>\n",
       "      <td>0.0</td>\n",
       "      <td>...</td>\n",
       "      <td>0.0</td>\n",
       "      <td>0.0</td>\n",
       "      <td>0.0</td>\n",
       "      <td>0.0</td>\n",
       "      <td>0.0</td>\n",
       "      <td>0.0</td>\n",
       "      <td>0.0</td>\n",
       "      <td>1.0</td>\n",
       "      <td>1.0</td>\n",
       "      <td>0.0</td>\n",
       "    </tr>\n",
       "    <tr>\n",
       "      <th>2</th>\n",
       "      <td>0.0</td>\n",
       "      <td>0.0</td>\n",
       "      <td>0.0</td>\n",
       "      <td>0.0</td>\n",
       "      <td>0.0</td>\n",
       "      <td>0.0</td>\n",
       "      <td>0.0</td>\n",
       "      <td>0.0</td>\n",
       "      <td>0.0</td>\n",
       "      <td>0.0</td>\n",
       "      <td>...</td>\n",
       "      <td>0.0</td>\n",
       "      <td>0.0</td>\n",
       "      <td>0.0</td>\n",
       "      <td>0.0</td>\n",
       "      <td>0.0</td>\n",
       "      <td>0.0</td>\n",
       "      <td>0.0</td>\n",
       "      <td>0.0</td>\n",
       "      <td>1.0</td>\n",
       "      <td>0.0</td>\n",
       "    </tr>\n",
       "    <tr>\n",
       "      <th>3</th>\n",
       "      <td>0.0</td>\n",
       "      <td>0.0</td>\n",
       "      <td>0.0</td>\n",
       "      <td>0.0</td>\n",
       "      <td>0.0</td>\n",
       "      <td>0.0</td>\n",
       "      <td>0.0</td>\n",
       "      <td>0.0</td>\n",
       "      <td>0.0</td>\n",
       "      <td>0.0</td>\n",
       "      <td>...</td>\n",
       "      <td>1.0</td>\n",
       "      <td>0.0</td>\n",
       "      <td>0.0</td>\n",
       "      <td>0.0</td>\n",
       "      <td>0.0</td>\n",
       "      <td>0.0</td>\n",
       "      <td>0.0</td>\n",
       "      <td>0.0</td>\n",
       "      <td>1.0</td>\n",
       "      <td>0.0</td>\n",
       "    </tr>\n",
       "    <tr>\n",
       "      <th>4</th>\n",
       "      <td>0.0</td>\n",
       "      <td>0.0</td>\n",
       "      <td>0.0</td>\n",
       "      <td>0.0</td>\n",
       "      <td>0.0</td>\n",
       "      <td>0.0</td>\n",
       "      <td>0.0</td>\n",
       "      <td>0.0</td>\n",
       "      <td>0.0</td>\n",
       "      <td>0.0</td>\n",
       "      <td>...</td>\n",
       "      <td>0.0</td>\n",
       "      <td>1.0</td>\n",
       "      <td>0.0</td>\n",
       "      <td>0.0</td>\n",
       "      <td>0.0</td>\n",
       "      <td>0.0</td>\n",
       "      <td>0.0</td>\n",
       "      <td>0.0</td>\n",
       "      <td>1.0</td>\n",
       "      <td>0.0</td>\n",
       "    </tr>\n",
       "  </tbody>\n",
       "</table>\n",
       "<p>5 rows × 161 columns</p>\n",
       "</div>"
      ],
      "text/plain": [
       "   NAME_AIR FORCE ASSOCIATION  NAME_ALABAMA FEDERATION OF WOMENS CLUBS  \\\n",
       "0                         0.0                                      0.0   \n",
       "1                         0.0                                      0.0   \n",
       "2                         0.0                                      0.0   \n",
       "3                         0.0                                      0.0   \n",
       "4                         0.0                                      0.0   \n",
       "\n",
       "   NAME_ALABAMA TREASURE FOREST ASSOCIATION  NAME_ALPHA PHI SIGMA  \\\n",
       "0                                       0.0                   0.0   \n",
       "1                                       0.0                   0.0   \n",
       "2                                       0.0                   0.0   \n",
       "3                                       0.0                   0.0   \n",
       "4                                       0.0                   0.0   \n",
       "\n",
       "   NAME_ALPHA PHI SIGMA INC  NAME_ALTRUSA INTERNATIONAL FOUNDATION INC  \\\n",
       "0                       0.0                                        0.0   \n",
       "1                       0.0                                        0.0   \n",
       "2                       0.0                                        0.0   \n",
       "3                       0.0                                        0.0   \n",
       "4                       0.0                                        0.0   \n",
       "\n",
       "   NAME_AMATEUR ATHLETIC UNION OF THE UNITED STATES  \\\n",
       "0                                               0.0   \n",
       "1                                               0.0   \n",
       "2                                               0.0   \n",
       "3                                               0.0   \n",
       "4                                               0.0   \n",
       "\n",
       "   NAME_AMATEUR ATHLETIC UNION OF THE UNITED STATES INC  \\\n",
       "0                                                0.0      \n",
       "1                                                0.0      \n",
       "2                                                0.0      \n",
       "3                                                0.0      \n",
       "4                                                0.0      \n",
       "\n",
       "   NAME_AMERICAN ASSOCIATION OF UNIVERSITY WOMEN  \\\n",
       "0                                            0.0   \n",
       "1                                            0.0   \n",
       "2                                            0.0   \n",
       "3                                            0.0   \n",
       "4                                            0.0   \n",
       "\n",
       "   NAME_AMERICAN ASSOCIATION OF UNIVERSITY WOMEN INC  ...  \\\n",
       "0                                                0.0  ...   \n",
       "1                                                0.0  ...   \n",
       "2                                                0.0  ...   \n",
       "3                                                0.0  ...   \n",
       "4                                                0.0  ...   \n",
       "\n",
       "   INCOME_AMT_10000-24999  INCOME_AMT_100000-499999  INCOME_AMT_10M-50M  \\\n",
       "0                     0.0                       0.0                 0.0   \n",
       "1                     0.0                       0.0                 0.0   \n",
       "2                     0.0                       0.0                 0.0   \n",
       "3                     1.0                       0.0                 0.0   \n",
       "4                     0.0                       1.0                 0.0   \n",
       "\n",
       "   INCOME_AMT_1M-5M  INCOME_AMT_25000-99999  INCOME_AMT_50M+  \\\n",
       "0               0.0                     0.0              0.0   \n",
       "1               0.0                     0.0              0.0   \n",
       "2               0.0                     0.0              0.0   \n",
       "3               0.0                     0.0              0.0   \n",
       "4               0.0                     0.0              0.0   \n",
       "\n",
       "   INCOME_AMT_5M-10M  INCOME_AMT_Jan-99  SPECIAL_CONSIDERATIONS_N  \\\n",
       "0                0.0                0.0                       1.0   \n",
       "1                0.0                1.0                       1.0   \n",
       "2                0.0                0.0                       1.0   \n",
       "3                0.0                0.0                       1.0   \n",
       "4                0.0                0.0                       1.0   \n",
       "\n",
       "   SPECIAL_CONSIDERATIONS_Y  \n",
       "0                       0.0  \n",
       "1                       0.0  \n",
       "2                       0.0  \n",
       "3                       0.0  \n",
       "4                       0.0  \n",
       "\n",
       "[5 rows x 161 columns]"
      ]
     },
     "execution_count": 25,
     "metadata": {},
     "output_type": "execute_result"
    }
   ],
   "source": [
    "# Create a OneHotEncoder instance\n",
    "enc = OneHotEncoder(sparse=False)\n",
    "\n",
    "# Fit and transform the OneHotEncoder using the categorical variable list\n",
    "encode_df = pd.DataFrame(enc.fit_transform(application_df[application_cat]))\n",
    "\n",
    "# Add the encoded variable names to the dataframe\n",
    "encode_df.columns = enc.get_feature_names(application_cat)\n",
    "encode_df.head()"
   ]
  },
  {
   "cell_type": "code",
   "execution_count": 26,
   "id": "eb8c697d-b590-4db9-8303-6ab9811d0d6c",
   "metadata": {},
   "outputs": [
    {
     "name": "stdout",
     "output_type": "stream",
     "text": [
      "<class 'pandas.core.frame.DataFrame'>\n",
      "RangeIndex: 34299 entries, 0 to 34298\n",
      "Columns: 161 entries, NAME_AIR FORCE ASSOCIATION to SPECIAL_CONSIDERATIONS_Y\n",
      "dtypes: float64(161)\n",
      "memory usage: 42.1 MB\n"
     ]
    }
   ],
   "source": [
    "encode_df.info()"
   ]
  },
  {
   "cell_type": "code",
   "execution_count": 28,
   "id": "409f7307-b747-4bc8-b5ee-5f93477128d0",
   "metadata": {},
   "outputs": [
    {
     "data": {
      "text/plain": [
       "(34299, 161)"
      ]
     },
     "execution_count": 28,
     "metadata": {},
     "output_type": "execute_result"
    }
   ],
   "source": [
    "encode_df.shape # much wider"
   ]
  },
  {
   "cell_type": "markdown",
   "id": "3f05495f-9e51-496a-b7e3-498fc8265c10",
   "metadata": {},
   "source": [
    "Now that our categorical variables have been encoded, they are ready to replace our unencoded categorical variables in our dataset.\n",
    "\n",
    "To replace these columns, we'll use a combination of Pandas' merge and drop methods. Add and run the following code in the notebook:"
   ]
  },
  {
   "cell_type": "code",
   "execution_count": 29,
   "id": "a36493a3-c273-4c8d-b1d2-a6f4ccfdaeee",
   "metadata": {},
   "outputs": [
    {
     "data": {
      "text/html": [
       "<div>\n",
       "<style scoped>\n",
       "    .dataframe tbody tr th:only-of-type {\n",
       "        vertical-align: middle;\n",
       "    }\n",
       "\n",
       "    .dataframe tbody tr th {\n",
       "        vertical-align: top;\n",
       "    }\n",
       "\n",
       "    .dataframe thead th {\n",
       "        text-align: right;\n",
       "    }\n",
       "</style>\n",
       "<table border=\"1\" class=\"dataframe\">\n",
       "  <thead>\n",
       "    <tr style=\"text-align: right;\">\n",
       "      <th></th>\n",
       "      <th>STATUS</th>\n",
       "      <th>ASK_AMT</th>\n",
       "      <th>IS_SUCCESSFUL</th>\n",
       "      <th>NAME_AIR FORCE ASSOCIATION</th>\n",
       "      <th>NAME_ALABAMA FEDERATION OF WOMENS CLUBS</th>\n",
       "      <th>NAME_ALABAMA TREASURE FOREST ASSOCIATION</th>\n",
       "      <th>NAME_ALPHA PHI SIGMA</th>\n",
       "      <th>NAME_ALPHA PHI SIGMA INC</th>\n",
       "      <th>NAME_ALTRUSA INTERNATIONAL FOUNDATION INC</th>\n",
       "      <th>NAME_AMATEUR ATHLETIC UNION OF THE UNITED STATES</th>\n",
       "      <th>...</th>\n",
       "      <th>INCOME_AMT_10000-24999</th>\n",
       "      <th>INCOME_AMT_100000-499999</th>\n",
       "      <th>INCOME_AMT_10M-50M</th>\n",
       "      <th>INCOME_AMT_1M-5M</th>\n",
       "      <th>INCOME_AMT_25000-99999</th>\n",
       "      <th>INCOME_AMT_50M+</th>\n",
       "      <th>INCOME_AMT_5M-10M</th>\n",
       "      <th>INCOME_AMT_Jan-99</th>\n",
       "      <th>SPECIAL_CONSIDERATIONS_N</th>\n",
       "      <th>SPECIAL_CONSIDERATIONS_Y</th>\n",
       "    </tr>\n",
       "  </thead>\n",
       "  <tbody>\n",
       "    <tr>\n",
       "      <th>0</th>\n",
       "      <td>1</td>\n",
       "      <td>5000</td>\n",
       "      <td>1</td>\n",
       "      <td>0.0</td>\n",
       "      <td>0.0</td>\n",
       "      <td>0.0</td>\n",
       "      <td>0.0</td>\n",
       "      <td>0.0</td>\n",
       "      <td>0.0</td>\n",
       "      <td>0.0</td>\n",
       "      <td>...</td>\n",
       "      <td>0.0</td>\n",
       "      <td>0.0</td>\n",
       "      <td>0.0</td>\n",
       "      <td>0.0</td>\n",
       "      <td>0.0</td>\n",
       "      <td>0.0</td>\n",
       "      <td>0.0</td>\n",
       "      <td>0.0</td>\n",
       "      <td>1.0</td>\n",
       "      <td>0.0</td>\n",
       "    </tr>\n",
       "    <tr>\n",
       "      <th>1</th>\n",
       "      <td>1</td>\n",
       "      <td>108590</td>\n",
       "      <td>1</td>\n",
       "      <td>0.0</td>\n",
       "      <td>0.0</td>\n",
       "      <td>0.0</td>\n",
       "      <td>0.0</td>\n",
       "      <td>0.0</td>\n",
       "      <td>0.0</td>\n",
       "      <td>0.0</td>\n",
       "      <td>...</td>\n",
       "      <td>0.0</td>\n",
       "      <td>0.0</td>\n",
       "      <td>0.0</td>\n",
       "      <td>0.0</td>\n",
       "      <td>0.0</td>\n",
       "      <td>0.0</td>\n",
       "      <td>0.0</td>\n",
       "      <td>1.0</td>\n",
       "      <td>1.0</td>\n",
       "      <td>0.0</td>\n",
       "    </tr>\n",
       "    <tr>\n",
       "      <th>2</th>\n",
       "      <td>1</td>\n",
       "      <td>5000</td>\n",
       "      <td>0</td>\n",
       "      <td>0.0</td>\n",
       "      <td>0.0</td>\n",
       "      <td>0.0</td>\n",
       "      <td>0.0</td>\n",
       "      <td>0.0</td>\n",
       "      <td>0.0</td>\n",
       "      <td>0.0</td>\n",
       "      <td>...</td>\n",
       "      <td>0.0</td>\n",
       "      <td>0.0</td>\n",
       "      <td>0.0</td>\n",
       "      <td>0.0</td>\n",
       "      <td>0.0</td>\n",
       "      <td>0.0</td>\n",
       "      <td>0.0</td>\n",
       "      <td>0.0</td>\n",
       "      <td>1.0</td>\n",
       "      <td>0.0</td>\n",
       "    </tr>\n",
       "    <tr>\n",
       "      <th>3</th>\n",
       "      <td>1</td>\n",
       "      <td>6692</td>\n",
       "      <td>1</td>\n",
       "      <td>0.0</td>\n",
       "      <td>0.0</td>\n",
       "      <td>0.0</td>\n",
       "      <td>0.0</td>\n",
       "      <td>0.0</td>\n",
       "      <td>0.0</td>\n",
       "      <td>0.0</td>\n",
       "      <td>...</td>\n",
       "      <td>1.0</td>\n",
       "      <td>0.0</td>\n",
       "      <td>0.0</td>\n",
       "      <td>0.0</td>\n",
       "      <td>0.0</td>\n",
       "      <td>0.0</td>\n",
       "      <td>0.0</td>\n",
       "      <td>0.0</td>\n",
       "      <td>1.0</td>\n",
       "      <td>0.0</td>\n",
       "    </tr>\n",
       "    <tr>\n",
       "      <th>4</th>\n",
       "      <td>1</td>\n",
       "      <td>142590</td>\n",
       "      <td>1</td>\n",
       "      <td>0.0</td>\n",
       "      <td>0.0</td>\n",
       "      <td>0.0</td>\n",
       "      <td>0.0</td>\n",
       "      <td>0.0</td>\n",
       "      <td>0.0</td>\n",
       "      <td>0.0</td>\n",
       "      <td>...</td>\n",
       "      <td>0.0</td>\n",
       "      <td>1.0</td>\n",
       "      <td>0.0</td>\n",
       "      <td>0.0</td>\n",
       "      <td>0.0</td>\n",
       "      <td>0.0</td>\n",
       "      <td>0.0</td>\n",
       "      <td>0.0</td>\n",
       "      <td>1.0</td>\n",
       "      <td>0.0</td>\n",
       "    </tr>\n",
       "  </tbody>\n",
       "</table>\n",
       "<p>5 rows × 164 columns</p>\n",
       "</div>"
      ],
      "text/plain": [
       "   STATUS  ASK_AMT  IS_SUCCESSFUL  NAME_AIR FORCE ASSOCIATION  \\\n",
       "0       1     5000              1                         0.0   \n",
       "1       1   108590              1                         0.0   \n",
       "2       1     5000              0                         0.0   \n",
       "3       1     6692              1                         0.0   \n",
       "4       1   142590              1                         0.0   \n",
       "\n",
       "   NAME_ALABAMA FEDERATION OF WOMENS CLUBS  \\\n",
       "0                                      0.0   \n",
       "1                                      0.0   \n",
       "2                                      0.0   \n",
       "3                                      0.0   \n",
       "4                                      0.0   \n",
       "\n",
       "   NAME_ALABAMA TREASURE FOREST ASSOCIATION  NAME_ALPHA PHI SIGMA  \\\n",
       "0                                       0.0                   0.0   \n",
       "1                                       0.0                   0.0   \n",
       "2                                       0.0                   0.0   \n",
       "3                                       0.0                   0.0   \n",
       "4                                       0.0                   0.0   \n",
       "\n",
       "   NAME_ALPHA PHI SIGMA INC  NAME_ALTRUSA INTERNATIONAL FOUNDATION INC  \\\n",
       "0                       0.0                                        0.0   \n",
       "1                       0.0                                        0.0   \n",
       "2                       0.0                                        0.0   \n",
       "3                       0.0                                        0.0   \n",
       "4                       0.0                                        0.0   \n",
       "\n",
       "   NAME_AMATEUR ATHLETIC UNION OF THE UNITED STATES  ...  \\\n",
       "0                                               0.0  ...   \n",
       "1                                               0.0  ...   \n",
       "2                                               0.0  ...   \n",
       "3                                               0.0  ...   \n",
       "4                                               0.0  ...   \n",
       "\n",
       "   INCOME_AMT_10000-24999  INCOME_AMT_100000-499999  INCOME_AMT_10M-50M  \\\n",
       "0                     0.0                       0.0                 0.0   \n",
       "1                     0.0                       0.0                 0.0   \n",
       "2                     0.0                       0.0                 0.0   \n",
       "3                     1.0                       0.0                 0.0   \n",
       "4                     0.0                       1.0                 0.0   \n",
       "\n",
       "   INCOME_AMT_1M-5M  INCOME_AMT_25000-99999  INCOME_AMT_50M+  \\\n",
       "0               0.0                     0.0              0.0   \n",
       "1               0.0                     0.0              0.0   \n",
       "2               0.0                     0.0              0.0   \n",
       "3               0.0                     0.0              0.0   \n",
       "4               0.0                     0.0              0.0   \n",
       "\n",
       "   INCOME_AMT_5M-10M  INCOME_AMT_Jan-99  SPECIAL_CONSIDERATIONS_N  \\\n",
       "0                0.0                0.0                       1.0   \n",
       "1                0.0                1.0                       1.0   \n",
       "2                0.0                0.0                       1.0   \n",
       "3                0.0                0.0                       1.0   \n",
       "4                0.0                0.0                       1.0   \n",
       "\n",
       "   SPECIAL_CONSIDERATIONS_Y  \n",
       "0                       0.0  \n",
       "1                       0.0  \n",
       "2                       0.0  \n",
       "3                       0.0  \n",
       "4                       0.0  \n",
       "\n",
       "[5 rows x 164 columns]"
      ]
     },
     "execution_count": 29,
     "metadata": {},
     "output_type": "execute_result"
    }
   ],
   "source": [
    "# Merge one-hot encoded features and drop the originals\n",
    "application_df = application_df.merge(encode_df,left_index=True, right_index=True)\n",
    "application_df = application_df.drop(application_cat, axis= 1)\n",
    "application_df.head()"
   ]
  },
  {
   "cell_type": "code",
   "execution_count": 30,
   "id": "feb28634-31ad-4fb5-9e1a-294682cc1aef",
   "metadata": {},
   "outputs": [
    {
     "name": "stdout",
     "output_type": "stream",
     "text": [
      "<class 'pandas.core.frame.DataFrame'>\n",
      "RangeIndex: 34299 entries, 0 to 34298\n",
      "Columns: 164 entries, STATUS to SPECIAL_CONSIDERATIONS_Y\n",
      "dtypes: float64(161), int64(3)\n",
      "memory usage: 42.9 MB\n"
     ]
    }
   ],
   "source": [
    "# check that all columns are numeric\n",
    "application_df.info()"
   ]
  },
  {
   "cell_type": "markdown",
   "id": "5ebb13ed-4919-44a3-8c3f-e6e035cb308a",
   "metadata": {},
   "source": [
    "Note: all the dtypes are not numeric (float64)"
   ]
  },
  {
   "cell_type": "code",
   "execution_count": 31,
   "id": "b7f44716-b537-4cf3-ace4-d3cb8767806f",
   "metadata": {},
   "outputs": [],
   "source": [
    "# Split our preprocessed data into our features and target arrays\n",
    "y= application_df[\"IS_SUCCESSFUL\"].values"
   ]
  },
  {
   "cell_type": "code",
   "execution_count": 32,
   "id": "124483ca-6c16-49c7-a056-f456769cfe0c",
   "metadata": {},
   "outputs": [
    {
     "data": {
      "text/html": [
       "<div>\n",
       "<style scoped>\n",
       "    .dataframe tbody tr th:only-of-type {\n",
       "        vertical-align: middle;\n",
       "    }\n",
       "\n",
       "    .dataframe tbody tr th {\n",
       "        vertical-align: top;\n",
       "    }\n",
       "\n",
       "    .dataframe thead th {\n",
       "        text-align: right;\n",
       "    }\n",
       "</style>\n",
       "<table border=\"1\" class=\"dataframe\">\n",
       "  <thead>\n",
       "    <tr style=\"text-align: right;\">\n",
       "      <th></th>\n",
       "      <th>STATUS</th>\n",
       "      <th>ASK_AMT</th>\n",
       "      <th>NAME_AIR FORCE ASSOCIATION</th>\n",
       "      <th>NAME_ALABAMA FEDERATION OF WOMENS CLUBS</th>\n",
       "      <th>NAME_ALABAMA TREASURE FOREST ASSOCIATION</th>\n",
       "      <th>NAME_ALPHA PHI SIGMA</th>\n",
       "      <th>NAME_ALPHA PHI SIGMA INC</th>\n",
       "      <th>NAME_ALTRUSA INTERNATIONAL FOUNDATION INC</th>\n",
       "      <th>NAME_AMATEUR ATHLETIC UNION OF THE UNITED STATES</th>\n",
       "      <th>NAME_AMATEUR ATHLETIC UNION OF THE UNITED STATES INC</th>\n",
       "      <th>...</th>\n",
       "      <th>INCOME_AMT_10000-24999</th>\n",
       "      <th>INCOME_AMT_100000-499999</th>\n",
       "      <th>INCOME_AMT_10M-50M</th>\n",
       "      <th>INCOME_AMT_1M-5M</th>\n",
       "      <th>INCOME_AMT_25000-99999</th>\n",
       "      <th>INCOME_AMT_50M+</th>\n",
       "      <th>INCOME_AMT_5M-10M</th>\n",
       "      <th>INCOME_AMT_Jan-99</th>\n",
       "      <th>SPECIAL_CONSIDERATIONS_N</th>\n",
       "      <th>SPECIAL_CONSIDERATIONS_Y</th>\n",
       "    </tr>\n",
       "  </thead>\n",
       "  <tbody>\n",
       "    <tr>\n",
       "      <th>0</th>\n",
       "      <td>1</td>\n",
       "      <td>5000</td>\n",
       "      <td>0.0</td>\n",
       "      <td>0.0</td>\n",
       "      <td>0.0</td>\n",
       "      <td>0.0</td>\n",
       "      <td>0.0</td>\n",
       "      <td>0.0</td>\n",
       "      <td>0.0</td>\n",
       "      <td>0.0</td>\n",
       "      <td>...</td>\n",
       "      <td>0.0</td>\n",
       "      <td>0.0</td>\n",
       "      <td>0.0</td>\n",
       "      <td>0.0</td>\n",
       "      <td>0.0</td>\n",
       "      <td>0.0</td>\n",
       "      <td>0.0</td>\n",
       "      <td>0.0</td>\n",
       "      <td>1.0</td>\n",
       "      <td>0.0</td>\n",
       "    </tr>\n",
       "    <tr>\n",
       "      <th>1</th>\n",
       "      <td>1</td>\n",
       "      <td>108590</td>\n",
       "      <td>0.0</td>\n",
       "      <td>0.0</td>\n",
       "      <td>0.0</td>\n",
       "      <td>0.0</td>\n",
       "      <td>0.0</td>\n",
       "      <td>0.0</td>\n",
       "      <td>0.0</td>\n",
       "      <td>0.0</td>\n",
       "      <td>...</td>\n",
       "      <td>0.0</td>\n",
       "      <td>0.0</td>\n",
       "      <td>0.0</td>\n",
       "      <td>0.0</td>\n",
       "      <td>0.0</td>\n",
       "      <td>0.0</td>\n",
       "      <td>0.0</td>\n",
       "      <td>1.0</td>\n",
       "      <td>1.0</td>\n",
       "      <td>0.0</td>\n",
       "    </tr>\n",
       "    <tr>\n",
       "      <th>2</th>\n",
       "      <td>1</td>\n",
       "      <td>5000</td>\n",
       "      <td>0.0</td>\n",
       "      <td>0.0</td>\n",
       "      <td>0.0</td>\n",
       "      <td>0.0</td>\n",
       "      <td>0.0</td>\n",
       "      <td>0.0</td>\n",
       "      <td>0.0</td>\n",
       "      <td>0.0</td>\n",
       "      <td>...</td>\n",
       "      <td>0.0</td>\n",
       "      <td>0.0</td>\n",
       "      <td>0.0</td>\n",
       "      <td>0.0</td>\n",
       "      <td>0.0</td>\n",
       "      <td>0.0</td>\n",
       "      <td>0.0</td>\n",
       "      <td>0.0</td>\n",
       "      <td>1.0</td>\n",
       "      <td>0.0</td>\n",
       "    </tr>\n",
       "    <tr>\n",
       "      <th>3</th>\n",
       "      <td>1</td>\n",
       "      <td>6692</td>\n",
       "      <td>0.0</td>\n",
       "      <td>0.0</td>\n",
       "      <td>0.0</td>\n",
       "      <td>0.0</td>\n",
       "      <td>0.0</td>\n",
       "      <td>0.0</td>\n",
       "      <td>0.0</td>\n",
       "      <td>0.0</td>\n",
       "      <td>...</td>\n",
       "      <td>1.0</td>\n",
       "      <td>0.0</td>\n",
       "      <td>0.0</td>\n",
       "      <td>0.0</td>\n",
       "      <td>0.0</td>\n",
       "      <td>0.0</td>\n",
       "      <td>0.0</td>\n",
       "      <td>0.0</td>\n",
       "      <td>1.0</td>\n",
       "      <td>0.0</td>\n",
       "    </tr>\n",
       "    <tr>\n",
       "      <th>4</th>\n",
       "      <td>1</td>\n",
       "      <td>142590</td>\n",
       "      <td>0.0</td>\n",
       "      <td>0.0</td>\n",
       "      <td>0.0</td>\n",
       "      <td>0.0</td>\n",
       "      <td>0.0</td>\n",
       "      <td>0.0</td>\n",
       "      <td>0.0</td>\n",
       "      <td>0.0</td>\n",
       "      <td>...</td>\n",
       "      <td>0.0</td>\n",
       "      <td>1.0</td>\n",
       "      <td>0.0</td>\n",
       "      <td>0.0</td>\n",
       "      <td>0.0</td>\n",
       "      <td>0.0</td>\n",
       "      <td>0.0</td>\n",
       "      <td>0.0</td>\n",
       "      <td>1.0</td>\n",
       "      <td>0.0</td>\n",
       "    </tr>\n",
       "    <tr>\n",
       "      <th>...</th>\n",
       "      <td>...</td>\n",
       "      <td>...</td>\n",
       "      <td>...</td>\n",
       "      <td>...</td>\n",
       "      <td>...</td>\n",
       "      <td>...</td>\n",
       "      <td>...</td>\n",
       "      <td>...</td>\n",
       "      <td>...</td>\n",
       "      <td>...</td>\n",
       "      <td>...</td>\n",
       "      <td>...</td>\n",
       "      <td>...</td>\n",
       "      <td>...</td>\n",
       "      <td>...</td>\n",
       "      <td>...</td>\n",
       "      <td>...</td>\n",
       "      <td>...</td>\n",
       "      <td>...</td>\n",
       "      <td>...</td>\n",
       "      <td>...</td>\n",
       "    </tr>\n",
       "    <tr>\n",
       "      <th>34294</th>\n",
       "      <td>1</td>\n",
       "      <td>5000</td>\n",
       "      <td>0.0</td>\n",
       "      <td>0.0</td>\n",
       "      <td>0.0</td>\n",
       "      <td>0.0</td>\n",
       "      <td>0.0</td>\n",
       "      <td>0.0</td>\n",
       "      <td>0.0</td>\n",
       "      <td>0.0</td>\n",
       "      <td>...</td>\n",
       "      <td>0.0</td>\n",
       "      <td>0.0</td>\n",
       "      <td>0.0</td>\n",
       "      <td>0.0</td>\n",
       "      <td>0.0</td>\n",
       "      <td>0.0</td>\n",
       "      <td>0.0</td>\n",
       "      <td>0.0</td>\n",
       "      <td>1.0</td>\n",
       "      <td>0.0</td>\n",
       "    </tr>\n",
       "    <tr>\n",
       "      <th>34295</th>\n",
       "      <td>1</td>\n",
       "      <td>5000</td>\n",
       "      <td>0.0</td>\n",
       "      <td>0.0</td>\n",
       "      <td>0.0</td>\n",
       "      <td>0.0</td>\n",
       "      <td>0.0</td>\n",
       "      <td>0.0</td>\n",
       "      <td>0.0</td>\n",
       "      <td>0.0</td>\n",
       "      <td>...</td>\n",
       "      <td>0.0</td>\n",
       "      <td>0.0</td>\n",
       "      <td>0.0</td>\n",
       "      <td>0.0</td>\n",
       "      <td>0.0</td>\n",
       "      <td>0.0</td>\n",
       "      <td>0.0</td>\n",
       "      <td>0.0</td>\n",
       "      <td>1.0</td>\n",
       "      <td>0.0</td>\n",
       "    </tr>\n",
       "    <tr>\n",
       "      <th>34296</th>\n",
       "      <td>1</td>\n",
       "      <td>5000</td>\n",
       "      <td>0.0</td>\n",
       "      <td>0.0</td>\n",
       "      <td>0.0</td>\n",
       "      <td>0.0</td>\n",
       "      <td>0.0</td>\n",
       "      <td>0.0</td>\n",
       "      <td>0.0</td>\n",
       "      <td>0.0</td>\n",
       "      <td>...</td>\n",
       "      <td>0.0</td>\n",
       "      <td>0.0</td>\n",
       "      <td>0.0</td>\n",
       "      <td>0.0</td>\n",
       "      <td>0.0</td>\n",
       "      <td>0.0</td>\n",
       "      <td>0.0</td>\n",
       "      <td>0.0</td>\n",
       "      <td>1.0</td>\n",
       "      <td>0.0</td>\n",
       "    </tr>\n",
       "    <tr>\n",
       "      <th>34297</th>\n",
       "      <td>1</td>\n",
       "      <td>5000</td>\n",
       "      <td>0.0</td>\n",
       "      <td>0.0</td>\n",
       "      <td>0.0</td>\n",
       "      <td>0.0</td>\n",
       "      <td>0.0</td>\n",
       "      <td>0.0</td>\n",
       "      <td>0.0</td>\n",
       "      <td>0.0</td>\n",
       "      <td>...</td>\n",
       "      <td>0.0</td>\n",
       "      <td>0.0</td>\n",
       "      <td>0.0</td>\n",
       "      <td>0.0</td>\n",
       "      <td>0.0</td>\n",
       "      <td>0.0</td>\n",
       "      <td>0.0</td>\n",
       "      <td>0.0</td>\n",
       "      <td>1.0</td>\n",
       "      <td>0.0</td>\n",
       "    </tr>\n",
       "    <tr>\n",
       "      <th>34298</th>\n",
       "      <td>1</td>\n",
       "      <td>36500179</td>\n",
       "      <td>0.0</td>\n",
       "      <td>0.0</td>\n",
       "      <td>0.0</td>\n",
       "      <td>0.0</td>\n",
       "      <td>0.0</td>\n",
       "      <td>0.0</td>\n",
       "      <td>0.0</td>\n",
       "      <td>0.0</td>\n",
       "      <td>...</td>\n",
       "      <td>0.0</td>\n",
       "      <td>0.0</td>\n",
       "      <td>0.0</td>\n",
       "      <td>1.0</td>\n",
       "      <td>0.0</td>\n",
       "      <td>0.0</td>\n",
       "      <td>0.0</td>\n",
       "      <td>0.0</td>\n",
       "      <td>1.0</td>\n",
       "      <td>0.0</td>\n",
       "    </tr>\n",
       "  </tbody>\n",
       "</table>\n",
       "<p>34299 rows × 163 columns</p>\n",
       "</div>"
      ],
      "text/plain": [
       "       STATUS   ASK_AMT  NAME_AIR FORCE ASSOCIATION  \\\n",
       "0           1      5000                         0.0   \n",
       "1           1    108590                         0.0   \n",
       "2           1      5000                         0.0   \n",
       "3           1      6692                         0.0   \n",
       "4           1    142590                         0.0   \n",
       "...       ...       ...                         ...   \n",
       "34294       1      5000                         0.0   \n",
       "34295       1      5000                         0.0   \n",
       "34296       1      5000                         0.0   \n",
       "34297       1      5000                         0.0   \n",
       "34298       1  36500179                         0.0   \n",
       "\n",
       "       NAME_ALABAMA FEDERATION OF WOMENS CLUBS  \\\n",
       "0                                          0.0   \n",
       "1                                          0.0   \n",
       "2                                          0.0   \n",
       "3                                          0.0   \n",
       "4                                          0.0   \n",
       "...                                        ...   \n",
       "34294                                      0.0   \n",
       "34295                                      0.0   \n",
       "34296                                      0.0   \n",
       "34297                                      0.0   \n",
       "34298                                      0.0   \n",
       "\n",
       "       NAME_ALABAMA TREASURE FOREST ASSOCIATION  NAME_ALPHA PHI SIGMA  \\\n",
       "0                                           0.0                   0.0   \n",
       "1                                           0.0                   0.0   \n",
       "2                                           0.0                   0.0   \n",
       "3                                           0.0                   0.0   \n",
       "4                                           0.0                   0.0   \n",
       "...                                         ...                   ...   \n",
       "34294                                       0.0                   0.0   \n",
       "34295                                       0.0                   0.0   \n",
       "34296                                       0.0                   0.0   \n",
       "34297                                       0.0                   0.0   \n",
       "34298                                       0.0                   0.0   \n",
       "\n",
       "       NAME_ALPHA PHI SIGMA INC  NAME_ALTRUSA INTERNATIONAL FOUNDATION INC  \\\n",
       "0                           0.0                                        0.0   \n",
       "1                           0.0                                        0.0   \n",
       "2                           0.0                                        0.0   \n",
       "3                           0.0                                        0.0   \n",
       "4                           0.0                                        0.0   \n",
       "...                         ...                                        ...   \n",
       "34294                       0.0                                        0.0   \n",
       "34295                       0.0                                        0.0   \n",
       "34296                       0.0                                        0.0   \n",
       "34297                       0.0                                        0.0   \n",
       "34298                       0.0                                        0.0   \n",
       "\n",
       "       NAME_AMATEUR ATHLETIC UNION OF THE UNITED STATES  \\\n",
       "0                                                   0.0   \n",
       "1                                                   0.0   \n",
       "2                                                   0.0   \n",
       "3                                                   0.0   \n",
       "4                                                   0.0   \n",
       "...                                                 ...   \n",
       "34294                                               0.0   \n",
       "34295                                               0.0   \n",
       "34296                                               0.0   \n",
       "34297                                               0.0   \n",
       "34298                                               0.0   \n",
       "\n",
       "       NAME_AMATEUR ATHLETIC UNION OF THE UNITED STATES INC  ...  \\\n",
       "0                                                    0.0     ...   \n",
       "1                                                    0.0     ...   \n",
       "2                                                    0.0     ...   \n",
       "3                                                    0.0     ...   \n",
       "4                                                    0.0     ...   \n",
       "...                                                  ...     ...   \n",
       "34294                                                0.0     ...   \n",
       "34295                                                0.0     ...   \n",
       "34296                                                0.0     ...   \n",
       "34297                                                0.0     ...   \n",
       "34298                                                0.0     ...   \n",
       "\n",
       "       INCOME_AMT_10000-24999  INCOME_AMT_100000-499999  INCOME_AMT_10M-50M  \\\n",
       "0                         0.0                       0.0                 0.0   \n",
       "1                         0.0                       0.0                 0.0   \n",
       "2                         0.0                       0.0                 0.0   \n",
       "3                         1.0                       0.0                 0.0   \n",
       "4                         0.0                       1.0                 0.0   \n",
       "...                       ...                       ...                 ...   \n",
       "34294                     0.0                       0.0                 0.0   \n",
       "34295                     0.0                       0.0                 0.0   \n",
       "34296                     0.0                       0.0                 0.0   \n",
       "34297                     0.0                       0.0                 0.0   \n",
       "34298                     0.0                       0.0                 0.0   \n",
       "\n",
       "       INCOME_AMT_1M-5M  INCOME_AMT_25000-99999  INCOME_AMT_50M+  \\\n",
       "0                   0.0                     0.0              0.0   \n",
       "1                   0.0                     0.0              0.0   \n",
       "2                   0.0                     0.0              0.0   \n",
       "3                   0.0                     0.0              0.0   \n",
       "4                   0.0                     0.0              0.0   \n",
       "...                 ...                     ...              ...   \n",
       "34294               0.0                     0.0              0.0   \n",
       "34295               0.0                     0.0              0.0   \n",
       "34296               0.0                     0.0              0.0   \n",
       "34297               0.0                     0.0              0.0   \n",
       "34298               1.0                     0.0              0.0   \n",
       "\n",
       "       INCOME_AMT_5M-10M  INCOME_AMT_Jan-99  SPECIAL_CONSIDERATIONS_N  \\\n",
       "0                    0.0                0.0                       1.0   \n",
       "1                    0.0                1.0                       1.0   \n",
       "2                    0.0                0.0                       1.0   \n",
       "3                    0.0                0.0                       1.0   \n",
       "4                    0.0                0.0                       1.0   \n",
       "...                  ...                ...                       ...   \n",
       "34294                0.0                0.0                       1.0   \n",
       "34295                0.0                0.0                       1.0   \n",
       "34296                0.0                0.0                       1.0   \n",
       "34297                0.0                0.0                       1.0   \n",
       "34298                0.0                0.0                       1.0   \n",
       "\n",
       "       SPECIAL_CONSIDERATIONS_Y  \n",
       "0                           0.0  \n",
       "1                           0.0  \n",
       "2                           0.0  \n",
       "3                           0.0  \n",
       "4                           0.0  \n",
       "...                         ...  \n",
       "34294                       0.0  \n",
       "34295                       0.0  \n",
       "34296                       0.0  \n",
       "34297                       0.0  \n",
       "34298                       0.0  \n",
       "\n",
       "[34299 rows x 163 columns]"
      ]
     },
     "execution_count": 32,
     "metadata": {},
     "output_type": "execute_result"
    }
   ],
   "source": [
    "X= application_df.drop([\"IS_SUCCESSFUL\"], axis=1)\n",
    "X"
   ]
  },
  {
   "cell_type": "code",
   "execution_count": 33,
   "id": "3fc52b94-1737-4bf4-8a5d-0f88d4e43704",
   "metadata": {},
   "outputs": [
    {
     "data": {
      "text/plain": [
       "Index(['STATUS', 'ASK_AMT', 'NAME_AIR FORCE ASSOCIATION',\n",
       "       'NAME_ALABAMA FEDERATION OF WOMENS CLUBS',\n",
       "       'NAME_ALABAMA TREASURE FOREST ASSOCIATION', 'NAME_ALPHA PHI SIGMA',\n",
       "       'NAME_ALPHA PHI SIGMA INC', 'NAME_ALTRUSA INTERNATIONAL FOUNDATION INC',\n",
       "       'NAME_AMATEUR ATHLETIC UNION OF THE UNITED STATES',\n",
       "       'NAME_AMATEUR ATHLETIC UNION OF THE UNITED STATES INC',\n",
       "       ...\n",
       "       'INCOME_AMT_10000-24999', 'INCOME_AMT_100000-499999',\n",
       "       'INCOME_AMT_10M-50M', 'INCOME_AMT_1M-5M', 'INCOME_AMT_25000-99999',\n",
       "       'INCOME_AMT_50M+', 'INCOME_AMT_5M-10M', 'INCOME_AMT_Jan-99',\n",
       "       'SPECIAL_CONSIDERATIONS_N', 'SPECIAL_CONSIDERATIONS_Y'],\n",
       "      dtype='object', length=163)"
      ]
     },
     "execution_count": 33,
     "metadata": {},
     "output_type": "execute_result"
    }
   ],
   "source": [
    "# Note columns will be used in visualizing results below\n",
    "columns = X.columns\n",
    "columns"
   ]
  },
  {
   "cell_type": "code",
   "execution_count": 34,
   "id": "68e971de-9db2-41c0-958b-dff9dbc1392f",
   "metadata": {},
   "outputs": [],
   "source": [
    "X = X.values"
   ]
  },
  {
   "cell_type": "code",
   "execution_count": 35,
   "id": "3d6e3115-b509-4d17-88e9-aa9fbd7c6f5d",
   "metadata": {},
   "outputs": [],
   "source": [
    "# Split the preprocessed data into a training and testing dataset\n",
    "X_train, X_test, y_train, y_test = train_test_split(X, y, random_state=78)"
   ]
  },
  {
   "cell_type": "code",
   "execution_count": 36,
   "id": "e4a02485-fffe-4957-a2f2-6246be836ec3",
   "metadata": {},
   "outputs": [],
   "source": [
    "# Create a StandardScaler instances\n",
    "scaler = StandardScaler()\n",
    "\n",
    "# Fit the StandardScaler\n",
    "X_scaler = scaler.fit(X_train)\n",
    "\n",
    "# Scale the data\n",
    "X_train_scaled = X_scaler.transform(X_train)\n",
    "X_test_scaled = X_scaler.transform(X_test)"
   ]
  },
  {
   "cell_type": "code",
   "execution_count": 38,
   "id": "6b5b8999-bd59-414b-a6d8-1a0815d4da92",
   "metadata": {},
   "outputs": [
    {
     "data": {
      "text/plain": [
       "array([[ 0.01394306, -0.03348439, -0.05407486, ..., -0.14849557,\n",
       "         0.02789425, -0.02789425],\n",
       "       [ 0.01394306, -0.03348439, -0.05407486, ..., -0.14849557,\n",
       "         0.02789425, -0.02789425],\n",
       "       [ 0.01394306, -0.03348439, -0.05407486, ..., -0.14849557,\n",
       "         0.02789425, -0.02789425],\n",
       "       ...,\n",
       "       [ 0.01394306, -0.03229417, -0.05407486, ..., -0.14849557,\n",
       "         0.02789425, -0.02789425],\n",
       "       [ 0.01394306, -0.03348439, -0.05407486, ..., -0.14849557,\n",
       "         0.02789425, -0.02789425],\n",
       "       [ 0.01394306, -0.01093629, -0.05407486, ..., -0.14849557,\n",
       "         0.02789425, -0.02789425]])"
      ]
     },
     "execution_count": 38,
     "metadata": {},
     "output_type": "execute_result"
    }
   ],
   "source": [
    "# examine the result of StandardScaler\n",
    "X_train_scaled\n",
    "\n",
    "# note values now between -1 and 1\n",
    "# this is important to note when selecting an activation function later"
   ]
  },
  {
   "cell_type": "code",
   "execution_count": 40,
   "id": "5c2d6d05-94d1-48d0-b839-619d5de6e987",
   "metadata": {},
   "outputs": [
    {
     "data": {
      "text/plain": [
       "163"
      ]
     },
     "execution_count": 40,
     "metadata": {},
     "output_type": "execute_result"
    }
   ],
   "source": [
    "# check the number of features in X\n",
    "len(X_train[0])\n",
    "\n",
    "# note this is important to note when selecting the number of neurons in a layer"
   ]
  },
  {
   "cell_type": "markdown",
   "id": "7b1812b7-41b1-4f7c-a1af-d47ff0a02b5d",
   "metadata": {},
   "source": [
    "### Add More Neurons and Hidden Layers\n",
    "Some of the advantages follow:\n",
    "\n",
    "* There is a distributed effort to find optimal weights—faster.\n",
    "* Each neuron can focus on different features to identify nonlinear effects—smarter.\n",
    "* It is less likely to fixate on complex variables—more robust.\n",
    "\n",
    "A good rule of thumb for a basic neural network\n",
    "is to have two to three times the amount of neurons in the hidden layer as the number of inputs.\n",
    "\n",
    "### Use a Different Activation Function\n",
    "\n",
    "It is important to use an activation function that matches the complexity of the input data. If we wanted to rank the four most-used activation functions by data complexity and ideal use case, the order would be as follows:\n",
    "\n",
    "* The sigmoid function values are normalized to a probability between 0 and 1, which is ideal for binary classification (like our output layer).\n",
    "* The tanh function can be used for classification or regression, and it expands the range between -1 and 1 (this is the range of our scaled data).\n",
    "* The ReLU function is ideal for looking at positive nonlinear input data for classification or regression.\n",
    "* The Leaky ReLU function is a good alternative for nonlinear input data with many negative inputs.\n",
    "\n",
    "Based on the values in X_train_scaled I will change the activation= \"tanh\"\n"
   ]
  },
  {
   "cell_type": "code",
   "execution_count": 41,
   "id": "5d5dcc73-48f8-4b93-bf8b-9b9706beb83e",
   "metadata": {},
   "outputs": [
    {
     "name": "stdout",
     "output_type": "stream",
     "text": [
      "Model: \"sequential\"\n",
      "_________________________________________________________________\n",
      "Layer (type)                 Output Shape              Param #   \n",
      "=================================================================\n",
      "dense (Dense)                (None, 326)               53464     \n",
      "_________________________________________________________________\n",
      "dense_1 (Dense)              (None, 163)               53301     \n",
      "_________________________________________________________________\n",
      "dense_2 (Dense)              (None, 81)                13284     \n",
      "_________________________________________________________________\n",
      "dense_3 (Dense)              (None, 1)                 82        \n",
      "=================================================================\n",
      "Total params: 120,131\n",
      "Trainable params: 120,131\n",
      "Non-trainable params: 0\n",
      "_________________________________________________________________\n"
     ]
    }
   ],
   "source": [
    "# Define the model - deep neural net, i.e., the number of input features and hidden nodes for each layer.\n",
    "# this is done using the classes within the Keras module\n",
    "number_input_features = X_train.shape[1]\n",
    "hidden_nodes_layer1 = (number_input_features * 2)\n",
    "hidden_nodes_layer2 = (number_input_features * 1)\n",
    "hidden_nodes_layer3 = (number_input_features * 0.50)\n",
    "\n",
    "nn_optimized = tf.keras.models.Sequential()\n",
    "\n",
    "# First hidden layer\n",
    "nn_optimized.add(\n",
    "    tf.keras.layers.Dense(\n",
    "        units=hidden_nodes_layer1, \n",
    "        input_dim=number_input_features, \n",
    "        activation=\"tanh\")\n",
    ")\n",
    "\n",
    "# Second hidden layer\n",
    "nn_optimized.add(tf.keras.layers.Dense(\n",
    "    units=hidden_nodes_layer2, \n",
    "    activation=\"tanh\")\n",
    ")\n",
    "\n",
    "# third hidden layer\n",
    "nn_optimized.add(tf.keras.layers.Dense(\n",
    "    units=hidden_nodes_layer3,\n",
    "    activation=\"tanh\"\n",
    "))\n",
    "\n",
    "# Output layer\n",
    "nn_optimized.add(tf.keras.layers.Dense(\n",
    "    units=1, \n",
    "    activation=\"sigmoid\"\n",
    "))\n",
    "\n",
    "# Check the structure of the model\n",
    "nn_optimized.summary()"
   ]
  },
  {
   "cell_type": "markdown",
   "id": "0afb8d4a-3ae8-4eec-9f88-ac93d4abe02a",
   "metadata": {},
   "source": [
    "Now that we have our training data ready, we can implement checkpoints to our deep learning model.\n",
    "\n",
    "Now that we have our training data and our model defined, we're ready to compile and train our model using checkpoints. To use checkpoints, we need to define the checkpoint file name and directory path. For our purposes, we'll label our checkpoints by epoch number and contain them within their own folder. This ensures that our checkpoint files are neat, organized, and easily identifiable. Add and run the following code to our notebook:"
   ]
  },
  {
   "cell_type": "code",
   "execution_count": 42,
   "id": "b4725886-510c-4085-8fe5-ba5215f33b0d",
   "metadata": {},
   "outputs": [],
   "source": [
    "# Import checkpoint dependencies\n",
    "import os\n",
    "from tensorflow.keras.callbacks import ModelCheckpoint\n",
    "\n",
    "# Define the checkpoint path and filenames\n",
    "os.makedirs(\"optimized_checkpoints/\",exist_ok=True)\n",
    "checkpoint_path = \"optimized_checkpoints/weights.{epoch:02d}.hdf5\""
   ]
  },
  {
   "cell_type": "markdown",
   "id": "809261a0-c2ee-4781-b475-cf57ecf109c8",
   "metadata": {},
   "source": [
    "Once we have defined the file structure and filepath, we need to create a callback object for our deep learning model. A callback object is used in the Keras module to define a set of functions that will be applied at specific stages of the training process.There are a number of different callback functions available that can create log files, force training to stop, send training status messages, or in our case save model checkpoints. To create an effective checkpoint callback using the ModelCheckpoint method, we need to provide the following parameters:\n",
    "\n",
    "* filepath=checkpoint_path—the checkpoint directory and file structure we defined previously\n",
    "* verbose=1—we'll be notified when a checkpoint is being saved to the directory\n",
    "* save_weights_only=True—saving the full model each time can fill up a hard drive very quickly; this ensures that the checkpoint files take up minimal space\n",
    "* save_freq=1000—checkpoints will be saved every thousand samples tested (across all epochs)\n",
    "\n",
    "Bringing it all together, we can compile, train, and evaluate our deep learning model by adding and running the following code:"
   ]
  },
  {
   "cell_type": "markdown",
   "id": "7a72dc5d-1632-4ed7-bb21-bed9921a42ce",
   "metadata": {},
   "source": [
    "Now it is time to compile our model and define the loss and accuracy metrics. Since we want to use our model as a binary classifier, we'll use the binary_crossentropy loss function, adam optimizer, and accuracy metrics. To compile the model, add and run the following code:"
   ]
  },
  {
   "cell_type": "code",
   "execution_count": 43,
   "id": "0ad829e1-3fd9-47a3-b5cb-bbab16194a2c",
   "metadata": {},
   "outputs": [],
   "source": [
    "# Compile the model\n",
    "nn_optimized.compile(loss=\"binary_crossentropy\", optimizer=\"adam\", metrics=[\"accuracy\"])"
   ]
  },
  {
   "cell_type": "code",
   "execution_count": 44,
   "id": "6b37e384-9db5-4355-b9d1-75f793e7b0e2",
   "metadata": {},
   "outputs": [],
   "source": [
    "# creat a callback that saves the model's weights every 5 epochs\n",
    "cp_callback = ModelCheckpoint(\n",
    "    filepath=checkpoint_path,\n",
    "    verbose= 1,\n",
    "    save_weights_only=True,\n",
    "    save_freq=1000\n",
    ")    "
   ]
  },
  {
   "cell_type": "code",
   "execution_count": 45,
   "id": "168c2296-c303-4d4d-8b60-75c063947add",
   "metadata": {},
   "outputs": [
    {
     "name": "stdout",
     "output_type": "stream",
     "text": [
      "Epoch 1/100\n",
      "804/804 [==============================] - 2s 2ms/step - loss: 0.4865 - accuracy: 0.7600\n",
      "Epoch 2/100\n",
      "804/804 [==============================] - 1s 1ms/step - loss: 0.4644 - accuracy: 0.7713\n",
      "Epoch 3/100\n",
      "804/804 [==============================] - 1s 2ms/step - loss: 0.4586 - accuracy: 0.7744\n",
      "Epoch 4/100\n",
      "804/804 [==============================] - 1s 1ms/step - loss: 0.4567 - accuracy: 0.7757\n",
      "Epoch 5/100\n",
      "804/804 [==============================] - 1s 2ms/step - loss: 0.4547 - accuracy: 0.7770\n",
      "Epoch 6/100\n",
      "804/804 [==============================] - 1s 2ms/step - loss: 0.4536 - accuracy: 0.7775\n",
      "Epoch 7/100\n",
      "804/804 [==============================] - 1s 2ms/step - loss: 0.4521 - accuracy: 0.7780\n",
      "Epoch 8/100\n",
      "804/804 [==============================] - 1s 2ms/step - loss: 0.4517 - accuracy: 0.7785\n",
      "Epoch 9/100\n",
      "804/804 [==============================] - 1s 2ms/step - loss: 0.4509 - accuracy: 0.7806\n",
      "Epoch 10/100\n",
      "804/804 [==============================] - 1s 2ms/step - loss: 0.4487 - accuracy: 0.7824\n",
      "Epoch 11/100\n",
      "804/804 [==============================] - 1s 2ms/step - loss: 0.4486 - accuracy: 0.7805\n",
      "Epoch 12/100\n",
      "804/804 [==============================] - 1s 2ms/step - loss: 0.4475 - accuracy: 0.7827\n",
      "Epoch 13/100\n",
      "804/804 [==============================] - 1s 2ms/step - loss: 0.4458 - accuracy: 0.7823\n",
      "Epoch 14/100\n",
      "804/804 [==============================] - 1s 2ms/step - loss: 0.4458 - accuracy: 0.7822\n",
      "Epoch 15/100\n",
      "804/804 [==============================] - 1s 2ms/step - loss: 0.4457 - accuracy: 0.7830\n",
      "Epoch 16/100\n",
      "804/804 [==============================] - 1s 2ms/step - loss: 0.4445 - accuracy: 0.7840\n",
      "Epoch 17/100\n",
      "804/804 [==============================] - 1s 2ms/step - loss: 0.4440 - accuracy: 0.7854\n",
      "Epoch 18/100\n",
      "804/804 [==============================] - 1s 2ms/step - loss: 0.4441 - accuracy: 0.7831\n",
      "Epoch 19/100\n",
      "804/804 [==============================] - 1s 2ms/step - loss: 0.4428 - accuracy: 0.7842\n",
      "Epoch 20/100\n",
      "804/804 [==============================] - 1s 2ms/step - loss: 0.4426 - accuracy: 0.7842\n",
      "Epoch 21/100\n",
      "804/804 [==============================] - 1s 2ms/step - loss: 0.4417 - accuracy: 0.7851\n",
      "Epoch 22/100\n",
      "804/804 [==============================] - 1s 2ms/step - loss: 0.4420 - accuracy: 0.7829\n",
      "Epoch 23/100\n",
      "804/804 [==============================] - 2s 2ms/step - loss: 0.4416 - accuracy: 0.7855\n",
      "Epoch 24/100\n",
      "804/804 [==============================] - 2s 2ms/step - loss: 0.4409 - accuracy: 0.7851\n",
      "Epoch 25/100\n",
      "804/804 [==============================] - 2s 2ms/step - loss: 0.4411 - accuracy: 0.7848\n",
      "Epoch 26/100\n",
      "804/804 [==============================] - 2s 2ms/step - loss: 0.4400 - accuracy: 0.7868\n",
      "Epoch 27/100\n",
      "804/804 [==============================] - 2s 2ms/step - loss: 0.4402 - accuracy: 0.7863\n",
      "Epoch 28/100\n",
      "804/804 [==============================] - 1s 2ms/step - loss: 0.4394 - accuracy: 0.7851\n",
      "Epoch 29/100\n",
      "804/804 [==============================] - 2s 2ms/step - loss: 0.4394 - accuracy: 0.7860\n",
      "Epoch 30/100\n",
      "804/804 [==============================] - 2s 2ms/step - loss: 0.4387 - accuracy: 0.7860\n",
      "Epoch 31/100\n",
      "804/804 [==============================] - 1s 2ms/step - loss: 0.4380 - accuracy: 0.7875\n",
      "Epoch 32/100\n",
      "804/804 [==============================] - 1s 2ms/step - loss: 0.4387 - accuracy: 0.7877\n",
      "Epoch 33/100\n",
      "804/804 [==============================] - 1s 2ms/step - loss: 0.4384 - accuracy: 0.7874\n",
      "Epoch 34/100\n",
      "804/804 [==============================] - 1s 2ms/step - loss: 0.4382 - accuracy: 0.7853\n",
      "Epoch 35/100\n",
      "804/804 [==============================] - 1s 2ms/step - loss: 0.4386 - accuracy: 0.7874\n",
      "Epoch 36/100\n",
      "804/804 [==============================] - 2s 2ms/step - loss: 0.4374 - accuracy: 0.7862\n",
      "Epoch 37/100\n",
      "804/804 [==============================] - 2s 3ms/step - loss: 0.4376 - accuracy: 0.7866\n",
      "Epoch 38/100\n",
      "804/804 [==============================] - 2s 2ms/step - loss: 0.4382 - accuracy: 0.7876\n",
      "Epoch 39/100\n",
      "804/804 [==============================] - 2s 2ms/step - loss: 0.4371 - accuracy: 0.7872\n",
      "Epoch 40/100\n",
      "804/804 [==============================] - 2s 2ms/step - loss: 0.4370 - accuracy: 0.7870\n",
      "Epoch 41/100\n",
      "804/804 [==============================] - 2s 2ms/step - loss: 0.4376 - accuracy: 0.7869\n",
      "Epoch 42/100\n",
      "804/804 [==============================] - 2s 2ms/step - loss: 0.4370 - accuracy: 0.7868\n",
      "Epoch 43/100\n",
      "804/804 [==============================] - 2s 2ms/step - loss: 0.4361 - accuracy: 0.7882\n",
      "Epoch 44/100\n",
      "804/804 [==============================] - 2s 2ms/step - loss: 0.4362 - accuracy: 0.7874\n",
      "Epoch 45/100\n",
      "804/804 [==============================] - 2s 2ms/step - loss: 0.4360 - accuracy: 0.7888\n",
      "Epoch 46/100\n",
      "804/804 [==============================] - 2s 2ms/step - loss: 0.4362 - accuracy: 0.7874\n",
      "Epoch 47/100\n",
      "804/804 [==============================] - 2s 2ms/step - loss: 0.4363 - accuracy: 0.7875\n",
      "Epoch 48/100\n",
      "804/804 [==============================] - 2s 2ms/step - loss: 0.4366 - accuracy: 0.7880\n",
      "Epoch 49/100\n",
      "804/804 [==============================] - 2s 2ms/step - loss: 0.4366 - accuracy: 0.7875\n",
      "Epoch 50/100\n",
      "804/804 [==============================] - 1s 2ms/step - loss: 0.4366 - accuracy: 0.7865\n",
      "Epoch 51/100\n",
      "804/804 [==============================] - 2s 2ms/step - loss: 0.4356 - accuracy: 0.7893\n",
      "Epoch 52/100\n",
      "804/804 [==============================] - 1s 2ms/step - loss: 0.4355 - accuracy: 0.7883\n",
      "Epoch 53/100\n",
      "804/804 [==============================] - 1s 2ms/step - loss: 0.4362 - accuracy: 0.7882\n",
      "Epoch 54/100\n",
      "804/804 [==============================] - 1s 2ms/step - loss: 0.4353 - accuracy: 0.7863\n",
      "Epoch 55/100\n",
      "804/804 [==============================] - 1s 2ms/step - loss: 0.4361 - accuracy: 0.7879\n",
      "Epoch 56/100\n",
      "804/804 [==============================] - 2s 2ms/step - loss: 0.4351 - accuracy: 0.7875\n",
      "Epoch 57/100\n",
      "804/804 [==============================] - 1s 2ms/step - loss: 0.4352 - accuracy: 0.7883\n",
      "Epoch 58/100\n",
      "804/804 [==============================] - 2s 2ms/step - loss: 0.4347 - accuracy: 0.7880\n",
      "Epoch 59/100\n",
      "804/804 [==============================] - 2s 2ms/step - loss: 0.4349 - accuracy: 0.7881\n",
      "Epoch 60/100\n",
      "804/804 [==============================] - 2s 2ms/step - loss: 0.4347 - accuracy: 0.7893\n",
      "Epoch 61/100\n",
      "804/804 [==============================] - 2s 2ms/step - loss: 0.4349 - accuracy: 0.7884\n",
      "Epoch 62/100\n",
      "804/804 [==============================] - 2s 2ms/step - loss: 0.4349 - accuracy: 0.7882\n",
      "Epoch 63/100\n",
      "804/804 [==============================] - 2s 2ms/step - loss: 0.4350 - accuracy: 0.7882\n",
      "Epoch 64/100\n",
      "804/804 [==============================] - 2s 2ms/step - loss: 0.4351 - accuracy: 0.7881\n",
      "Epoch 65/100\n",
      "804/804 [==============================] - 2s 2ms/step - loss: 0.4340 - accuracy: 0.7887\n",
      "Epoch 66/100\n",
      "804/804 [==============================] - 2s 2ms/step - loss: 0.4336 - accuracy: 0.7887\n",
      "Epoch 67/100\n",
      "804/804 [==============================] - 2s 2ms/step - loss: 0.4341 - accuracy: 0.7888\n",
      "Epoch 68/100\n",
      "804/804 [==============================] - 2s 2ms/step - loss: 0.4342 - accuracy: 0.7894\n",
      "Epoch 69/100\n",
      "804/804 [==============================] - 2s 2ms/step - loss: 0.4339 - accuracy: 0.7889\n",
      "Epoch 70/100\n",
      "804/804 [==============================] - 2s 2ms/step - loss: 0.4341 - accuracy: 0.7890\n",
      "Epoch 71/100\n",
      "804/804 [==============================] - 2s 2ms/step - loss: 0.4340 - accuracy: 0.7886\n",
      "Epoch 72/100\n",
      "804/804 [==============================] - 1s 2ms/step - loss: 0.4336 - accuracy: 0.7888\n",
      "Epoch 73/100\n",
      "804/804 [==============================] - 1s 2ms/step - loss: 0.4342 - accuracy: 0.7888\n",
      "Epoch 74/100\n",
      "804/804 [==============================] - 2s 2ms/step - loss: 0.4336 - accuracy: 0.7888\n",
      "Epoch 75/100\n",
      "804/804 [==============================] - 2s 2ms/step - loss: 0.4334 - accuracy: 0.7894\n",
      "Epoch 76/100\n",
      "804/804 [==============================] - 2s 2ms/step - loss: 0.4345 - accuracy: 0.7884\n",
      "Epoch 77/100\n",
      "804/804 [==============================] - 2s 2ms/step - loss: 0.4343 - accuracy: 0.7893\n",
      "Epoch 78/100\n",
      "804/804 [==============================] - 2s 2ms/step - loss: 0.4338 - accuracy: 0.7895\n",
      "Epoch 79/100\n",
      "804/804 [==============================] - 1s 2ms/step - loss: 0.4334 - accuracy: 0.7890\n",
      "Epoch 80/100\n",
      "804/804 [==============================] - 1s 2ms/step - loss: 0.4339 - accuracy: 0.7884\n",
      "Epoch 81/100\n",
      "804/804 [==============================] - 1s 2ms/step - loss: 0.4339 - accuracy: 0.7889\n",
      "Epoch 82/100\n",
      "804/804 [==============================] - 1s 2ms/step - loss: 0.4342 - accuracy: 0.7881\n",
      "Epoch 83/100\n",
      "804/804 [==============================] - 1s 2ms/step - loss: 0.4342 - accuracy: 0.7880\n",
      "Epoch 84/100\n",
      "804/804 [==============================] - 2s 2ms/step - loss: 0.4337 - accuracy: 0.7872\n",
      "Epoch 85/100\n",
      "804/804 [==============================] - 2s 2ms/step - loss: 0.4336 - accuracy: 0.7891\n",
      "Epoch 86/100\n",
      "804/804 [==============================] - 2s 2ms/step - loss: 0.4336 - accuracy: 0.7892\n",
      "Epoch 87/100\n",
      "804/804 [==============================] - 2s 2ms/step - loss: 0.4336 - accuracy: 0.7894\n",
      "Epoch 88/100\n",
      "804/804 [==============================] - 1s 2ms/step - loss: 0.4333 - accuracy: 0.7895\n",
      "Epoch 89/100\n",
      "804/804 [==============================] - 1s 2ms/step - loss: 0.4340 - accuracy: 0.7893\n",
      "Epoch 90/100\n",
      "804/804 [==============================] - 1s 2ms/step - loss: 0.4332 - accuracy: 0.7898\n",
      "Epoch 91/100\n",
      "804/804 [==============================] - 1s 2ms/step - loss: 0.4338 - accuracy: 0.7897\n",
      "Epoch 92/100\n",
      "804/804 [==============================] - 1s 2ms/step - loss: 0.4334 - accuracy: 0.7886\n",
      "Epoch 93/100\n",
      "804/804 [==============================] - 1s 2ms/step - loss: 0.4337 - accuracy: 0.7891\n",
      "Epoch 94/100\n",
      "804/804 [==============================] - 1s 2ms/step - loss: 0.4333 - accuracy: 0.7897\n",
      "Epoch 95/100\n",
      "804/804 [==============================] - 1s 2ms/step - loss: 0.4335 - accuracy: 0.7889\n",
      "Epoch 96/100\n",
      "804/804 [==============================] - 1s 2ms/step - loss: 0.4341 - accuracy: 0.7884\n",
      "Epoch 97/100\n",
      "804/804 [==============================] - 2s 2ms/step - loss: 0.4340 - accuracy: 0.7888\n",
      "Epoch 98/100\n",
      "804/804 [==============================] - 2s 2ms/step - loss: 0.4340 - accuracy: 0.7897\n",
      "Epoch 99/100\n",
      "804/804 [==============================] - 1s 2ms/step - loss: 0.4339 - accuracy: 0.7890\n",
      "Epoch 100/100\n",
      "804/804 [==============================] - 1s 2ms/step - loss: 0.4337 - accuracy: 0.7896\n"
     ]
    }
   ],
   "source": [
    "# Train the model\n",
    "fit_model = nn_optimized.fit(X_train_scaled,y_train,epochs=100)"
   ]
  },
  {
   "cell_type": "code",
   "execution_count": 46,
   "id": "4381cc0a-d192-480a-9c20-5f723e49ad9a",
   "metadata": {},
   "outputs": [
    {
     "name": "stdout",
     "output_type": "stream",
     "text": [
      "268/268 - 0s - loss: 0.4734 - accuracy: 0.7724\n",
      "Loss: 0.4733826816082001, Accuracy: 0.7723615169525146\n"
     ]
    }
   ],
   "source": [
    "# Evaluate the model using the test data\n",
    "model_loss, model_accuracy = nn_optimized.evaluate(X_test_scaled,y_test,verbose=2)\n",
    "print(f\"Loss: {model_loss}, Accuracy: {model_accuracy}\")"
   ]
  },
  {
   "cell_type": "code",
   "execution_count": 47,
   "id": "01fc4115-d969-4efe-a74f-7ceb66c1739a",
   "metadata": {},
   "outputs": [
    {
     "data": {
      "text/plain": [
       "<AxesSubplot:>"
      ]
     },
     "execution_count": 47,
     "metadata": {},
     "output_type": "execute_result"
    },
    {
     "data": {
      "image/png": "[encoded data removed]",
      "text/plain": [
       "<Figure size 432x288 with 1 Axes>"
      ]
     },
     "metadata": {},
     "output_type": "display_data"
    }
   ],
   "source": [
    "# Create a DataFrame containing training history\n",
    "history_df = pd.DataFrame(fit_model.history, index=range(1,len(fit_model.history[\"loss\"])+1))\n",
    "\n",
    "# Plot the loss\n",
    "history_df.plot(y=\"loss\")"
   ]
  },
  {
   "cell_type": "code",
   "execution_count": 48,
   "id": "6659e2cc-fdaa-46d0-9afa-c87af5ad1b0d",
   "metadata": {},
   "outputs": [
    {
     "data": {
      "text/plain": [
       "<AxesSubplot:>"
      ]
     },
     "execution_count": 48,
     "metadata": {},
     "output_type": "execute_result"
    },
    {
     "data": {
      "image/png": "[encoded data removed]",
      "text/plain": [
       "<Figure size 432x288 with 1 Axes>"
      ]
     },
     "metadata": {},
     "output_type": "display_data"
    }
   ],
   "source": [
    "# Plot the accuracy\n",
    "history_df.plot(y=\"accuracy\")"
   ]
  },
  {
   "cell_type": "markdown",
   "id": "e8c2cac7-9bb9-4685-af08-282cab426ab8",
   "metadata": {},
   "source": [
    "## Model Assessment:\n",
    "According to the accuracy metric of the neural network model was only able to correctly classify about 72% (slight improvement)\n",
    "\n",
    "Loss: 0.591244101524353, Accuracy: 0.7230320572853088\n"
   ]
  },
  {
   "cell_type": "markdown",
   "id": "3e3bcc7b-60cc-484a-bb50-87a3461be0a6",
   "metadata": {},
   "source": [
    "### Use a Different Activation Function\n",
    "\n",
    "It is important to use an activation function that matches the complexity of the input data. If we wanted to rank the four most-used activation functions by data complexity and ideal use case, the order would be as follows:\n",
    "\n",
    "* The sigmoid function values are normalized to a probability between 0 and 1, which is ideal for binary classification (like our output classification)\n",
    "* The tanh function can be used for classification or regression, and it expands the range between -1 and 1.\n",
    "* The ReLU function is ideal for looking at positive nonlinear input data for classification or regression.\n",
    "* The Leaky ReLU function is a good alternative for nonlinear input data with many negative inputs."
   ]
  },
  {
   "cell_type": "code",
   "execution_count": 50,
   "id": "950c1a76-cbaa-4e90-9118-d7e04294a7af",
   "metadata": {},
   "outputs": [],
   "source": [
    "# export the fully trained model to HDF5 file\n",
    "# note: The Hierarchical Data Format version 5 (HDF5), is an open source file format that supports large, complex, heterogeneous data. \n",
    "\n",
    "nn_optimized.save(\"./Trained_Models/AlphabetSoupCharity_Optimization.h5\")\n",
    "nn_optimized.save(\"./AlphabetSoupCharity_Optimization.h5\")"
   ]
  },
  {
   "cell_type": "code",
   "execution_count": 51,
   "id": "02c6305a-6172-4247-a0a0-b30664c7a945",
   "metadata": {},
   "outputs": [
    {
     "name": "stdout",
     "output_type": "stream",
     "text": [
      "268/268 - 0s - loss: 0.4734 - accuracy: 0.7724\n",
      "Loss: 0.4733826816082001, Accuracy: 0.7723615169525146\n"
     ]
    }
   ],
   "source": [
    "# Evaluate the imported model using the test data\n",
    "model_loss, model_accuracy = nn_optimized.evaluate(X_test_scaled,y_test,verbose=2)\n",
    "print(f\"Loss: {model_loss}, Accuracy: {model_accuracy}\")"
   ]
  },
  {
   "cell_type": "markdown",
   "id": "4e431995-3db5-4a1e-9be8-80bb5b80b4b8",
   "metadata": {},
   "source": [
    "## Compare To Other Models\n",
    "\n",
    "### Considering Accuracy vs. Interpretability (and resource requirements like time)\n",
    "\n",
    "![Accuracy vs. Interpretability](./Resources/data-19-5-1-1-consider-trade-offs.png)"
   ]
  },
  {
   "cell_type": "markdown",
   "id": "381a3b85-601f-4f9c-b966-d319ae3427c9",
   "metadata": {},
   "source": [
    "### Random Forest Vs. Deep Learning Model\n",
    "\n",
    "Random forest classifiers are a type of ensemble learning model that combines multiple smaller models into a more robust and accurate model. Random forest models use a number of weak learner algorithms (decision trees) and combine their output to make a final classification (or regression) decision. Structurally speaking, random forest models are very similar to their neural network counterparts. Random forest models have been a staple in machine learning algorithms for many years due to their robustness and scalability. Both output and feature selection of random forest models are easy to interpret, and they can easily handle outliers and nonlinear data.\n",
    "\n",
    "Random forest algorithms are beneficial because they:\n",
    "\n",
    "* Are robust against overfitting as all of those weak learners are trained on different pieces of the data.\n",
    "* Can be used to rank the importance of input variables in a natural way.\n",
    "* Can handle thousands of input variables without variable deletion.\n",
    "* Are robust to outliers and nonlinear data.\n",
    "* Run efficiently on large datasets."
   ]
  },
  {
   "cell_type": "code",
   "execution_count": null,
   "id": "3275f487-6436-4423-b3dd-1cfc817934fe",
   "metadata": {},
   "outputs": [],
   "source": [
    "# Define the model - deep neural net, i.e., the number of input features and hidden nodes for each layer.\n",
    "# this is done using the classes within the Keras module\n",
    "number_input_features = X_train.shape[1]\n",
    "hidden_nodes_layer1 =  50\n",
    "hidden_nodes_layer2 = 25\n",
    "\n",
    "nn = tf.keras.models.Sequential()\n",
    "\n",
    "# First hidden layer\n",
    "nn.add(\n",
    "    tf.keras.layers.Dense(\n",
    "        units=hidden_nodes_layer1, \n",
    "        input_dim=number_input_features, \n",
    "        activation=\"sigmoid\")\n",
    ")\n",
    "\n",
    "# Second hidden layer\n",
    "nn.add(tf.keras.layers.Dense(\n",
    "    units=hidden_nodes_layer2, \n",
    "    activation=\"sigmoid\")\n",
    ")\n",
    "\n",
    "# third hidden layer\n",
    "nn.add(tf.keras.layers.Dense(\n",
    "    units=hidden_nodes_layer3,\n",
    "    activation=\"sigmoid\"\n",
    "))\n",
    "\n",
    "# Output layer\n",
    "nn.add(tf.keras.layers.Dense(\n",
    "    units=1, \n",
    "    activation=\"sigmoid\"\n",
    "))\n",
    "\n",
    "# Check the structure of the model\n",
    "nn.summary()"
   ]
  },
  {
   "cell_type": "code",
   "execution_count": 53,
   "id": "80a2f014-9881-4d15-9601-e459154b9b5b",
   "metadata": {},
   "outputs": [],
   "source": [
    "# Import additional dependencies\n",
    "from sklearn.ensemble import RandomForestClassifier\n",
    "from sklearn.metrics import accuracy_score\n",
    "from sklearn.metrics import ConfusionMatrixDisplay, confusion_matrix, classification_report"
   ]
  },
  {
   "cell_type": "markdown",
   "id": "2d0bed03-cd41-4da9-95ba-0456ea36f9da",
   "metadata": {},
   "source": [
    "For our purposes, we'll use a random forest classifier with the n_estimators parameter set to 128. Typically, 128 estimators is the largest number of estimators we would want to use in a model. To create our random forest classifier model and test the performance, add and run the following code:"
   ]
  },
  {
   "cell_type": "code",
   "execution_count": null,
   "id": "f6d22db8-07c4-40bf-8bf7-842affe704ab",
   "metadata": {},
   "outputs": [],
   "source": [
    "# Compile the model\n",
    "nn.compile(loss=\"binary_crossentropy\", optimizer=\"adam\", metrics=[\"accuracy\"])"
   ]
  },
  {
   "cell_type": "code",
   "execution_count": 55,
   "id": "b1d1d7b2-057f-44a0-8d40-8dfa8947904e",
   "metadata": {},
   "outputs": [
    {
     "name": "stdout",
     "output_type": "stream",
     "text": [
      " Random forest predictive accuracy: 0.759\n"
     ]
    }
   ],
   "source": [
    "# Create a random forest classifier.\n",
    "rf_model = RandomForestClassifier(n_estimators=128, random_state=78)\n",
    "\n",
    "# Fitting the model\n",
    "rf_model = rf_model.fit(X_train_scaled, y_train)\n",
    "\n",
    "# Evaluate the model\n",
    "y_pred = rf_model.predict(X_test_scaled)\n",
    "print(f\" Random forest predictive accuracy: {accuracy_score(y_test,y_pred):.3f}\")"
   ]
  },
  {
   "cell_type": "code",
   "execution_count": 56,
   "id": "e01b3540-af32-4b04-b252-0b008f32a93b",
   "metadata": {},
   "outputs": [
    {
     "data": {
      "text/plain": [
       "array([[2648, 1355],\n",
       "       [ 710, 3862]], dtype=int64)"
      ]
     },
     "execution_count": 56,
     "metadata": {},
     "output_type": "execute_result"
    }
   ],
   "source": [
    "# Display the confusion matrix\n",
    "cm = confusion_matrix(y_test, y_pred)\n",
    "cm"
   ]
  },
  {
   "cell_type": "code",
   "execution_count": 57,
   "id": "ffd0288f-84ee-41a2-9556-59d1c4b630d2",
   "metadata": {},
   "outputs": [
    {
     "data": {
      "image/png": "[encoded data removed]",
      "text/plain": [
       "<Figure size 432x288 with 2 Axes>"
      ]
     },
     "metadata": {},
     "output_type": "display_data"
    }
   ],
   "source": [
    "# display the confusion matrix display\n",
    "disp = ConfusionMatrixDisplay(confusion_matrix=cm,display_labels= rf_model.classes_)\n",
    "disp.plot()\n",
    "plt.savefig(\"./Resources/rf_confusion_matrix.png\")\n",
    "plt.show()"
   ]
  },
  {
   "cell_type": "markdown",
   "id": "d085f216-c43f-46af-ae01-e2c3ac22d050",
   "metadata": {},
   "source": [
    "### Confusion matrix analysis:\n",
    "The real risk (downside) is when a riskly loan (\"IS_SUCCESSFUL\" = 0) is labeled as a 1. That is the top right quadrant of the image above\n",
    "\n",
    "There is also opportunity loss when a non-riskly loan (\"IS_SUCCESSFUL\" = 1) is labeled as a 0. That is the bottom left quadrant of the image above."
   ]
  },
  {
   "cell_type": "code",
   "execution_count": 58,
   "id": "0906777a-03b6-4fb4-b41f-7bac37a13f5a",
   "metadata": {},
   "outputs": [
    {
     "name": "stdout",
     "output_type": "stream",
     "text": [
      "              precision    recall  f1-score   support\n",
      "\n",
      "           0       0.79      0.66      0.72      4003\n",
      "           1       0.74      0.84      0.79      4572\n",
      "\n",
      "    accuracy                           0.76      8575\n",
      "   macro avg       0.76      0.75      0.75      8575\n",
      "weighted avg       0.76      0.76      0.76      8575\n",
      "\n"
     ]
    }
   ],
   "source": [
    "# print a classification report\n",
    "print(classification_report(y_test, y_pred))"
   ]
  },
  {
   "cell_type": "code",
   "execution_count": 59,
   "id": "37d6cc8a-d974-4d92-ad8b-770b6eefec20",
   "metadata": {},
   "outputs": [
    {
     "data": {
      "text/html": [
       "<div>\n",
       "<style scoped>\n",
       "    .dataframe tbody tr th:only-of-type {\n",
       "        vertical-align: middle;\n",
       "    }\n",
       "\n",
       "    .dataframe tbody tr th {\n",
       "        vertical-align: top;\n",
       "    }\n",
       "\n",
       "    .dataframe thead th {\n",
       "        text-align: right;\n",
       "    }\n",
       "</style>\n",
       "<table border=\"1\" class=\"dataframe\">\n",
       "  <thead>\n",
       "    <tr style=\"text-align: right;\">\n",
       "      <th></th>\n",
       "      <th>feature</th>\n",
       "      <th>importance</th>\n",
       "    </tr>\n",
       "  </thead>\n",
       "  <tbody>\n",
       "    <tr>\n",
       "      <th>0</th>\n",
       "      <td>ASK_AMT</td>\n",
       "      <td>0.301764</td>\n",
       "    </tr>\n",
       "    <tr>\n",
       "      <th>1</th>\n",
       "      <td>NAME_Other</td>\n",
       "      <td>0.102889</td>\n",
       "    </tr>\n",
       "    <tr>\n",
       "      <th>2</th>\n",
       "      <td>AFFILIATION_CompanySponsored</td>\n",
       "      <td>0.062945</td>\n",
       "    </tr>\n",
       "    <tr>\n",
       "      <th>3</th>\n",
       "      <td>AFFILIATION_Independent</td>\n",
       "      <td>0.052623</td>\n",
       "    </tr>\n",
       "    <tr>\n",
       "      <th>4</th>\n",
       "      <td>ORGANIZATION_Association</td>\n",
       "      <td>0.021922</td>\n",
       "    </tr>\n",
       "    <tr>\n",
       "      <th>5</th>\n",
       "      <td>NAME_TOASTMASTERS INTERNATIONAL</td>\n",
       "      <td>0.021196</td>\n",
       "    </tr>\n",
       "    <tr>\n",
       "      <th>6</th>\n",
       "      <td>APPLICATION_TYPE_T5</td>\n",
       "      <td>0.020626</td>\n",
       "    </tr>\n",
       "    <tr>\n",
       "      <th>7</th>\n",
       "      <td>NAME_MOST WORSHIPFUL STRINGER FREE AND ACCEPTE...</td>\n",
       "      <td>0.014603</td>\n",
       "    </tr>\n",
       "    <tr>\n",
       "      <th>8</th>\n",
       "      <td>CLASSIFICATION_C2000</td>\n",
       "      <td>0.014220</td>\n",
       "    </tr>\n",
       "    <tr>\n",
       "      <th>9</th>\n",
       "      <td>NAME_UNITED STATES BOWLING CONGRESS INC</td>\n",
       "      <td>0.014058</td>\n",
       "    </tr>\n",
       "  </tbody>\n",
       "</table>\n",
       "</div>"
      ],
      "text/plain": [
       "                                             feature  importance\n",
       "0                                            ASK_AMT    0.301764\n",
       "1                                         NAME_Other    0.102889\n",
       "2                       AFFILIATION_CompanySponsored    0.062945\n",
       "3                            AFFILIATION_Independent    0.052623\n",
       "4                           ORGANIZATION_Association    0.021922\n",
       "5                    NAME_TOASTMASTERS INTERNATIONAL    0.021196\n",
       "6                                APPLICATION_TYPE_T5    0.020626\n",
       "7  NAME_MOST WORSHIPFUL STRINGER FREE AND ACCEPTE...    0.014603\n",
       "8                               CLASSIFICATION_C2000    0.014220\n",
       "9            NAME_UNITED STATES BOWLING CONGRESS INC    0.014058"
      ]
     },
     "execution_count": 59,
     "metadata": {},
     "output_type": "execute_result"
    }
   ],
   "source": [
    "# create feature importances from model\n",
    "importances = rf_model.feature_importances_\n",
    "\n",
    "# get column names\n",
    "columns = columns\n",
    "\n",
    "# create a dataframe\n",
    "feature_importances_df = pd.DataFrame({\n",
    "    'feature': columns,\n",
    "    'importance': importances\n",
    "}) \n",
    "\n",
    "\n",
    "feature_importance = feature_importances_df.sort_values(by=['importance'], ascending=False, inplace=True)\n",
    "feature_importance = feature_importances_df.reset_index(drop=True, inplace=True)\n",
    "feature_importance = feature_importances_df.head(10)\n",
    "feature_importance"
   ]
  },
  {
   "cell_type": "code",
   "execution_count": 61,
   "id": "23a5b681-9064-4f03-b99a-feeb8fd3710c",
   "metadata": {},
   "outputs": [
    {
     "data": {
      "text/plain": [
       "[(0.30176370463119623, 'ASK_AMT'),\n",
       " (0.10288949166697545, 'NAME_Other'),\n",
       " (0.06294498620613155, 'AFFILIATION_CompanySponsored'),\n",
       " (0.05262260473398388, 'AFFILIATION_Independent'),\n",
       " (0.021922325027993624, 'ORGANIZATION_Association'),\n",
       " (0.021196202793729083, 'NAME_TOASTMASTERS INTERNATIONAL'),\n",
       " (0.020625523101986773, 'APPLICATION_TYPE_T5'),\n",
       " (0.014603140420912658,\n",
       "  'NAME_MOST WORSHIPFUL STRINGER FREE AND ACCEPTED MASONS'),\n",
       " (0.014220430341869924, 'CLASSIFICATION_C2000'),\n",
       " (0.014057981065756736, 'NAME_UNITED STATES BOWLING CONGRESS INC'),\n",
       " (0.013860638602397706, 'NAME_TOPS CLUB INC'),\n",
       " (0.012741823816154626, 'ORGANIZATION_Trust'),\n",
       " (0.011195164966602394, 'CLASSIFICATION_C2100'),\n",
       " (0.011011135834670536, 'NAME_THE UNITED STATES PONY CLUBS INC'),\n",
       " (0.010408886872859686, 'APPLICATION_TYPE_Other'),\n",
       " (0.010003912285456851, 'CLASSIFICATION_C1000'),\n",
       " (0.00924502322830183, 'APPLICATION_TYPE_T19'),\n",
       " (0.009087709964396905, 'APPLICATION_TYPE_T4'),\n",
       " (0.00893083029569659, 'USE_CASE_Preservation'),\n",
       " (0.008739192575168702, 'APPLICATION_TYPE_T3'),\n",
       " (0.008623173429297023, 'APPLICATION_TYPE_T6'),\n",
       " (0.008330831164426013, 'NAME_AIR FORCE ASSOCIATION'),\n",
       " (0.008121156555859694, 'INCOME_AMT_0'),\n",
       " (0.008069868219951957, 'USE_CASE_ProductDev'),\n",
       " (0.007898226866340181, 'NAME_PARENT BOOSTER USA INC'),\n",
       " (0.007729245357924622, 'NAME_PTA TEXAS CONGRESS'),\n",
       " (0.007504834659755377, 'CLASSIFICATION_C7000'),\n",
       " (0.007180263739453544, 'CLASSIFICATION_C1200'),\n",
       " (0.006245181502988155, 'INCOME_AMT_1M-5M'),\n",
       " (0.006142400900455378, 'INCOME_AMT_25000-99999'),\n",
       " (0.006117111103615945,\n",
       "  'NAME_INTERNATIONAL ASSOCIATION OF SHEET METAL AIR RAIL & TRANSPORTATION'),\n",
       " (0.006064013277464173, 'NAME_ALPHA PHI SIGMA'),\n",
       " (0.0055369706582460735,\n",
       "  'NAME_AMATEUR ATHLETIC UNION OF THE UNITED STATES INC'),\n",
       " (0.005476629047251579, 'INCOME_AMT_100000-499999'),\n",
       " (0.0052240056802134545,\n",
       "  'NAME_FARMERS EDUCATIONAL AND COOPERATIVE UNION OF AMERICA'),\n",
       " (0.005178063054894532, 'NAME_DEMOLAY INTERNATIONAL'),\n",
       " (0.005177399955815183, 'CLASSIFICATION_Other'),\n",
       " (0.0049843625727081925, 'CLASSIFICATION_C3000'),\n",
       " (0.004808448174030685, 'NAME_SOROPTIMIST INTERNATIONAL OF THE AMERICAS INC'),\n",
       " (0.004790365532691782, 'NAME_AMERICAN YOUTH FOOTBALL INC'),\n",
       " (0.00428235030738607,\n",
       "  'NAME_INTERNATIONAL MOUNTAIN BICYCLING ASSOCIATION - COLORADO'),\n",
       " (0.004206753516907869, 'INCOME_AMT_Jan-99'),\n",
       " (0.003959625504372486, 'NAME_SLOW FOOD USA INC'),\n",
       " (0.0038873946772219462, 'NAME_WASHINGTON STATE GRANGE'),\n",
       " (0.0036774112535409484, 'NAME_KNIGHTS OF COLUMBUS'),\n",
       " (0.0035106641141521774,\n",
       "  'NAME_NATIONAL ASSOCIATION OF TEACHERS OF SINGING INC'),\n",
       " (0.003364925871686183, 'NAME_WORKERS UNITED'),\n",
       " (0.0032781143373950034, 'INCOME_AMT_10M-50M'),\n",
       " (0.003206475888121021, 'NAME_PTA UTAH CONGRESS'),\n",
       " (0.0031960617288586367, 'NAME_MODERN QUILT GUILD INC'),\n",
       " (0.0029012360746989785, 'NAME_LITTLE LEAGUE BASEBALL INC'),\n",
       " (0.0028937188039663535, 'NAME_BABYWEARING INTERNATIONAL INC'),\n",
       " (0.0028930972320696086, 'INCOME_AMT_10000-24999'),\n",
       " (0.002884606937303639, 'NAME_TENNESSEE ORDER OF THE EASTERN STAR'),\n",
       " (0.002856978768382977, 'NAME_UNITED STATES PONY CLUBS INC'),\n",
       " (0.0028225470322022455, 'NAME_ALABAMA TREASURE FOREST ASSOCIATION'),\n",
       " (0.0025878425048909246, 'NAME_UNITED OSTOMY ASSOCIATION OF AMERICA INC'),\n",
       " (0.0023016156905774823, 'USE_CASE_CommunityServ'),\n",
       " (0.0022875808900904857, 'NAME_BETTER WORLD FUND'),\n",
       " (0.002228697079176356,\n",
       "  'NAME_NATIONAL INSTITUTE OF GOVERNMENTAL PURCHASING INC'),\n",
       " (0.0021309913521200346, 'NAME_POP WARNER LITTLE SCHOLARS INC'),\n",
       " (0.0021120431920739024, 'NAME_INTERNATIONAL FEDERATION OF FLY FISHERS INC'),\n",
       " (0.0019727066073147383, 'ORGANIZATION_Co-operative'),\n",
       " (0.001937155748061459, 'NAME_TEXAS MASTER GARDENER ASSOCIATION INC'),\n",
       " (0.0019162196856742524, 'NAME_WASHINGTON STATE UNIVERSITY'),\n",
       " (0.001879096664305983, 'NAME_INTERNATIONAL ASSOCIATION OF FIRE FIGHTERS'),\n",
       " (0.001844384330075887, 'INCOME_AMT_50M+'),\n",
       " (0.001762739281567215,\n",
       "  'NAME_FULL GOSPEL BUSINESS MENS FELLOWSHIP IN AMERICA'),\n",
       " (0.0017009335079650185,\n",
       "  'NAME_DAUGHTERS OF ESTHER FELLOWSHIP INTERNATIONAL MINISTRIES INC'),\n",
       " (0.0016692435618987647, 'NAME_AMERICAN IRIS SOCIETY'),\n",
       " (0.001633223172800248, 'NAME_ROAD RUNNERS CLUB OF AMERICA'),\n",
       " (0.00158905281199465, 'NAME_INTERNATIONAL ASSOCIATION OF LIONS CLUBS'),\n",
       " (0.001575708860942811, 'NAME_AMERICAN ASSOCIATION OF UNIVERSITY WOMEN'),\n",
       " (0.001560144081466333, 'NAME_SIGMA BETA DELTA INC'),\n",
       " (0.0014704465813492797, 'NAME_CALIFORNIA TEACHERS ASSOCIATION'),\n",
       " (0.0014574788498299145, 'NAME_UNIVERSITY OF WYOMING'),\n",
       " (0.0014330500437309123, 'INCOME_AMT_5M-10M'),\n",
       " (0.0014171956012881016, 'NAME_MOMS CLUB'),\n",
       " (0.0013459359383012953, 'NAME_UNITED FEDERATION OF DOLL CLUBS INC'),\n",
       " (0.0013444352954068667,\n",
       "  'NAME_SOCIETY OF SAINT VINCENT DE PAUL COUNCIL OF LOS ANGELES'),\n",
       " (0.0012864724225337028, 'NAME_SWEET ADELINES INTERNATIONAL'),\n",
       " (0.0012518092344445321, 'NAME_HONOR SOCIETY OF PHI KAPPA PHI'),\n",
       " (0.0012042914158273874, 'NAME_ROTARY INTERNATIONAL'),\n",
       " (0.001190258058870176, 'NAME_UNITED MINE WORKERS OF AMERICA INTERNATIONAL'),\n",
       " (0.0011556852573949286, 'NAME_CLEARCREEK I S D SUPPORT GROUPS'),\n",
       " (0.0011054111013817376, 'NAME_AMERICAN LEGION'),\n",
       " (0.0011037258903826407, 'NAME_CIVITAN INTERNATIONAL'),\n",
       " (0.00110280104330328,\n",
       "  'NAME_VETERANS OF FOREIGN WARS OF THE UNITED STATES AUXILIARY'),\n",
       " (0.0010827557371940525, 'NAME_HABITAT FOR HUMANITY INTERNATIONAL INC'),\n",
       " (0.0010811760994461992, 'NAME_MONTANA 4-H FOUNDATION INC'),\n",
       " (0.0010459567170797966, 'USE_CASE_Heathcare'),\n",
       " (0.001025917178038283, 'NAME_FRATERNAL ORDER OF POLICE'),\n",
       " (0.0008736159418074609, 'NAME_MUSIC TEACHERS NATIONAL ASSOCIATION INC'),\n",
       " (0.0008625489985824968, 'NAME_CLEAR CREEK ISD GROUPS'),\n",
       " (0.0008538655960983236, 'NAME_SERTOMA INC'),\n",
       " (0.0008254875418737711,\n",
       "  'NAME_NATIONAL SOCIETY OF THE DAUGHTERS OF THE AMERICAN REVOLUTION'),\n",
       " (0.0008145299584888838, 'NAME_FRATERNAL ORDER OF EAGLES'),\n",
       " (0.0007951621074687566,\n",
       "  'NAME_AMERICAN FEDERATION OF STATE COUNTY & MUNICIPAL EMPLOYEES'),\n",
       " (0.000774543132510788, 'NAME_UNIVERSITY OF FLORIDA'),\n",
       " (0.0007681643828365366, 'NAME_CALIFORNIA STATE UNIVERSITY EMPLOYEES UNION'),\n",
       " (0.0007596792224618661, 'NAME_KLEIN SUPPORT GROUPS INC'),\n",
       " (0.0007399040049502471, 'AFFILIATION_Family/Parent'),\n",
       " (0.0007179103092532542,\n",
       "  'NAME_DAUGHTERS OF UNION VETERANS OF THE CIVIL WAR 1861-1865'),\n",
       " (0.0007115561997430917, 'NAME_ASSOCIATION OF CIVILIAN TECHNICIANS INC'),\n",
       " (0.0007080319775880607, 'NAME_SOCIETY OF WOMEN ENGINEERS'),\n",
       " (0.000682645301598306,\n",
       "  'NAME_PTA CALIFORNIA CONGRESS OF PARENTS TEACHERS & STUDENTS INC'),\n",
       " (0.0006745415601624701, 'NAME_MARINE CORPS LEAGUE'),\n",
       " (0.0006730693151363045, 'NAME_LAMBDA THETA ALPHA'),\n",
       " (0.0006626766214323408, 'NAME_NATIONAL FEDERATION OF MUSIC CLUBS'),\n",
       " (0.0006574779062488167, 'NAME_ALPHA PHI SIGMA INC'),\n",
       " (0.0006471377858834926,\n",
       "  'NAME_THE OREGON STATE FEDERATION OF GARDEN CLUBS INC'),\n",
       " (0.0006046682762758846, 'NAME_NATIONAL YOUNG MENS SERVICE LEAGUE'),\n",
       " (0.0005677480350310683, 'NAME_GAMMA THETA UPSILON'),\n",
       " (0.0005657218120262996, 'AFFILIATION_National'),\n",
       " (0.0005620768915490995, 'NAME_CALIFORNIA HIGHWAY PATROL EXPLORER PROGRAM'),\n",
       " (0.0005567846731169877, 'NAME_AMERICAN FEDERATION OF GOVERNMENT EMPLOYEES'),\n",
       " (0.00044502800131005757, 'NAME_AMERICAN LEGION AUXILIARY'),\n",
       " (0.0004417196613871049, 'NAME_AMERICAN CHRISTIAN FICTION WRITERS INC'),\n",
       " (0.0004409152446934683, 'NAME_EXECUTIVE WOMENS GOLF ASSOCIATION INC'),\n",
       " (0.0004306926168142669, 'NAME_CISD EDUCATIONAL SUPPORT GROUPS INC'),\n",
       " (0.000427477679410298, 'ORGANIZATION_Corporation'),\n",
       " (0.0004043058498644266,\n",
       "  'NAME_FUTURE FARMERS OF AMERICA AND ITS STATE ASSOCIATIONS & LOCAL CHAPTER'),\n",
       " (0.0004014108151872211,\n",
       "  'NAME_KNIGHTS TEMPLAR OF THE UNITED STATES OF AMERICA'),\n",
       " (0.00040134934209695245, 'NAME_TAU KAPPA EPSILON FRATERNITY INC'),\n",
       " (0.0003977076660232799, 'NAME_KIWANIS INTERNATIONAL INC'),\n",
       " (0.000376018667112837, 'NAME_INDEPENDENT ORDER OF ODD FELLOWS'),\n",
       " (0.00037402948958285663, 'NAME_AMVETS'),\n",
       " (0.0003551388408304235,\n",
       "  'NAME_FUTURE FARMERS OF AMERICA STATE ASSOCIATIONS & LOCAL CHAPTER'),\n",
       " (0.00033423317694009135, 'NAME_OREGON 4-H FOUNDATION'),\n",
       " (0.0003292109567308894, 'NAME_ALTRUSA INTERNATIONAL FOUNDATION INC'),\n",
       " (0.00032307412464269766, 'NAME_AMERICAN ASSOCIATION OF UNIVERSITY WOMEN INC'),\n",
       " (0.0002910322991300073,\n",
       "  'NAME_CALIFORNIA STATE CHAPER WOMENS COUNCIL OF REALTORS'),\n",
       " (0.00028512625457975064, 'SPECIAL_CONSIDERATIONS_Y'),\n",
       " (0.0002844946092456302, 'NAME_CALIFORNIA GARDEN CLUBS INC'),\n",
       " (0.0002838487222994223, 'NAME_AMATEUR ATHLETIC UNION OF THE UNITED STATES'),\n",
       " (0.0002833845161433727, 'SPECIAL_CONSIDERATIONS_N'),\n",
       " (0.0002810467931487171, 'NAME_DISABLED AMERICAN VETERANS'),\n",
       " (0.0002801390111575953, 'NAME_SONS OF CONFEDERATE VETERANS INC'),\n",
       " (0.0002789832562574675, 'NAME_AMERICAN STUDENT DENTAL ASSOCIATION'),\n",
       " (0.00025691436564351076,\n",
       "  'NAME_DEPARTMENT OF NEW MEXICO VETERANS OF FOREIGN WARS OF THE US AUXILIAR'),\n",
       " (0.0002451256009796868, 'NAME_DISABLED AMERICAN VETERANS AUXILIARY INC'),\n",
       " (0.0002374246561058293, 'AFFILIATION_Regional'),\n",
       " (0.00023012724202486272, 'NAME_AMERICAN COLLEGE OF HEALTHCARE EXECUTIVES'),\n",
       " (0.00021532932338046067, 'NAME_ALABAMA FEDERATION OF WOMENS CLUBS'),\n",
       " (0.00021002881668392897, 'NAME_LOUISIANA 4-H FOUNDATION'),\n",
       " (0.00019015165491022832, 'NAME_ARIZONA FEDERATION OF GARDEN CLUBS'),\n",
       " (0.00018190403140542715, 'NAME_VFW AUXILIARY DEPARTMENT OF OKLAHOMA INC'),\n",
       " (0.00017878647931883826,\n",
       "  'NAME_DEPARTMENT OF ALABAMA VETERANS OF FOREIGN WARS OF THE UNITED STATES'),\n",
       " (0.00014762466099012012, 'STATUS'),\n",
       " (0.00012953393748296838, 'NAME_OPTIMIST INTERNATIONAL'),\n",
       " (0.00011062410387995857,\n",
       "  'NAME_DEPARTMENT OF KANSAS LADIES AUXILIARY TO THE VFW OF THE US INC'),\n",
       " (0.00010917462691581805,\n",
       "  'NAME_VETERANS OF FOREIGN WARS OF THE UNITED STATES AUX DEPT OF COLORADO'),\n",
       " (0.00010339418778854592,\n",
       "  'NAME_DEPT OF GEORGIA LADIES AUXILIARY TO THE VFW OF THE UNITED STATES'),\n",
       " (0.00010008167114940555,\n",
       "  'NAME_DEPARTMENT OF NEVADA VETERANS OF FOREIGN WARS OF THE U S INC'),\n",
       " (4.2159503193290184e-05, 'USE_CASE_Other'),\n",
       " (3.9098523397867084e-05,\n",
       "  'NAME_VETERANS OF FOREIGN WARS OF THE UNITED STATES AUXILIARY DEPARTMENT'),\n",
       " (3.5908490706730555e-05,\n",
       "  'NAME_GENERAL FEDERATION OF WOMENS CLUBS ARIZONA INC'),\n",
       " (3.491090515508031e-05,\n",
       "  'NAME_DEPARTMENT OF ALABAMA AUXILIARY TO THE VFW OF THE U S'),\n",
       " (2.818410397610384e-05, 'NAME_VFW AUXILIARY DEPARTMENT OF MISSISSIPPI'),\n",
       " (2.271644573690989e-05,\n",
       "  'NAME_DEPARTMENT OF OREGON LADIES AUXILIARY TO THE VFW OF THE U S'),\n",
       " (2.0036024254594077e-05,\n",
       "  'NAME_VETERANS OF FOREIGN WARS OF THE U S AUXILIARY DEPARTMENT OF LOUISIANA'),\n",
       " (1.6645893206264144e-05, 'NAME_DEPARTMENT OF WYOMING VFW AUXILIARY'),\n",
       " (1.4796182309042991e-05, 'AFFILIATION_Other')]"
      ]
     },
     "execution_count": 61,
     "metadata": {},
     "output_type": "execute_result"
    }
   ],
   "source": [
    "#We can sort all the features by their importance.\n",
    "sorted(zip(rf_model.feature_importances_, columns), reverse=True)"
   ]
  },
  {
   "cell_type": "code",
   "execution_count": 62,
   "id": "b863e357-ee9b-4587-b0d7-24db129d3c6e",
   "metadata": {},
   "outputs": [
    {
     "data": {
      "text/plain": [
       "0                                              ASK_AMT\n",
       "1                                           NAME_Other\n",
       "2                         AFFILIATION_CompanySponsored\n",
       "3                              AFFILIATION_Independent\n",
       "4                             ORGANIZATION_Association\n",
       "5                      NAME_TOASTMASTERS INTERNATIONAL\n",
       "6                                  APPLICATION_TYPE_T5\n",
       "7    NAME_MOST WORSHIPFUL STRINGER FREE AND ACCEPTE...\n",
       "8                                 CLASSIFICATION_C2000\n",
       "9              NAME_UNITED STATES BOWLING CONGRESS INC\n",
       "Name: feature, dtype: object"
      ]
     },
     "execution_count": 62,
     "metadata": {},
     "output_type": "execute_result"
    }
   ],
   "source": [
    "feature_importance['feature']"
   ]
  },
  {
   "cell_type": "code",
   "execution_count": 63,
   "id": "e9ab00ef-4690-46da-a370-2814ac59b7f4",
   "metadata": {},
   "outputs": [
    {
     "data": {
      "image/png": "[encoded data removed]",
      "text/plain": [
       "<Figure size 432x288 with 1 Axes>"
      ]
     },
     "metadata": {},
     "output_type": "display_data"
    }
   ],
   "source": [
    "# visualize the top ten feature-importances_\n",
    "\n",
    "feature_importance.plot.barh(x=\"feature\", y=\"importance\")\n",
    "plt.title(\"Top Ten Feature importances\")\n",
    "plt.savefig(\"./Resources/rf_feature_importance.png\")\n"
   ]
  },
  {
   "cell_type": "markdown",
   "id": "74823599-0b35-4839-9025-f96797983b1e",
   "metadata": {},
   "source": [
    "### Model Performance Comparison:"
   ]
  },
  {
   "cell_type": "markdown",
   "id": "56acc6cc-4aae-431c-8106-0b70d5794f37",
   "metadata": {},
   "source": [
    "Both model's predictive accuracy is very similar. Both the random forest and optimized deep learning model were able to predict correctly whether or not a loan will be successful over 75% of the time (exceeding the benchmark). \n",
    "\n",
    "Although their predictive performance was comparable, their implementation and training times were not the same. The random forest classifier was able to train on the large dataset and predict values in seconds, while the deep learning model required a couple minutes to train on the tens of thousands of data points. \n",
    "\n",
    "In other words, the random forest model is able to achieve comparable predictive accuracy on large tabular data with less code and faster performance. The ultimate decision of whether to use a random forest versus a neural network comes down to preference. \n",
    "\n",
    "Since AlphabetSoup Charity's dataset is tabular, a random forest classifier is the recommended model based on performance, speed, explainability and simplicity of setup."
   ]
  },
  {
   "cell_type": "code",
   "execution_count": null,
   "id": "99dbaea3-ff92-4b76-80cc-2fc07c4b1678",
   "metadata": {},
   "outputs": [],
   "source": [
    "# Train the model\n",
    "fit_model = nn.fit(X_train_scaled,y_train,epochs=100)"
   ]
  },
  {
   "cell_type": "code",
   "execution_count": null,
   "id": "59832526-774b-415b-9d80-65af84f9bcb0",
   "metadata": {},
   "outputs": [],
   "source": [
    "# Evaluate the model using the test data\n",
    "model_loss, model_accuracy = nn.evaluate(X_test_scaled,y_test,verbose=2)\n",
    "print(f\"Loss: {model_loss}, Accuracy: {model_accuracy}\")"
   ]
  },
  {
   "cell_type": "code",
   "execution_count": null,
   "id": "c83e1c35-87d3-4677-9777-9c3d42d84146",
   "metadata": {},
   "outputs": [],
   "source": [
    "# Create a DataFrame containing training history\n",
    "history_df = pd.DataFrame(fit_model.history, index=range(1,len(fit_model.history[\"loss\"])+1))\n",
    "\n",
    "# Plot the loss\n",
    "history_df.plot(y=\"loss\")"
   ]
  },
  {
   "cell_type": "code",
   "execution_count": null,
   "id": "3bdff879-a92a-4250-8c65-5f4d98758664",
   "metadata": {},
   "outputs": [],
   "source": [
    "# Plot the accuracy\n",
    "history_df.plot(y=\"accuracy\")"
   ]
  },
  {
   "cell_type": "markdown",
   "id": "1eae5fc9-065c-4182-b561-6bc3b0369d68",
   "metadata": {
    "tags": []
   },
   "source": [
    "### Add Additional Epochs to Training Regimen\n",
    "change the epochs from 100 to 500 (takes longer to run but may generate a better model)"
   ]
  },
  {
   "cell_type": "markdown",
   "id": "bfeac03d-ec8c-42de-93f2-d42d93f360ab",
   "metadata": {},
   "source": [
    " "
   ]
  },
  {
   "cell_type": "code",
   "execution_count": null,
   "id": "f64d0953-d108-4279-adbd-ea5322f5f466",
   "metadata": {},
   "outputs": [],
   "source": []
  },
  {
   "cell_type": "code",
   "execution_count": null,
   "id": "47bdd4d3-c425-48b7-9abe-1a170ca191ff",
   "metadata": {},
   "outputs": [],
   "source": [
    "# Define the model - deep neural net, i.e., the number of input features and hidden nodes for each layer.\n",
    "# this is done using the classes within the Keras module\n",
    "number_input_features = X_train.shape[1]\n",
    "hidden_nodes_layer1 =  50\n",
    "hidden_nodes_layer2 = 25\n",
    "\n",
    "nn = tf.keras.models.Sequential()\n",
    "\n",
    "# First hidden layer\n",
    "nn.add(\n",
    "    tf.keras.layers.Dense(\n",
    "        units=hidden_nodes_layer1, \n",
    "        input_dim=number_input_features, \n",
    "        activation=\"sigmoid\")\n",
    ")\n",
    "\n",
    "# Second hidden layer\n",
    "nn.add(tf.keras.layers.Dense(\n",
    "    units=hidden_nodes_layer2, \n",
    "    activation=\"sigmoid\")\n",
    ")\n",
    "\n",
    "# third hidden layer\n",
    "nn.add(tf.keras.layers.Dense(\n",
    "    units=hidden_nodes_layer3,\n",
    "    activation=\"sigmoid\"\n",
    "))\n",
    "\n",
    "# Output layer\n",
    "nn.add(tf.keras.layers.Dense(\n",
    "    units=1, \n",
    "    activation=\"sigmoid\"\n",
    "))\n",
    "\n",
    "# Check the structure of the model\n",
    "nn.summary()"
   ]
  },
  {
   "cell_type": "code",
   "execution_count": null,
   "id": "b294fdce-824a-4b34-80bc-e8262bbd34b8",
   "metadata": {},
   "outputs": [],
   "source": [
    "# Compile the model\n",
    "nn.compile(loss=\"binary_crossentropy\", optimizer=\"adam\", metrics=[\"accuracy\"])"
   ]
  },
  {
   "cell_type": "code",
   "execution_count": null,
   "id": "d243d4d3-beda-479f-ad30-c915a15f7f23",
   "metadata": {},
   "outputs": [],
   "source": [
    "# Train the model\n",
    "fit_model = nn.fit(X_train_scaled,y_train,epochs=500)"
   ]
  },
  {
   "cell_type": "code",
   "execution_count": null,
   "id": "8bee768d-11b6-4abe-bf80-a2d157a15820",
   "metadata": {},
   "outputs": [],
   "source": [
    "# Evaluate the model using the test data\n",
    "model_loss, model_accuracy = nn.evaluate(X_test_scaled,y_test,verbose=2)\n",
    "print(f\"Loss: {model_loss}, Accuracy: {model_accuracy}\")"
   ]
  },
  {
   "cell_type": "code",
   "execution_count": null,
   "id": "bd6ed1d5-75d5-4751-ae31-2fda7db6001a",
   "metadata": {},
   "outputs": [],
   "source": [
    "# Create a DataFrame containing training history\n",
    "history_df = pd.DataFrame(fit_model.history, index=range(1,len(fit_model.history[\"loss\"])+1))\n",
    "\n",
    "# Plot the loss\n",
    "history_df.plot(y=\"loss\")"
   ]
  },
  {
   "cell_type": "code",
   "execution_count": null,
   "id": "f490e046-06e6-4a71-bfd8-3bf2dd86dfc8",
   "metadata": {},
   "outputs": [],
   "source": [
    "# Plot the accuracy\n",
    "history_df.plot(y=\"accuracy\")"
   ]
  },
  {
   "cell_type": "markdown",
   "id": "302b3b45-d48a-4397-91f5-0f277f7bc9af",
   "metadata": {
    "tags": []
   },
   "source": []
  }
 ],
 "metadata": {
  "kernelspec": {
   "display_name": "mlenv",
   "language": "python",
   "name": "mlenv"
  },
  "language_info": {
   "codemirror_mode": {
    "name": "ipython",
    "version": 3
   },
   "file_extension": ".py",
   "mimetype": "text/x-python",
   "name": "python",
   "nbconvert_exporter": "python",
   "pygments_lexer": "ipython3",
   "version": "3.7.10"
  },
  "widgets": {
   "application/vnd.jupyter.widget-state+json": {
    "state": {},
    "version_major": 2,
    "version_minor": 0
   }
  }
 },
 "nbformat": 4,
 "nbformat_minor": 5
}
