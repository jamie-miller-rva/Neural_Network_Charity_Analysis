{
 "cells": [
  {
   "cell_type": "markdown",
   "metadata": {},
   "source": [
    "# Background:\n",
    "Alphabet Soup is a non-profit organization involved in raising and donating funds for environmental improvement efforts. The organization wants to ensure the funds are used effectively. Experience has shown not all funds donated to organizations with the intention of environmental improvements have been used wisely. Alphabet Soup is interested in classifying which organizations are worth donating to and which are high risk using a deep learning neural network that is capable of using all (most) of the available data in predicting whether applicants will be \"successful\" if funded by Alphabet Soup.  This model will be used to assist Alphabet Soup in determining which organizations receive future donations.\n"
   ]
  },
  {
   "cell_type": "markdown",
   "metadata": {},
   "source": [
    "# Problem Statement: \n",
    "Create a binary classifier to predict whether applicants will be successful if funded by Alphabet Soup."
   ]
  },
  {
   "cell_type": "markdown",
   "metadata": {},
   "source": [
    "# Deliverables\n",
    "\n",
    "1. Preprocessing Data for a Neural Network Model\n",
    "2. Compile, Train, and Evaluate the Model\n",
    "3. Optimize the Model\n",
    "4. A Written Report on the Neural Network Model (README.md)"
   ]
  },
  {
   "cell_type": "markdown",
   "metadata": {},
   "source": [
    "## Preprocessing the Data for a Neural Network (Deliverable 1)"
   ]
  },
  {
   "cell_type": "code",
   "execution_count": 1,
   "metadata": {},
   "outputs": [],
   "source": [
    "# import common libraries\n",
    "import pandas as pd"
   ]
  },
  {
   "cell_type": "code",
   "execution_count": 2,
   "metadata": {},
   "outputs": [],
   "source": [
    "# Import dependencies from sklearn\n",
    "import sklearn as skl\n",
    "from sklearn.model_selection import train_test_split\n",
    "from sklearn.preprocessing import StandardScaler,OneHotEncoder"
   ]
  },
  {
   "cell_type": "code",
   "execution_count": 3,
   "metadata": {},
   "outputs": [],
   "source": [
    "# import dependencies from tensorflow\n",
    "import tensorflow as tf"
   ]
  },
  {
   "cell_type": "markdown",
   "metadata": {},
   "source": [
    "Read in the charity_data.csv to a Pandas DataFrame, and be sure to identify the following in your dataset:\n",
    "\n",
    "* What variable is considered the target for your model?\n",
    "the target variable is IS_SUCCESSFUL\n",
    "\n",
    "* What variable(s) are considered the feature(s) for your model?\n",
    "The following are all part of the features maxtrix (X)\n",
    "1. APPLICATION_TYPE\n",
    "2. AFFILIATION\n",
    "3. CLASSIFICATION\n",
    "4. USE_CASE\n",
    "5. ORGANIZATION\n",
    "6. STATUS\n",
    "7. INCOME_AMT\n",
    "8. SPECIAL_CONSIDERATIONS\n",
    "9. ASK_AMT"
   ]
  },
  {
   "cell_type": "code",
   "execution_count": 4,
   "metadata": {},
   "outputs": [
    {
     "data": {
      "text/html": [
       "<div>\n",
       "<style scoped>\n",
       "    .dataframe tbody tr th:only-of-type {\n",
       "        vertical-align: middle;\n",
       "    }\n",
       "\n",
       "    .dataframe tbody tr th {\n",
       "        vertical-align: top;\n",
       "    }\n",
       "\n",
       "    .dataframe thead th {\n",
       "        text-align: right;\n",
       "    }\n",
       "</style>\n",
       "<table border=\"1\" class=\"dataframe\">\n",
       "  <thead>\n",
       "    <tr style=\"text-align: right;\">\n",
       "      <th></th>\n",
       "      <th>EIN</th>\n",
       "      <th>NAME</th>\n",
       "      <th>APPLICATION_TYPE</th>\n",
       "      <th>AFFILIATION</th>\n",
       "      <th>CLASSIFICATION</th>\n",
       "      <th>USE_CASE</th>\n",
       "      <th>ORGANIZATION</th>\n",
       "      <th>STATUS</th>\n",
       "      <th>INCOME_AMT</th>\n",
       "      <th>SPECIAL_CONSIDERATIONS</th>\n",
       "      <th>ASK_AMT</th>\n",
       "      <th>IS_SUCCESSFUL</th>\n",
       "    </tr>\n",
       "  </thead>\n",
       "  <tbody>\n",
       "    <tr>\n",
       "      <th>0</th>\n",
       "      <td>10520599</td>\n",
       "      <td>BLUE KNIGHTS MOTORCYCLE CLUB</td>\n",
       "      <td>T10</td>\n",
       "      <td>Independent</td>\n",
       "      <td>C1000</td>\n",
       "      <td>ProductDev</td>\n",
       "      <td>Association</td>\n",
       "      <td>1</td>\n",
       "      <td>0</td>\n",
       "      <td>N</td>\n",
       "      <td>5000</td>\n",
       "      <td>1</td>\n",
       "    </tr>\n",
       "    <tr>\n",
       "      <th>1</th>\n",
       "      <td>10531628</td>\n",
       "      <td>AMERICAN CHESAPEAKE CLUB CHARITABLE TR</td>\n",
       "      <td>T3</td>\n",
       "      <td>Independent</td>\n",
       "      <td>C2000</td>\n",
       "      <td>Preservation</td>\n",
       "      <td>Co-operative</td>\n",
       "      <td>1</td>\n",
       "      <td>Jan-99</td>\n",
       "      <td>N</td>\n",
       "      <td>108590</td>\n",
       "      <td>1</td>\n",
       "    </tr>\n",
       "    <tr>\n",
       "      <th>2</th>\n",
       "      <td>10547893</td>\n",
       "      <td>ST CLOUD PROFESSIONAL FIREFIGHTERS</td>\n",
       "      <td>T5</td>\n",
       "      <td>CompanySponsored</td>\n",
       "      <td>C3000</td>\n",
       "      <td>ProductDev</td>\n",
       "      <td>Association</td>\n",
       "      <td>1</td>\n",
       "      <td>0</td>\n",
       "      <td>N</td>\n",
       "      <td>5000</td>\n",
       "      <td>0</td>\n",
       "    </tr>\n",
       "    <tr>\n",
       "      <th>3</th>\n",
       "      <td>10553066</td>\n",
       "      <td>SOUTHSIDE ATHLETIC ASSOCIATION</td>\n",
       "      <td>T3</td>\n",
       "      <td>CompanySponsored</td>\n",
       "      <td>C2000</td>\n",
       "      <td>Preservation</td>\n",
       "      <td>Trust</td>\n",
       "      <td>1</td>\n",
       "      <td>10000-24999</td>\n",
       "      <td>N</td>\n",
       "      <td>6692</td>\n",
       "      <td>1</td>\n",
       "    </tr>\n",
       "    <tr>\n",
       "      <th>4</th>\n",
       "      <td>10556103</td>\n",
       "      <td>GENETIC RESEARCH INSTITUTE OF THE DESERT</td>\n",
       "      <td>T3</td>\n",
       "      <td>Independent</td>\n",
       "      <td>C1000</td>\n",
       "      <td>Heathcare</td>\n",
       "      <td>Trust</td>\n",
       "      <td>1</td>\n",
       "      <td>100000-499999</td>\n",
       "      <td>N</td>\n",
       "      <td>142590</td>\n",
       "      <td>1</td>\n",
       "    </tr>\n",
       "  </tbody>\n",
       "</table>\n",
       "</div>"
      ],
      "text/plain": [
       "        EIN                                      NAME APPLICATION_TYPE  \\\n",
       "0  10520599              BLUE KNIGHTS MOTORCYCLE CLUB              T10   \n",
       "1  10531628    AMERICAN CHESAPEAKE CLUB CHARITABLE TR               T3   \n",
       "2  10547893        ST CLOUD PROFESSIONAL FIREFIGHTERS               T5   \n",
       "3  10553066            SOUTHSIDE ATHLETIC ASSOCIATION               T3   \n",
       "4  10556103  GENETIC RESEARCH INSTITUTE OF THE DESERT               T3   \n",
       "\n",
       "        AFFILIATION CLASSIFICATION      USE_CASE  ORGANIZATION  STATUS  \\\n",
       "0       Independent          C1000    ProductDev   Association       1   \n",
       "1       Independent          C2000  Preservation  Co-operative       1   \n",
       "2  CompanySponsored          C3000    ProductDev   Association       1   \n",
       "3  CompanySponsored          C2000  Preservation         Trust       1   \n",
       "4       Independent          C1000     Heathcare         Trust       1   \n",
       "\n",
       "      INCOME_AMT SPECIAL_CONSIDERATIONS  ASK_AMT  IS_SUCCESSFUL  \n",
       "0              0                      N     5000              1  \n",
       "1         Jan-99                      N   108590              1  \n",
       "2              0                      N     5000              0  \n",
       "3    10000-24999                      N     6692              1  \n",
       "4  100000-499999                      N   142590              1  "
      ]
     },
     "execution_count": 4,
     "metadata": {},
     "output_type": "execute_result"
    }
   ],
   "source": [
    "#  Import and read the charity_data.csv.\n",
    "application_df = pd.read_csv(\"./Resources/charity_data.csv\")\n",
    "application_df.head()"
   ]
  },
  {
   "cell_type": "markdown",
   "metadata": {},
   "source": [
    "## Data Dictionary:\n",
    "\n",
    "* EIN and NAME—Identification columns\n",
    "* APPLICATION_TYPE—Alphabet Soup application type\n",
    "* AFFILIATION—Affiliated sector of industry\n",
    "* CLASSIFICATION—Government organization classification\n",
    "* USE_CASE—Use case for funding\n",
    "* ORGANIZATION—Organization type\n",
    "* STATUS—Active status\n",
    "* INCOME_AMT—Income classification\n",
    "* SPECIAL_CONSIDERATIONS—Special consideration for application\n",
    "* ASK_AMT—Funding amount requested\n",
    "* IS_SUCCESSFUL—Was the money used effectively"
   ]
  },
  {
   "cell_type": "code",
   "execution_count": 5,
   "metadata": {},
   "outputs": [
    {
     "name": "stdout",
     "output_type": "stream",
     "text": [
      "<class 'pandas.core.frame.DataFrame'>\n",
      "RangeIndex: 34299 entries, 0 to 34298\n",
      "Data columns (total 12 columns):\n",
      " #   Column                  Non-Null Count  Dtype \n",
      "---  ------                  --------------  ----- \n",
      " 0   EIN                     34299 non-null  int64 \n",
      " 1   NAME                    34299 non-null  object\n",
      " 2   APPLICATION_TYPE        34299 non-null  object\n",
      " 3   AFFILIATION             34299 non-null  object\n",
      " 4   CLASSIFICATION          34299 non-null  object\n",
      " 5   USE_CASE                34299 non-null  object\n",
      " 6   ORGANIZATION            34299 non-null  object\n",
      " 7   STATUS                  34299 non-null  int64 \n",
      " 8   INCOME_AMT              34299 non-null  object\n",
      " 9   SPECIAL_CONSIDERATIONS  34299 non-null  object\n",
      " 10  ASK_AMT                 34299 non-null  int64 \n",
      " 11  IS_SUCCESSFUL           34299 non-null  int64 \n",
      "dtypes: int64(4), object(8)\n",
      "memory usage: 3.1+ MB\n"
     ]
    }
   ],
   "source": [
    "# explore the data\n",
    "application_df.info() # 12 columns"
   ]
  },
  {
   "cell_type": "code",
   "execution_count": 6,
   "metadata": {},
   "outputs": [
    {
     "data": {
      "text/plain": [
       "1    18261\n",
       "0    16038\n",
       "Name: IS_SUCCESSFUL, dtype: int64"
      ]
     },
     "execution_count": 6,
     "metadata": {},
     "output_type": "execute_result"
    }
   ],
   "source": [
    "# check the mix of the target variable\n",
    "application_df[\"IS_SUCCESSFUL\"].value_counts()\n",
    "\n",
    "# there appears to be a good mix of successful and not successful applications"
   ]
  },
  {
   "cell_type": "code",
   "execution_count": 7,
   "metadata": {},
   "outputs": [
    {
     "name": "stdout",
     "output_type": "stream",
     "text": [
      "<class 'pandas.core.frame.DataFrame'>\n",
      "RangeIndex: 34299 entries, 0 to 34298\n",
      "Data columns (total 10 columns):\n",
      " #   Column                  Non-Null Count  Dtype \n",
      "---  ------                  --------------  ----- \n",
      " 0   APPLICATION_TYPE        34299 non-null  object\n",
      " 1   AFFILIATION             34299 non-null  object\n",
      " 2   CLASSIFICATION          34299 non-null  object\n",
      " 3   USE_CASE                34299 non-null  object\n",
      " 4   ORGANIZATION            34299 non-null  object\n",
      " 5   STATUS                  34299 non-null  int64 \n",
      " 6   INCOME_AMT              34299 non-null  object\n",
      " 7   SPECIAL_CONSIDERATIONS  34299 non-null  object\n",
      " 8   ASK_AMT                 34299 non-null  int64 \n",
      " 9   IS_SUCCESSFUL           34299 non-null  int64 \n",
      "dtypes: int64(3), object(7)\n",
      "memory usage: 2.6+ MB\n"
     ]
    }
   ],
   "source": [
    "# Drop the non-beneficial ID columns, 'EIN' and 'NAME'.\n",
    "application_df.drop(columns= [\"EIN\", \"NAME\"], inplace=True)\n",
    "application_df.info() # 10 columns"
   ]
  },
  {
   "cell_type": "code",
   "execution_count": 8,
   "metadata": {},
   "outputs": [
    {
     "data": {
      "text/plain": [
       "['STATUS', 'ASK_AMT', 'IS_SUCCESSFUL']"
      ]
     },
     "execution_count": 8,
     "metadata": {},
     "output_type": "execute_result"
    }
   ],
   "source": [
    "# Generate a list of numeric (non-categorical) columns\n",
    "application_not_cat = application_df.dtypes[application_df.dtypes != \"object\"].index.tolist()\n",
    "application_not_cat"
   ]
  },
  {
   "cell_type": "code",
   "execution_count": 9,
   "metadata": {},
   "outputs": [
    {
     "data": {
      "text/plain": [
       "STATUS              2\n",
       "ASK_AMT          8747\n",
       "IS_SUCCESSFUL       2\n",
       "dtype: int64"
      ]
     },
     "execution_count": 9,
     "metadata": {},
     "output_type": "execute_result"
    }
   ],
   "source": [
    "# Determine the number of unique values in each column of application_not_cat.\n",
    "application_df[application_not_cat].nunique()\n",
    "\n",
    "# it appears \"STATUS\" is binary and ASK_AMT is continuous"
   ]
  },
  {
   "cell_type": "code",
   "execution_count": 10,
   "metadata": {},
   "outputs": [
    {
     "data": {
      "text/plain": [
       "APPLICATION_TYPE          17\n",
       "AFFILIATION                6\n",
       "CLASSIFICATION            71\n",
       "USE_CASE                   5\n",
       "ORGANIZATION               4\n",
       "INCOME_AMT                 9\n",
       "SPECIAL_CONSIDERATIONS     2\n",
       "dtype: int64"
      ]
     },
     "execution_count": 10,
     "metadata": {},
     "output_type": "execute_result"
    }
   ],
   "source": [
    "# Generate our categorical variable list (having Dtype of \"object\")\n",
    "\n",
    "application_cat = application_df.dtypes[application_df.dtypes == \"object\"].index.tolist()\n",
    "application_df[application_cat].nunique()"
   ]
  },
  {
   "cell_type": "markdown",
   "metadata": {},
   "source": [
    "Note: APPLICATION_TYPE and CLASSIFICATION have more than 10 unique values\n",
    "Examine the unique values and bin to reduce to a \"managable\" number"
   ]
  },
  {
   "cell_type": "code",
   "execution_count": 11,
   "metadata": {},
   "outputs": [
    {
     "data": {
      "text/plain": [
       "T3     27037\n",
       "T4      1542\n",
       "T6      1216\n",
       "T5      1173\n",
       "T19     1065\n",
       "T8       737\n",
       "T7       725\n",
       "T10      528\n",
       "T9       156\n",
       "T13       66\n",
       "T12       27\n",
       "T2        16\n",
       "T25        3\n",
       "T14        3\n",
       "T29        2\n",
       "T15        2\n",
       "T17        1\n",
       "Name: APPLICATION_TYPE, dtype: int64"
      ]
     },
     "execution_count": 11,
     "metadata": {},
     "output_type": "execute_result"
    }
   ],
   "source": [
    "# Look at APPLICATION_TYPE value counts for binning\n",
    "application_type = application_df[\"APPLICATION_TYPE\"].value_counts()\n",
    "application_type"
   ]
  },
  {
   "cell_type": "code",
   "execution_count": 12,
   "metadata": {},
   "outputs": [
    {
     "data": {
      "text/plain": [
       "<AxesSubplot:ylabel='Density'>"
      ]
     },
     "execution_count": 12,
     "metadata": {},
     "output_type": "execute_result"
    },
    {
     "data": {
      "image/png": "[encoded data removed]",
      "text/plain": [
       "<Figure size 432x288 with 1 Axes>"
      ]
     },
     "metadata": {
      "needs_background": "light"
     },
     "output_type": "display_data"
    }
   ],
   "source": [
    "# Visualize the value counts of APPLICATION_TYPE\n",
    "application_type.plot.density()"
   ]
  },
  {
   "cell_type": "code",
   "execution_count": 13,
   "metadata": {},
   "outputs": [
    {
     "data": {
      "text/plain": [
       "T3       27037\n",
       "Other     2266\n",
       "T4        1542\n",
       "T6        1216\n",
       "T5        1173\n",
       "T19       1065\n",
       "Name: APPLICATION_TYPE, dtype: int64"
      ]
     },
     "execution_count": 13,
     "metadata": {},
     "output_type": "execute_result"
    }
   ],
   "source": [
    "# Determine which values to replace\n",
    "replace_application_type = list(application_type[application_type < 1000].index)\n",
    "\n",
    "# Replace in DataFrame\n",
    "for application_type in replace_application_type:\n",
    "    application_df[\"APPLICATION_TYPE\"] = application_df[\"APPLICATION_TYPE\"].replace(application_type, \"Other\")\n",
    "    \n",
    "# check to make sure binning was successful\n",
    "application_df[\"APPLICATION_TYPE\"].value_counts()"
   ]
  },
  {
   "cell_type": "code",
   "execution_count": 14,
   "metadata": {},
   "outputs": [
    {
     "data": {
      "text/plain": [
       "C1000    17326\n",
       "C2000     6074\n",
       "C1200     4837\n",
       "C3000     1918\n",
       "C2100     1883\n",
       "         ...  \n",
       "C4120        1\n",
       "C8210        1\n",
       "C2561        1\n",
       "C4500        1\n",
       "C2150        1\n",
       "Name: CLASSIFICATION, Length: 71, dtype: int64"
      ]
     },
     "execution_count": 14,
     "metadata": {},
     "output_type": "execute_result"
    }
   ],
   "source": [
    "# Look at CLASSIFICATION value counts for binning\n",
    "classification_type = application_df[\"CLASSIFICATION\"].value_counts()\n",
    "classification_type"
   ]
  },
  {
   "cell_type": "code",
   "execution_count": 15,
   "metadata": {},
   "outputs": [
    {
     "data": {
      "text/plain": [
       "<AxesSubplot:ylabel='Density'>"
      ]
     },
     "execution_count": 15,
     "metadata": {},
     "output_type": "execute_result"
    },
    {
     "data": {
      "image/png": "[encoded data removed]",
      "text/plain": [
       "<Figure size 432x288 with 1 Axes>"
      ]
     },
     "metadata": {
      "needs_background": "light"
     },
     "output_type": "display_data"
    }
   ],
   "source": [
    "# Visualize the value counts of CLASSIFICATION\n",
    "classification_type.plot.density()"
   ]
  },
  {
   "cell_type": "code",
   "execution_count": 16,
   "metadata": {},
   "outputs": [
    {
     "data": {
      "text/plain": [
       "C1000    17326\n",
       "C2000     6074\n",
       "C1200     4837\n",
       "C3000     1918\n",
       "C2100     1883\n",
       "Other     1484\n",
       "C7000      777\n",
       "Name: CLASSIFICATION, dtype: int64"
      ]
     },
     "execution_count": 16,
     "metadata": {},
     "output_type": "execute_result"
    }
   ],
   "source": [
    "# Determine which values to replace\n",
    "replace_classification_type = list(classification_type[classification_type < 500].index)\n",
    "\n",
    "# Replace in DataFrame\n",
    "for classification_type in replace_classification_type:\n",
    "    application_df[\"CLASSIFICATION\"] = application_df[\"CLASSIFICATION\"].replace(classification_type, \"Other\")\n",
    "    \n",
    "# check to make sure binning was successful\n",
    "application_df[\"CLASSIFICATION\"].value_counts()"
   ]
  },
  {
   "cell_type": "code",
   "execution_count": 17,
   "metadata": {},
   "outputs": [
    {
     "data": {
      "text/plain": [
       "APPLICATION_TYPE          6\n",
       "AFFILIATION               6\n",
       "CLASSIFICATION            7\n",
       "USE_CASE                  5\n",
       "ORGANIZATION              4\n",
       "INCOME_AMT                9\n",
       "SPECIAL_CONSIDERATIONS    2\n",
       "dtype: int64"
      ]
     },
     "execution_count": 17,
     "metadata": {},
     "output_type": "execute_result"
    }
   ],
   "source": [
    "# Generate our categorical variable list (having Dtype of \"object\")\n",
    "\n",
    "application_cat = application_df.dtypes[application_df.dtypes == \"object\"].index.tolist()\n",
    "application_df[application_cat].nunique()"
   ]
  },
  {
   "cell_type": "code",
   "execution_count": 18,
   "metadata": {},
   "outputs": [
    {
     "data": {
      "text/html": [
       "<div>\n",
       "<style scoped>\n",
       "    .dataframe tbody tr th:only-of-type {\n",
       "        vertical-align: middle;\n",
       "    }\n",
       "\n",
       "    .dataframe tbody tr th {\n",
       "        vertical-align: top;\n",
       "    }\n",
       "\n",
       "    .dataframe thead th {\n",
       "        text-align: right;\n",
       "    }\n",
       "</style>\n",
       "<table border=\"1\" class=\"dataframe\">\n",
       "  <thead>\n",
       "    <tr style=\"text-align: right;\">\n",
       "      <th></th>\n",
       "      <th>APPLICATION_TYPE_Other</th>\n",
       "      <th>APPLICATION_TYPE_T19</th>\n",
       "      <th>APPLICATION_TYPE_T3</th>\n",
       "      <th>APPLICATION_TYPE_T4</th>\n",
       "      <th>APPLICATION_TYPE_T5</th>\n",
       "      <th>APPLICATION_TYPE_T6</th>\n",
       "      <th>AFFILIATION_CompanySponsored</th>\n",
       "      <th>AFFILIATION_Family/Parent</th>\n",
       "      <th>AFFILIATION_Independent</th>\n",
       "      <th>AFFILIATION_National</th>\n",
       "      <th>...</th>\n",
       "      <th>INCOME_AMT_10000-24999</th>\n",
       "      <th>INCOME_AMT_100000-499999</th>\n",
       "      <th>INCOME_AMT_10M-50M</th>\n",
       "      <th>INCOME_AMT_1M-5M</th>\n",
       "      <th>INCOME_AMT_25000-99999</th>\n",
       "      <th>INCOME_AMT_50M+</th>\n",
       "      <th>INCOME_AMT_5M-10M</th>\n",
       "      <th>INCOME_AMT_Jan-99</th>\n",
       "      <th>SPECIAL_CONSIDERATIONS_N</th>\n",
       "      <th>SPECIAL_CONSIDERATIONS_Y</th>\n",
       "    </tr>\n",
       "  </thead>\n",
       "  <tbody>\n",
       "    <tr>\n",
       "      <th>0</th>\n",
       "      <td>1.0</td>\n",
       "      <td>0.0</td>\n",
       "      <td>0.0</td>\n",
       "      <td>0.0</td>\n",
       "      <td>0.0</td>\n",
       "      <td>0.0</td>\n",
       "      <td>0.0</td>\n",
       "      <td>0.0</td>\n",
       "      <td>1.0</td>\n",
       "      <td>0.0</td>\n",
       "      <td>...</td>\n",
       "      <td>0.0</td>\n",
       "      <td>0.0</td>\n",
       "      <td>0.0</td>\n",
       "      <td>0.0</td>\n",
       "      <td>0.0</td>\n",
       "      <td>0.0</td>\n",
       "      <td>0.0</td>\n",
       "      <td>0.0</td>\n",
       "      <td>1.0</td>\n",
       "      <td>0.0</td>\n",
       "    </tr>\n",
       "    <tr>\n",
       "      <th>1</th>\n",
       "      <td>0.0</td>\n",
       "      <td>0.0</td>\n",
       "      <td>1.0</td>\n",
       "      <td>0.0</td>\n",
       "      <td>0.0</td>\n",
       "      <td>0.0</td>\n",
       "      <td>0.0</td>\n",
       "      <td>0.0</td>\n",
       "      <td>1.0</td>\n",
       "      <td>0.0</td>\n",
       "      <td>...</td>\n",
       "      <td>0.0</td>\n",
       "      <td>0.0</td>\n",
       "      <td>0.0</td>\n",
       "      <td>0.0</td>\n",
       "      <td>0.0</td>\n",
       "      <td>0.0</td>\n",
       "      <td>0.0</td>\n",
       "      <td>1.0</td>\n",
       "      <td>1.0</td>\n",
       "      <td>0.0</td>\n",
       "    </tr>\n",
       "    <tr>\n",
       "      <th>2</th>\n",
       "      <td>0.0</td>\n",
       "      <td>0.0</td>\n",
       "      <td>0.0</td>\n",
       "      <td>0.0</td>\n",
       "      <td>1.0</td>\n",
       "      <td>0.0</td>\n",
       "      <td>1.0</td>\n",
       "      <td>0.0</td>\n",
       "      <td>0.0</td>\n",
       "      <td>0.0</td>\n",
       "      <td>...</td>\n",
       "      <td>0.0</td>\n",
       "      <td>0.0</td>\n",
       "      <td>0.0</td>\n",
       "      <td>0.0</td>\n",
       "      <td>0.0</td>\n",
       "      <td>0.0</td>\n",
       "      <td>0.0</td>\n",
       "      <td>0.0</td>\n",
       "      <td>1.0</td>\n",
       "      <td>0.0</td>\n",
       "    </tr>\n",
       "    <tr>\n",
       "      <th>3</th>\n",
       "      <td>0.0</td>\n",
       "      <td>0.0</td>\n",
       "      <td>1.0</td>\n",
       "      <td>0.0</td>\n",
       "      <td>0.0</td>\n",
       "      <td>0.0</td>\n",
       "      <td>1.0</td>\n",
       "      <td>0.0</td>\n",
       "      <td>0.0</td>\n",
       "      <td>0.0</td>\n",
       "      <td>...</td>\n",
       "      <td>1.0</td>\n",
       "      <td>0.0</td>\n",
       "      <td>0.0</td>\n",
       "      <td>0.0</td>\n",
       "      <td>0.0</td>\n",
       "      <td>0.0</td>\n",
       "      <td>0.0</td>\n",
       "      <td>0.0</td>\n",
       "      <td>1.0</td>\n",
       "      <td>0.0</td>\n",
       "    </tr>\n",
       "    <tr>\n",
       "      <th>4</th>\n",
       "      <td>0.0</td>\n",
       "      <td>0.0</td>\n",
       "      <td>1.0</td>\n",
       "      <td>0.0</td>\n",
       "      <td>0.0</td>\n",
       "      <td>0.0</td>\n",
       "      <td>0.0</td>\n",
       "      <td>0.0</td>\n",
       "      <td>1.0</td>\n",
       "      <td>0.0</td>\n",
       "      <td>...</td>\n",
       "      <td>0.0</td>\n",
       "      <td>1.0</td>\n",
       "      <td>0.0</td>\n",
       "      <td>0.0</td>\n",
       "      <td>0.0</td>\n",
       "      <td>0.0</td>\n",
       "      <td>0.0</td>\n",
       "      <td>0.0</td>\n",
       "      <td>1.0</td>\n",
       "      <td>0.0</td>\n",
       "    </tr>\n",
       "  </tbody>\n",
       "</table>\n",
       "<p>5 rows × 39 columns</p>\n",
       "</div>"
      ],
      "text/plain": [
       "   APPLICATION_TYPE_Other  APPLICATION_TYPE_T19  APPLICATION_TYPE_T3  \\\n",
       "0                     1.0                   0.0                  0.0   \n",
       "1                     0.0                   0.0                  1.0   \n",
       "2                     0.0                   0.0                  0.0   \n",
       "3                     0.0                   0.0                  1.0   \n",
       "4                     0.0                   0.0                  1.0   \n",
       "\n",
       "   APPLICATION_TYPE_T4  APPLICATION_TYPE_T5  APPLICATION_TYPE_T6  \\\n",
       "0                  0.0                  0.0                  0.0   \n",
       "1                  0.0                  0.0                  0.0   \n",
       "2                  0.0                  1.0                  0.0   \n",
       "3                  0.0                  0.0                  0.0   \n",
       "4                  0.0                  0.0                  0.0   \n",
       "\n",
       "   AFFILIATION_CompanySponsored  AFFILIATION_Family/Parent  \\\n",
       "0                           0.0                        0.0   \n",
       "1                           0.0                        0.0   \n",
       "2                           1.0                        0.0   \n",
       "3                           1.0                        0.0   \n",
       "4                           0.0                        0.0   \n",
       "\n",
       "   AFFILIATION_Independent  AFFILIATION_National  ...  INCOME_AMT_10000-24999  \\\n",
       "0                      1.0                   0.0  ...                     0.0   \n",
       "1                      1.0                   0.0  ...                     0.0   \n",
       "2                      0.0                   0.0  ...                     0.0   \n",
       "3                      0.0                   0.0  ...                     1.0   \n",
       "4                      1.0                   0.0  ...                     0.0   \n",
       "\n",
       "   INCOME_AMT_100000-499999  INCOME_AMT_10M-50M  INCOME_AMT_1M-5M  \\\n",
       "0                       0.0                 0.0               0.0   \n",
       "1                       0.0                 0.0               0.0   \n",
       "2                       0.0                 0.0               0.0   \n",
       "3                       0.0                 0.0               0.0   \n",
       "4                       1.0                 0.0               0.0   \n",
       "\n",
       "   INCOME_AMT_25000-99999  INCOME_AMT_50M+  INCOME_AMT_5M-10M  \\\n",
       "0                     0.0              0.0                0.0   \n",
       "1                     0.0              0.0                0.0   \n",
       "2                     0.0              0.0                0.0   \n",
       "3                     0.0              0.0                0.0   \n",
       "4                     0.0              0.0                0.0   \n",
       "\n",
       "   INCOME_AMT_Jan-99  SPECIAL_CONSIDERATIONS_N  SPECIAL_CONSIDERATIONS_Y  \n",
       "0                0.0                       1.0                       0.0  \n",
       "1                1.0                       1.0                       0.0  \n",
       "2                0.0                       1.0                       0.0  \n",
       "3                0.0                       1.0                       0.0  \n",
       "4                0.0                       1.0                       0.0  \n",
       "\n",
       "[5 rows x 39 columns]"
      ]
     },
     "execution_count": 18,
     "metadata": {},
     "output_type": "execute_result"
    }
   ],
   "source": [
    "# Create a OneHotEncoder instance\n",
    "enc = OneHotEncoder(sparse=False)\n",
    "\n",
    "# Fit and transform the OneHotEncoder using the categorical variable list\n",
    "encode_df = pd.DataFrame(enc.fit_transform(application_df[application_cat]))\n",
    "\n",
    "# Add the encoded variable names to the dataframe\n",
    "encode_df.columns = enc.get_feature_names(application_cat)\n",
    "encode_df.head()"
   ]
  },
  {
   "cell_type": "code",
   "execution_count": 19,
   "metadata": {},
   "outputs": [
    {
     "name": "stdout",
     "output_type": "stream",
     "text": [
      "<class 'pandas.core.frame.DataFrame'>\n",
      "RangeIndex: 34299 entries, 0 to 34298\n",
      "Data columns (total 39 columns):\n",
      " #   Column                        Non-Null Count  Dtype  \n",
      "---  ------                        --------------  -----  \n",
      " 0   APPLICATION_TYPE_Other        34299 non-null  float64\n",
      " 1   APPLICATION_TYPE_T19          34299 non-null  float64\n",
      " 2   APPLICATION_TYPE_T3           34299 non-null  float64\n",
      " 3   APPLICATION_TYPE_T4           34299 non-null  float64\n",
      " 4   APPLICATION_TYPE_T5           34299 non-null  float64\n",
      " 5   APPLICATION_TYPE_T6           34299 non-null  float64\n",
      " 6   AFFILIATION_CompanySponsored  34299 non-null  float64\n",
      " 7   AFFILIATION_Family/Parent     34299 non-null  float64\n",
      " 8   AFFILIATION_Independent       34299 non-null  float64\n",
      " 9   AFFILIATION_National          34299 non-null  float64\n",
      " 10  AFFILIATION_Other             34299 non-null  float64\n",
      " 11  AFFILIATION_Regional          34299 non-null  float64\n",
      " 12  CLASSIFICATION_C1000          34299 non-null  float64\n",
      " 13  CLASSIFICATION_C1200          34299 non-null  float64\n",
      " 14  CLASSIFICATION_C2000          34299 non-null  float64\n",
      " 15  CLASSIFICATION_C2100          34299 non-null  float64\n",
      " 16  CLASSIFICATION_C3000          34299 non-null  float64\n",
      " 17  CLASSIFICATION_C7000          34299 non-null  float64\n",
      " 18  CLASSIFICATION_Other          34299 non-null  float64\n",
      " 19  USE_CASE_CommunityServ        34299 non-null  float64\n",
      " 20  USE_CASE_Heathcare            34299 non-null  float64\n",
      " 21  USE_CASE_Other                34299 non-null  float64\n",
      " 22  USE_CASE_Preservation         34299 non-null  float64\n",
      " 23  USE_CASE_ProductDev           34299 non-null  float64\n",
      " 24  ORGANIZATION_Association      34299 non-null  float64\n",
      " 25  ORGANIZATION_Co-operative     34299 non-null  float64\n",
      " 26  ORGANIZATION_Corporation      34299 non-null  float64\n",
      " 27  ORGANIZATION_Trust            34299 non-null  float64\n",
      " 28  INCOME_AMT_0                  34299 non-null  float64\n",
      " 29  INCOME_AMT_10000-24999        34299 non-null  float64\n",
      " 30  INCOME_AMT_100000-499999      34299 non-null  float64\n",
      " 31  INCOME_AMT_10M-50M            34299 non-null  float64\n",
      " 32  INCOME_AMT_1M-5M              34299 non-null  float64\n",
      " 33  INCOME_AMT_25000-99999        34299 non-null  float64\n",
      " 34  INCOME_AMT_50M+               34299 non-null  float64\n",
      " 35  INCOME_AMT_5M-10M             34299 non-null  float64\n",
      " 36  INCOME_AMT_Jan-99             34299 non-null  float64\n",
      " 37  SPECIAL_CONSIDERATIONS_N      34299 non-null  float64\n",
      " 38  SPECIAL_CONSIDERATIONS_Y      34299 non-null  float64\n",
      "dtypes: float64(39)\n",
      "memory usage: 10.2 MB\n"
     ]
    }
   ],
   "source": [
    "encode_df.info()"
   ]
  },
  {
   "cell_type": "code",
   "execution_count": 20,
   "metadata": {},
   "outputs": [
    {
     "data": {
      "text/plain": [
       "(34299, 39)"
      ]
     },
     "execution_count": 20,
     "metadata": {},
     "output_type": "execute_result"
    }
   ],
   "source": [
    "encode_df.shape"
   ]
  },
  {
   "cell_type": "markdown",
   "metadata": {},
   "source": [
    "Now that our categorical variables have been encoded, they are ready to replace our unencoded categorical variables in our dataset.\n",
    "\n",
    "To replace these columns, we'll use a combination of Pandas' merge and drop methods. Add and run the following code in the notebook:"
   ]
  },
  {
   "cell_type": "code",
   "execution_count": 21,
   "metadata": {},
   "outputs": [
    {
     "data": {
      "text/html": [
       "<div>\n",
       "<style scoped>\n",
       "    .dataframe tbody tr th:only-of-type {\n",
       "        vertical-align: middle;\n",
       "    }\n",
       "\n",
       "    .dataframe tbody tr th {\n",
       "        vertical-align: top;\n",
       "    }\n",
       "\n",
       "    .dataframe thead th {\n",
       "        text-align: right;\n",
       "    }\n",
       "</style>\n",
       "<table border=\"1\" class=\"dataframe\">\n",
       "  <thead>\n",
       "    <tr style=\"text-align: right;\">\n",
       "      <th></th>\n",
       "      <th>STATUS</th>\n",
       "      <th>ASK_AMT</th>\n",
       "      <th>IS_SUCCESSFUL</th>\n",
       "      <th>APPLICATION_TYPE_Other</th>\n",
       "      <th>APPLICATION_TYPE_T19</th>\n",
       "      <th>APPLICATION_TYPE_T3</th>\n",
       "      <th>APPLICATION_TYPE_T4</th>\n",
       "      <th>APPLICATION_TYPE_T5</th>\n",
       "      <th>APPLICATION_TYPE_T6</th>\n",
       "      <th>AFFILIATION_CompanySponsored</th>\n",
       "      <th>...</th>\n",
       "      <th>INCOME_AMT_10000-24999</th>\n",
       "      <th>INCOME_AMT_100000-499999</th>\n",
       "      <th>INCOME_AMT_10M-50M</th>\n",
       "      <th>INCOME_AMT_1M-5M</th>\n",
       "      <th>INCOME_AMT_25000-99999</th>\n",
       "      <th>INCOME_AMT_50M+</th>\n",
       "      <th>INCOME_AMT_5M-10M</th>\n",
       "      <th>INCOME_AMT_Jan-99</th>\n",
       "      <th>SPECIAL_CONSIDERATIONS_N</th>\n",
       "      <th>SPECIAL_CONSIDERATIONS_Y</th>\n",
       "    </tr>\n",
       "  </thead>\n",
       "  <tbody>\n",
       "    <tr>\n",
       "      <th>0</th>\n",
       "      <td>1</td>\n",
       "      <td>5000</td>\n",
       "      <td>1</td>\n",
       "      <td>1.0</td>\n",
       "      <td>0.0</td>\n",
       "      <td>0.0</td>\n",
       "      <td>0.0</td>\n",
       "      <td>0.0</td>\n",
       "      <td>0.0</td>\n",
       "      <td>0.0</td>\n",
       "      <td>...</td>\n",
       "      <td>0.0</td>\n",
       "      <td>0.0</td>\n",
       "      <td>0.0</td>\n",
       "      <td>0.0</td>\n",
       "      <td>0.0</td>\n",
       "      <td>0.0</td>\n",
       "      <td>0.0</td>\n",
       "      <td>0.0</td>\n",
       "      <td>1.0</td>\n",
       "      <td>0.0</td>\n",
       "    </tr>\n",
       "    <tr>\n",
       "      <th>1</th>\n",
       "      <td>1</td>\n",
       "      <td>108590</td>\n",
       "      <td>1</td>\n",
       "      <td>0.0</td>\n",
       "      <td>0.0</td>\n",
       "      <td>1.0</td>\n",
       "      <td>0.0</td>\n",
       "      <td>0.0</td>\n",
       "      <td>0.0</td>\n",
       "      <td>0.0</td>\n",
       "      <td>...</td>\n",
       "      <td>0.0</td>\n",
       "      <td>0.0</td>\n",
       "      <td>0.0</td>\n",
       "      <td>0.0</td>\n",
       "      <td>0.0</td>\n",
       "      <td>0.0</td>\n",
       "      <td>0.0</td>\n",
       "      <td>1.0</td>\n",
       "      <td>1.0</td>\n",
       "      <td>0.0</td>\n",
       "    </tr>\n",
       "    <tr>\n",
       "      <th>2</th>\n",
       "      <td>1</td>\n",
       "      <td>5000</td>\n",
       "      <td>0</td>\n",
       "      <td>0.0</td>\n",
       "      <td>0.0</td>\n",
       "      <td>0.0</td>\n",
       "      <td>0.0</td>\n",
       "      <td>1.0</td>\n",
       "      <td>0.0</td>\n",
       "      <td>1.0</td>\n",
       "      <td>...</td>\n",
       "      <td>0.0</td>\n",
       "      <td>0.0</td>\n",
       "      <td>0.0</td>\n",
       "      <td>0.0</td>\n",
       "      <td>0.0</td>\n",
       "      <td>0.0</td>\n",
       "      <td>0.0</td>\n",
       "      <td>0.0</td>\n",
       "      <td>1.0</td>\n",
       "      <td>0.0</td>\n",
       "    </tr>\n",
       "    <tr>\n",
       "      <th>3</th>\n",
       "      <td>1</td>\n",
       "      <td>6692</td>\n",
       "      <td>1</td>\n",
       "      <td>0.0</td>\n",
       "      <td>0.0</td>\n",
       "      <td>1.0</td>\n",
       "      <td>0.0</td>\n",
       "      <td>0.0</td>\n",
       "      <td>0.0</td>\n",
       "      <td>1.0</td>\n",
       "      <td>...</td>\n",
       "      <td>1.0</td>\n",
       "      <td>0.0</td>\n",
       "      <td>0.0</td>\n",
       "      <td>0.0</td>\n",
       "      <td>0.0</td>\n",
       "      <td>0.0</td>\n",
       "      <td>0.0</td>\n",
       "      <td>0.0</td>\n",
       "      <td>1.0</td>\n",
       "      <td>0.0</td>\n",
       "    </tr>\n",
       "    <tr>\n",
       "      <th>4</th>\n",
       "      <td>1</td>\n",
       "      <td>142590</td>\n",
       "      <td>1</td>\n",
       "      <td>0.0</td>\n",
       "      <td>0.0</td>\n",
       "      <td>1.0</td>\n",
       "      <td>0.0</td>\n",
       "      <td>0.0</td>\n",
       "      <td>0.0</td>\n",
       "      <td>0.0</td>\n",
       "      <td>...</td>\n",
       "      <td>0.0</td>\n",
       "      <td>1.0</td>\n",
       "      <td>0.0</td>\n",
       "      <td>0.0</td>\n",
       "      <td>0.0</td>\n",
       "      <td>0.0</td>\n",
       "      <td>0.0</td>\n",
       "      <td>0.0</td>\n",
       "      <td>1.0</td>\n",
       "      <td>0.0</td>\n",
       "    </tr>\n",
       "  </tbody>\n",
       "</table>\n",
       "<p>5 rows × 42 columns</p>\n",
       "</div>"
      ],
      "text/plain": [
       "   STATUS  ASK_AMT  IS_SUCCESSFUL  APPLICATION_TYPE_Other  \\\n",
       "0       1     5000              1                     1.0   \n",
       "1       1   108590              1                     0.0   \n",
       "2       1     5000              0                     0.0   \n",
       "3       1     6692              1                     0.0   \n",
       "4       1   142590              1                     0.0   \n",
       "\n",
       "   APPLICATION_TYPE_T19  APPLICATION_TYPE_T3  APPLICATION_TYPE_T4  \\\n",
       "0                   0.0                  0.0                  0.0   \n",
       "1                   0.0                  1.0                  0.0   \n",
       "2                   0.0                  0.0                  0.0   \n",
       "3                   0.0                  1.0                  0.0   \n",
       "4                   0.0                  1.0                  0.0   \n",
       "\n",
       "   APPLICATION_TYPE_T5  APPLICATION_TYPE_T6  AFFILIATION_CompanySponsored  \\\n",
       "0                  0.0                  0.0                           0.0   \n",
       "1                  0.0                  0.0                           0.0   \n",
       "2                  1.0                  0.0                           1.0   \n",
       "3                  0.0                  0.0                           1.0   \n",
       "4                  0.0                  0.0                           0.0   \n",
       "\n",
       "   ...  INCOME_AMT_10000-24999  INCOME_AMT_100000-499999  INCOME_AMT_10M-50M  \\\n",
       "0  ...                     0.0                       0.0                 0.0   \n",
       "1  ...                     0.0                       0.0                 0.0   \n",
       "2  ...                     0.0                       0.0                 0.0   \n",
       "3  ...                     1.0                       0.0                 0.0   \n",
       "4  ...                     0.0                       1.0                 0.0   \n",
       "\n",
       "   INCOME_AMT_1M-5M  INCOME_AMT_25000-99999  INCOME_AMT_50M+  \\\n",
       "0               0.0                     0.0              0.0   \n",
       "1               0.0                     0.0              0.0   \n",
       "2               0.0                     0.0              0.0   \n",
       "3               0.0                     0.0              0.0   \n",
       "4               0.0                     0.0              0.0   \n",
       "\n",
       "   INCOME_AMT_5M-10M  INCOME_AMT_Jan-99  SPECIAL_CONSIDERATIONS_N  \\\n",
       "0                0.0                0.0                       1.0   \n",
       "1                0.0                1.0                       1.0   \n",
       "2                0.0                0.0                       1.0   \n",
       "3                0.0                0.0                       1.0   \n",
       "4                0.0                0.0                       1.0   \n",
       "\n",
       "   SPECIAL_CONSIDERATIONS_Y  \n",
       "0                       0.0  \n",
       "1                       0.0  \n",
       "2                       0.0  \n",
       "3                       0.0  \n",
       "4                       0.0  \n",
       "\n",
       "[5 rows x 42 columns]"
      ]
     },
     "execution_count": 21,
     "metadata": {},
     "output_type": "execute_result"
    }
   ],
   "source": [
    "# Merge one-hot encoded features and drop the originals\n",
    "application_df = application_df.merge(encode_df,left_index=True, right_index=True)\n",
    "application_df = application_df.drop(application_cat, axis= 1)\n",
    "application_df.head()"
   ]
  },
  {
   "cell_type": "code",
   "execution_count": 25,
   "metadata": {},
   "outputs": [
    {
     "name": "stdout",
     "output_type": "stream",
     "text": [
      "<class 'pandas.core.frame.DataFrame'>\n",
      "RangeIndex: 34299 entries, 0 to 34298\n",
      "Data columns (total 42 columns):\n",
      " #   Column                        Non-Null Count  Dtype  \n",
      "---  ------                        --------------  -----  \n",
      " 0   STATUS                        34299 non-null  int64  \n",
      " 1   ASK_AMT                       34299 non-null  int64  \n",
      " 2   IS_SUCCESSFUL                 34299 non-null  int64  \n",
      " 3   APPLICATION_TYPE_Other        34299 non-null  float64\n",
      " 4   APPLICATION_TYPE_T19          34299 non-null  float64\n",
      " 5   APPLICATION_TYPE_T3           34299 non-null  float64\n",
      " 6   APPLICATION_TYPE_T4           34299 non-null  float64\n",
      " 7   APPLICATION_TYPE_T5           34299 non-null  float64\n",
      " 8   APPLICATION_TYPE_T6           34299 non-null  float64\n",
      " 9   AFFILIATION_CompanySponsored  34299 non-null  float64\n",
      " 10  AFFILIATION_Family/Parent     34299 non-null  float64\n",
      " 11  AFFILIATION_Independent       34299 non-null  float64\n",
      " 12  AFFILIATION_National          34299 non-null  float64\n",
      " 13  AFFILIATION_Other             34299 non-null  float64\n",
      " 14  AFFILIATION_Regional          34299 non-null  float64\n",
      " 15  CLASSIFICATION_C1000          34299 non-null  float64\n",
      " 16  CLASSIFICATION_C1200          34299 non-null  float64\n",
      " 17  CLASSIFICATION_C2000          34299 non-null  float64\n",
      " 18  CLASSIFICATION_C2100          34299 non-null  float64\n",
      " 19  CLASSIFICATION_C3000          34299 non-null  float64\n",
      " 20  CLASSIFICATION_C7000          34299 non-null  float64\n",
      " 21  CLASSIFICATION_Other          34299 non-null  float64\n",
      " 22  USE_CASE_CommunityServ        34299 non-null  float64\n",
      " 23  USE_CASE_Heathcare            34299 non-null  float64\n",
      " 24  USE_CASE_Other                34299 non-null  float64\n",
      " 25  USE_CASE_Preservation         34299 non-null  float64\n",
      " 26  USE_CASE_ProductDev           34299 non-null  float64\n",
      " 27  ORGANIZATION_Association      34299 non-null  float64\n",
      " 28  ORGANIZATION_Co-operative     34299 non-null  float64\n",
      " 29  ORGANIZATION_Corporation      34299 non-null  float64\n",
      " 30  ORGANIZATION_Trust            34299 non-null  float64\n",
      " 31  INCOME_AMT_0                  34299 non-null  float64\n",
      " 32  INCOME_AMT_10000-24999        34299 non-null  float64\n",
      " 33  INCOME_AMT_100000-499999      34299 non-null  float64\n",
      " 34  INCOME_AMT_10M-50M            34299 non-null  float64\n",
      " 35  INCOME_AMT_1M-5M              34299 non-null  float64\n",
      " 36  INCOME_AMT_25000-99999        34299 non-null  float64\n",
      " 37  INCOME_AMT_50M+               34299 non-null  float64\n",
      " 38  INCOME_AMT_5M-10M             34299 non-null  float64\n",
      " 39  INCOME_AMT_Jan-99             34299 non-null  float64\n",
      " 40  SPECIAL_CONSIDERATIONS_N      34299 non-null  float64\n",
      " 41  SPECIAL_CONSIDERATIONS_Y      34299 non-null  float64\n",
      "dtypes: float64(39), int64(3)\n",
      "memory usage: 11.0 MB\n"
     ]
    }
   ],
   "source": [
    "# check that all columns are numeric\n",
    "application_df.info()"
   ]
  },
  {
   "cell_type": "markdown",
   "metadata": {},
   "source": [
    "Note: all the dtypes are not numeric (float64)"
   ]
  },
  {
   "cell_type": "code",
   "execution_count": 26,
   "metadata": {},
   "outputs": [],
   "source": [
    "# Split our preprocessed data into our features and target arrays\n",
    "y= application_df[\"IS_SUCCESSFUL\"].values\n",
    "X= application_df.drop([\"IS_SUCCESSFUL\"], axis=1).values"
   ]
  },
  {
   "cell_type": "code",
   "execution_count": 27,
   "metadata": {},
   "outputs": [],
   "source": [
    "# Split the preprocessed data into a training and testing dataset\n",
    "X_train, X_test, y_train, y_test = train_test_split(X, y, random_state=78)"
   ]
  },
  {
   "cell_type": "code",
   "execution_count": 28,
   "metadata": {},
   "outputs": [],
   "source": [
    "# Create a StandardScaler instances\n",
    "scaler = StandardScaler()\n",
    "\n",
    "# Fit the StandardScaler\n",
    "X_scaler = scaler.fit(X_train)\n",
    "\n",
    "# Scale the data\n",
    "X_train_scaled = X_scaler.transform(X_train)\n",
    "X_test_scaled = X_scaler.transform(X_test)"
   ]
  },
  {
   "cell_type": "code",
   "execution_count": 29,
   "metadata": {},
   "outputs": [
    {
     "data": {
      "text/plain": [
       "41"
      ]
     },
     "execution_count": 29,
     "metadata": {},
     "output_type": "execute_result"
    }
   ],
   "source": [
    "# check the number of features in X\n",
    "len(X_train[0])"
   ]
  },
  {
   "cell_type": "markdown",
   "metadata": {},
   "source": [
    "### Deliverable 2: Compile, Train and Evaluate the Model \n"
   ]
  },
  {
   "cell_type": "code",
   "execution_count": 41,
   "metadata": {},
   "outputs": [
    {
     "name": "stdout",
     "output_type": "stream",
     "text": [
      "Model: \"sequential_1\"\n",
      "_________________________________________________________________\n",
      "Layer (type)                 Output Shape              Param #   \n",
      "=================================================================\n",
      "dense_3 (Dense)              (None, 123)               5166      \n",
      "_________________________________________________________________\n",
      "dense_4 (Dense)              (None, 20)                2480      \n",
      "_________________________________________________________________\n",
      "dense_5 (Dense)              (None, 1)                 21        \n",
      "=================================================================\n",
      "Total params: 7,667\n",
      "Trainable params: 7,667\n",
      "Non-trainable params: 0\n",
      "_________________________________________________________________\n"
     ]
    }
   ],
   "source": [
    "# Define the model - deep neural net, i.e., the number of input features and hidden nodes for each layer.\n",
    "# this is done using the classes within the Keras module\n",
    "number_input_features = len(X_train[0])\n",
    "hidden_nodes_layer1 =  (number_input_features * 3)\n",
    "hidden_nodes_layer2 = (number_input_features * 0.5)\n",
    "\n",
    "nn_inital = tf.keras.models.Sequential()\n",
    "\n",
    "# First hidden layer\n",
    "nn_inital.add(\n",
    "    tf.keras.layers.Dense(\n",
    "        units=hidden_nodes_layer1, \n",
    "        input_dim=number_input_features, \n",
    "        activation=\"relu\")\n",
    ")\n",
    "\n",
    "# Second hidden layer\n",
    "nn_inital.add(tf.keras.layers.Dense(\n",
    "    units=hidden_nodes_layer2, \n",
    "    activation=\"relu\")\n",
    ")\n",
    "\n",
    "# third hidden layer\n",
    "# nn.add(tf.keras.layers.Dense(\n",
    "#     units=hidden_nodes_layer3,\n",
    "#     activation=\"sigmoid\"\n",
    "# ))\n",
    "\n",
    "# Output layer\n",
    "nn_inital.add(tf.keras.layers.Dense(\n",
    "    units=1, \n",
    "    activation=\"sigmoid\"\n",
    "))\n",
    "\n",
    "# Check the structure of the model\n",
    "nn_inital.summary()"
   ]
  },
  {
   "cell_type": "markdown",
   "metadata": {},
   "source": [
    "Now that we have our training data ready, we can implement checkpoints to our deep learning model.\n",
    "\n",
    "Now that we have our training data and our model defined, we're ready to compile and train our model using checkpoints. To use checkpoints, we need to define the checkpoint file name and directory path. For our purposes, we'll label our checkpoints by epoch number and contain them within their own folder. This ensures that our checkpoint files are neat, organized, and easily identifiable. Add and run the following code to our notebook:"
   ]
  },
  {
   "cell_type": "code",
   "execution_count": 42,
   "metadata": {},
   "outputs": [],
   "source": [
    "# Import checkpoint dependencies\n",
    "import os\n",
    "from tensorflow.keras.callbacks import ModelCheckpoint\n",
    "\n",
    "# Define the checkpoint path and filenames\n",
    "os.makedirs(\"checkpoints/\",exist_ok=True)\n",
    "checkpoint_path = \"checkpoints/weights.{epoch:02d}.hdf5\""
   ]
  },
  {
   "cell_type": "markdown",
   "metadata": {},
   "source": [
    "Once we have defined the file structure and filepath, we need to create a callback object for our deep learning model. A callback object is used in the Keras module to define a set of functions that will be applied at specific stages of the training process.There are a number of different callback functions available that can create log files, force training to stop, send training status messages, or in our case save model checkpoints. To create an effective checkpoint callback using the ModelCheckpoint method, we need to provide the following parameters:\n",
    "\n",
    "* filepath=checkpoint_path—the checkpoint directory and file structure we defined previously\n",
    "* verbose=1—we'll be notified when a checkpoint is being saved to the directory\n",
    "* save_weights_only=True—saving the full model each time can fill up a hard drive very quickly; this ensures that the checkpoint files take up minimal space\n",
    "* save_freq=1000—checkpoints will be saved every thousand samples tested (across all epochs)\n",
    "\n",
    "Bringing it all together, we can compile, train, and evaluate our deep learning model by adding and running the following code:"
   ]
  },
  {
   "cell_type": "markdown",
   "metadata": {},
   "source": [
    "Now it is time to compile our model and define the loss and accuracy metrics. Since we want to use our model as a binary classifier, we'll use the binary_crossentropy loss function, adam optimizer, and accuracy metrics. To compile the model, add and run the following code:"
   ]
  },
  {
   "cell_type": "code",
   "execution_count": 43,
   "metadata": {},
   "outputs": [],
   "source": [
    "# Compile the model\n",
    "nn_inital.compile(loss=\"binary_crossentropy\", optimizer=\"adam\", metrics=[\"accuracy\"])"
   ]
  },
  {
   "cell_type": "code",
   "execution_count": 35,
   "metadata": {},
   "outputs": [],
   "source": [
    "# creat a callback that saves the model's weights every 5 epochs\n",
    "cp_callback = ModelCheckpoint(\n",
    "    filepath=checkpoint_path,\n",
    "    verbose= 1,\n",
    "    save_weights_only=True,\n",
    "    save_freq=1000\n",
    ")    "
   ]
  },
  {
   "cell_type": "code",
   "execution_count": 44,
   "metadata": {},
   "outputs": [
    {
     "name": "stdout",
     "output_type": "stream",
     "text": [
      "Epoch 1/100\n",
      "570/804 [====================>.........] - ETA: 0s - loss: 0.5759 - accuracy: 0.7188\n",
      "Epoch 00001: saving model to checkpoints\\weights.01.hdf5\n",
      "804/804 [==============================] - 1s 729us/step - loss: 0.5739 - accuracy: 0.7192\n",
      "Epoch 2/100\n",
      "760/804 [===========================>..] - ETA: 0s - loss: 0.5563 - accuracy: 0.7312\n",
      "Epoch 00002: saving model to checkpoints\\weights.02.hdf5\n",
      "804/804 [==============================] - 1s 891us/step - loss: 0.5573 - accuracy: 0.7306\n",
      "Epoch 3/100\n",
      "804/804 [==============================] - 1s 906us/step - loss: 0.5546 - accuracy: 0.7324\n",
      "Epoch 4/100\n",
      "163/804 [=====>........................] - ETA: 0s - loss: 0.5511 - accuracy: 0.7322\n",
      "Epoch 00004: saving model to checkpoints\\weights.04.hdf5\n",
      "804/804 [==============================] - 1s 924us/step - loss: 0.5525 - accuracy: 0.7325\n",
      "Epoch 5/100\n",
      "333/804 [===========>..................] - ETA: 0s - loss: 0.5529 - accuracy: 0.7322\n",
      "Epoch 00005: saving model to checkpoints\\weights.05.hdf5\n",
      "804/804 [==============================] - 1s 911us/step - loss: 0.5516 - accuracy: 0.7319\n",
      "Epoch 6/100\n",
      "549/804 [===================>..........] - ETA: 0s - loss: 0.5528 - accuracy: 0.7321\n",
      "Epoch 00006: saving model to checkpoints\\weights.06.hdf5\n",
      "804/804 [==============================] - 1s 940us/step - loss: 0.5507 - accuracy: 0.7339\n",
      "Epoch 7/100\n",
      "752/804 [===========================>..] - ETA: 0s - loss: 0.5505 - accuracy: 0.7336 ETA: 0s - loss: 0\n",
      "Epoch 00007: saving model to checkpoints\\weights.07.hdf5\n",
      "804/804 [==============================] - 1s 959us/step - loss: 0.5506 - accuracy: 0.7337\n",
      "Epoch 8/100\n",
      "804/804 [==============================] - 1s 916us/step - loss: 0.5491 - accuracy: 0.7335\n",
      "Epoch 9/100\n",
      "163/804 [=====>........................] - ETA: 0s - loss: 0.5515 - accuracy: 0.7358\n",
      "Epoch 00009: saving model to checkpoints\\weights.09.hdf5\n",
      "804/804 [==============================] - 1s 929us/step - loss: 0.5486 - accuracy: 0.7340\n",
      "Epoch 10/100\n",
      "317/804 [==========>...................] - ETA: 0s - loss: 0.5457 - accuracy: 0.7353\n",
      "Epoch 00010: saving model to checkpoints\\weights.10.hdf5\n",
      "804/804 [==============================] - 1s 936us/step - loss: 0.5482 - accuracy: 0.7356\n",
      "Epoch 11/100\n",
      "554/804 [===================>..........] - ETA: 0s - loss: 0.5484 - accuracy: 0.7343\n",
      "Epoch 00011: saving model to checkpoints\\weights.11.hdf5\n",
      "804/804 [==============================] - 1s 926us/step - loss: 0.5483 - accuracy: 0.7339\n",
      "Epoch 12/100\n",
      "706/804 [=========================>....] - ETA: 0s - loss: 0.5465 - accuracy: 0.7362\n",
      "Epoch 00012: saving model to checkpoints\\weights.12.hdf5\n",
      "804/804 [==============================] - 1s 941us/step - loss: 0.5476 - accuracy: 0.7353\n",
      "Epoch 13/100\n",
      "804/804 [==============================] - 1s 919us/step - loss: 0.5471 - accuracy: 0.7348\n",
      "Epoch 14/100\n",
      " 99/804 [==>...........................] - ETA: 0s - loss: 0.5510 - accuracy: 0.7304\n",
      "Epoch 00014: saving model to checkpoints\\weights.14.hdf5\n",
      "804/804 [==============================] - 1s 965us/step - loss: 0.5468 - accuracy: 0.7352\n",
      "Epoch 15/100\n",
      "307/804 [==========>...................] - ETA: 0s - loss: 0.5491 - accuracy: 0.7333\n",
      "Epoch 00015: saving model to checkpoints\\weights.15.hdf5\n",
      "804/804 [==============================] - 1s 1ms/step - loss: 0.5470 - accuracy: 0.7358\n",
      "Epoch 16/100\n",
      "523/804 [==================>...........] - ETA: 0s - loss: 0.5466 - accuracy: 0.7371\n",
      "Epoch 00016: saving model to checkpoints\\weights.16.hdf5\n",
      "804/804 [==============================] - 1s 948us/step - loss: 0.5466 - accuracy: 0.7360\n",
      "Epoch 17/100\n",
      "708/804 [=========================>....] - ETA: 0s - loss: 0.5454 - accuracy: 0.7371\n",
      "Epoch 00017: saving model to checkpoints\\weights.17.hdf5\n",
      "804/804 [==============================] - 1s 866us/step - loss: 0.5462 - accuracy: 0.7363\n",
      "Epoch 18/100\n",
      "804/804 [==============================] - 1s 886us/step - loss: 0.5459 - accuracy: 0.7358\n",
      "Epoch 19/100\n",
      "111/804 [===>..........................] - ETA: 0s - loss: 0.5449 - accuracy: 0.7396\n",
      "Epoch 00019: saving model to checkpoints\\weights.19.hdf5\n",
      "804/804 [==============================] - 1s 884us/step - loss: 0.5454 - accuracy: 0.7357\n",
      "Epoch 20/100\n",
      "293/804 [=========>....................] - ETA: 0s - loss: 0.5417 - accuracy: 0.7419\n",
      "Epoch 00020: saving model to checkpoints\\weights.20.hdf5\n",
      "804/804 [==============================] - 1s 873us/step - loss: 0.5455 - accuracy: 0.7361\n",
      "Epoch 21/100\n",
      "463/804 [================>.............] - ETA: 0s - loss: 0.5479 - accuracy: 0.7355\n",
      "Epoch 00021: saving model to checkpoints\\weights.21.hdf5\n",
      "804/804 [==============================] - 1s 881us/step - loss: 0.5452 - accuracy: 0.7373\n",
      "Epoch 22/100\n",
      "711/804 [=========================>....] - ETA: 0s - loss: 0.5450 - accuracy: 0.7359\n",
      "Epoch 00022: saving model to checkpoints\\weights.22.hdf5\n",
      "804/804 [==============================] - 1s 868us/step - loss: 0.5452 - accuracy: 0.7357\n",
      "Epoch 23/100\n",
      "804/804 [==============================] - 1s 928us/step - loss: 0.5447 - accuracy: 0.73780s - loss: 0.5437 - accuracy: 0.73\n",
      "Epoch 24/100\n",
      "106/804 [==>...........................] - ETA: 0s - loss: 0.5471 - accuracy: 0.7406\n",
      "Epoch 00024: saving model to checkpoints\\weights.24.hdf5\n",
      "804/804 [==============================] - 1s 1ms/step - loss: 0.5449 - accuracy: 0.7369\n",
      "Epoch 25/100\n",
      "285/804 [=========>....................] - ETA: 0s - loss: 0.5402 - accuracy: 0.7380\n",
      "Epoch 00025: saving model to checkpoints\\weights.25.hdf5\n",
      "804/804 [==============================] - 1s 1ms/step - loss: 0.5445 - accuracy: 0.7360\n",
      "Epoch 26/100\n",
      "473/804 [================>.............] - ETA: 0s - loss: 0.5485 - accuracy: 0.7343\n",
      "Epoch 00026: saving model to checkpoints\\weights.26.hdf5\n",
      "804/804 [==============================] - 1s 1ms/step - loss: 0.5443 - accuracy: 0.7367\n",
      "Epoch 27/100\n",
      "678/804 [========================>.....] - ETA: 0s - loss: 0.5439 - accuracy: 0.7385\n",
      "Epoch 00027: saving model to checkpoints\\weights.27.hdf5\n",
      "804/804 [==============================] - 1s 908us/step - loss: 0.5444 - accuracy: 0.7374\n",
      "Epoch 28/100\n",
      "804/804 [==============================] - 1s 912us/step - loss: 0.5441 - accuracy: 0.7376\n",
      "Epoch 29/100\n",
      " 43/804 [>.............................] - ETA: 0s - loss: 0.5229 - accuracy: 0.7565\n",
      "Epoch 00029: saving model to checkpoints\\weights.29.hdf5\n",
      "804/804 [==============================] - 1s 994us/step - loss: 0.5437 - accuracy: 0.7383\n",
      "Epoch 30/100\n",
      "254/804 [========>.....................] - ETA: 0s - loss: 0.5446 - accuracy: 0.7363\n",
      "Epoch 00030: saving model to checkpoints\\weights.30.hdf5\n",
      "804/804 [==============================] - 1s 1ms/step - loss: 0.5435 - accuracy: 0.7386\n",
      "Epoch 31/100\n",
      "453/804 [===============>..............] - ETA: 0s - loss: 0.5414 - accuracy: 0.7375\n",
      "Epoch 00031: saving model to checkpoints\\weights.31.hdf5\n",
      "804/804 [==============================] - 1s 899us/step - loss: 0.5436 - accuracy: 0.7379\n",
      "Epoch 32/100\n",
      "670/804 [========================>.....] - ETA: 0s - loss: 0.5442 - accuracy: 0.7375\n",
      "Epoch 00032: saving model to checkpoints\\weights.32.hdf5\n",
      "804/804 [==============================] - 1s 945us/step - loss: 0.5433 - accuracy: 0.7380\n",
      "Epoch 33/100\n",
      "804/804 [==============================] - 1s 922us/step - loss: 0.5431 - accuracy: 0.7376\n",
      "Epoch 34/100\n",
      " 50/804 [>.............................] - ETA: 0s - loss: 0.5454 - accuracy: 0.7406\n",
      "Epoch 00034: saving model to checkpoints\\weights.34.hdf5\n",
      "804/804 [==============================] - 1s 934us/step - loss: 0.5434 - accuracy: 0.7384\n",
      "Epoch 35/100\n",
      "211/804 [======>.......................] - ETA: 0s - loss: 0.5323 - accuracy: 0.7494\n",
      "Epoch 00035: saving model to checkpoints\\weights.35.hdf5\n",
      "804/804 [==============================] - 1s 928us/step - loss: 0.5430 - accuracy: 0.7378\n",
      "Epoch 36/100\n",
      "442/804 [===============>..............] - ETA: 0s - loss: 0.5422 - accuracy: 0.7373\n",
      "Epoch 00036: saving model to checkpoints\\weights.36.hdf5\n",
      "804/804 [==============================] - 1s 997us/step - loss: 0.5431 - accuracy: 0.7384\n",
      "Epoch 37/100\n",
      "653/804 [=======================>......] - ETA: 0s - loss: 0.5430 - accuracy: 0.7379\n",
      "Epoch 00037: saving model to checkpoints\\weights.37.hdf5\n",
      "804/804 [==============================] - 1s 1ms/step - loss: 0.5428 - accuracy: 0.7383\n",
      "Epoch 38/100\n",
      "804/804 [==============================] - 1s 955us/step - loss: 0.5427 - accuracy: 0.7386\n",
      "Epoch 39/100\n",
      "  1/804 [..............................] - ETA: 0s - loss: 0.7089 - accuracy: 0.6250\n",
      "Epoch 00039: saving model to checkpoints\\weights.39.hdf5\n",
      "804/804 [==============================] - 1s 975us/step - loss: 0.5426 - accuracy: 0.7386\n",
      "Epoch 40/100\n",
      "207/804 [======>.......................] - ETA: 0s - loss: 0.5387 - accuracy: 0.7378\n",
      "Epoch 00040: saving model to checkpoints\\weights.40.hdf5\n",
      "804/804 [==============================] - 1s 1ms/step - loss: 0.5425 - accuracy: 0.7383\n",
      "Epoch 41/100\n",
      "404/804 [==============>...............] - ETA: 0s - loss: 0.5401 - accuracy: 0.7408\n",
      "Epoch 00041: saving model to checkpoints\\weights.41.hdf5\n",
      "804/804 [==============================] - 1s 1ms/step - loss: 0.5423 - accuracy: 0.7390\n",
      "Epoch 42/100\n",
      "589/804 [====================>.........] - ETA: 0s - loss: 0.5417 - accuracy: 0.7384\n",
      "Epoch 00042: saving model to checkpoints\\weights.42.hdf5\n",
      "804/804 [==============================] - 1s 963us/step - loss: 0.5422 - accuracy: 0.7385\n",
      "Epoch 43/100\n",
      "804/804 [==============================] - 1s 935us/step - loss: 0.5420 - accuracy: 0.7383\n",
      "Epoch 44/100\n",
      "  1/804 [..............................] - ETA: 0s - loss: 0.5523 - accuracy: 0.7500\n",
      "Epoch 00044: saving model to checkpoints\\weights.44.hdf5\n",
      "804/804 [==============================] - 1s 1ms/step - loss: 0.5423 - accuracy: 0.7393\n",
      "Epoch 45/100\n",
      "213/804 [======>.......................] - ETA: 0s - loss: 0.5378 - accuracy: 0.7391\n",
      "Epoch 00045: saving model to checkpoints\\weights.45.hdf5\n",
      "804/804 [==============================] - 1s 1ms/step - loss: 0.5414 - accuracy: 0.7392\n",
      "Epoch 46/100\n",
      "400/804 [=============>................] - ETA: 0s - loss: 0.5375 - accuracy: 0.7418\n",
      "Epoch 00046: saving model to checkpoints\\weights.46.hdf5\n",
      "804/804 [==============================] - 1s 932us/step - loss: 0.5419 - accuracy: 0.7382\n",
      "Epoch 47/100\n",
      "568/804 [====================>.........] - ETA: 0s - loss: 0.5406 - accuracy: 0.7397\n",
      "Epoch 00047: saving model to checkpoints\\weights.47.hdf5\n",
      "804/804 [==============================] - 1s 974us/step - loss: 0.5415 - accuracy: 0.7381\n",
      "Epoch 48/100\n",
      "804/804 [==============================] - 1s 955us/step - loss: 0.5412 - accuracy: 0.7397\n",
      "Epoch 49/100\n",
      "  1/804 [..............................] - ETA: 0s - loss: 0.4826 - accuracy: 0.8125\n",
      "Epoch 00049: saving model to checkpoints\\weights.49.hdf5\n",
      "804/804 [==============================] - 1s 990us/step - loss: 0.5419 - accuracy: 0.7386\n",
      "Epoch 50/100\n",
      "155/804 [====>.........................] - ETA: 0s - loss: 0.5424 - accuracy: 0.7377\n",
      "Epoch 00050: saving model to checkpoints\\weights.50.hdf5\n",
      "804/804 [==============================] - 1s 1ms/step - loss: 0.5410 - accuracy: 0.7392: 0s - loss: 0.5355 - ac\n",
      "Epoch 51/100\n",
      "381/804 [=============>................] - ETA: 0s - loss: 0.5403 - accuracy: 0.7391\n",
      "Epoch 00051: saving model to checkpoints\\weights.51.hdf5\n",
      "804/804 [==============================] - 1s 1ms/step - loss: 0.5413 - accuracy: 0.7390\n",
      "Epoch 52/100\n",
      "562/804 [===================>..........] - ETA: 0s - loss: 0.5430 - accuracy: 0.7371\n",
      "Epoch 00052: saving model to checkpoints\\weights.52.hdf5\n",
      "804/804 [==============================] - 1s 1ms/step - loss: 0.5409 - accuracy: 0.7395\n",
      "Epoch 53/100\n",
      "770/804 [===========================>..] - ETA: 0s - loss: 0.5415 - accuracy: 0.7388\n",
      "Epoch 00053: saving model to checkpoints\\weights.53.hdf5\n",
      "804/804 [==============================] - 1s 935us/step - loss: 0.5413 - accuracy: 0.7388\n",
      "Epoch 54/100\n",
      "804/804 [==============================] - 1s 1ms/step - loss: 0.5410 - accuracy: 0.7395\n",
      "Epoch 55/100\n",
      "150/804 [====>.........................] - ETA: 0s - loss: 0.5332 - accuracy: 0.7456\n",
      "Epoch 00055: saving model to checkpoints\\weights.55.hdf5\n",
      "804/804 [==============================] - 1s 1ms/step - loss: 0.5411 - accuracy: 0.7390\n",
      "Epoch 56/100\n",
      "356/804 [============>.................] - ETA: 0s - loss: 0.5373 - accuracy: 0.7424\n",
      "Epoch 00056: saving model to checkpoints\\weights.56.hdf5\n",
      "804/804 [==============================] - 1s 1ms/step - loss: 0.5409 - accuracy: 0.7387\n",
      "Epoch 57/100\n",
      "563/804 [====================>.........] - ETA: 0s - loss: 0.5432 - accuracy: 0.7378\n",
      "Epoch 00057: saving model to checkpoints\\weights.57.hdf5\n",
      "804/804 [==============================] - 1s 1ms/step - loss: 0.5409 - accuracy: 0.7395\n",
      "Epoch 58/100\n",
      "754/804 [===========================>..] - ETA: 0s - loss: 0.5404 - accuracy: 0.7401\n",
      "Epoch 00058: saving model to checkpoints\\weights.58.hdf5\n",
      "804/804 [==============================] - 1s 1ms/step - loss: 0.5407 - accuracy: 0.7395\n",
      "Epoch 59/100\n",
      "804/804 [==============================] - 1s 1ms/step - loss: 0.5407 - accuracy: 0.7394\n",
      "Epoch 60/100\n",
      "112/804 [===>..........................] - ETA: 0s - loss: 0.5197 - accuracy: 0.7550\n",
      "Epoch 00060: saving model to checkpoints\\weights.60.hdf5\n",
      "804/804 [==============================] - 1s 959us/step - loss: 0.5404 - accuracy: 0.7391\n",
      "Epoch 61/100\n",
      "353/804 [============>.................] - ETA: 0s - loss: 0.5426 - accuracy: 0.7402\n",
      "Epoch 00061: saving model to checkpoints\\weights.61.hdf5\n",
      "804/804 [==============================] - 1s 987us/step - loss: 0.5407 - accuracy: 0.7389\n",
      "Epoch 62/100\n",
      "536/804 [===================>..........] - ETA: 0s - loss: 0.5414 - accuracy: 0.7376\n",
      "Epoch 00062: saving model to checkpoints\\weights.62.hdf5\n",
      "804/804 [==============================] - 1s 1ms/step - loss: 0.5403 - accuracy: 0.7388\n",
      "Epoch 63/100\n",
      "720/804 [=========================>....] - ETA: 0s - loss: 0.5392 - accuracy: 0.7405\n",
      "Epoch 00063: saving model to checkpoints\\weights.63.hdf5\n",
      "804/804 [==============================] - 1s 923us/step - loss: 0.5404 - accuracy: 0.7395\n",
      "Epoch 64/100\n",
      "804/804 [==============================] - 1s 1ms/step - loss: 0.5405 - accuracy: 0.7392\n",
      "Epoch 65/100\n",
      "101/804 [==>...........................] - ETA: 0s - loss: 0.5415 - accuracy: 0.7386\n",
      "Epoch 00065: saving model to checkpoints\\weights.65.hdf5\n",
      "804/804 [==============================] - 1s 1ms/step - loss: 0.5402 - accuracy: 0.7394\n",
      "Epoch 66/100\n",
      "333/804 [===========>..................] - ETA: 0s - loss: 0.5356 - accuracy: 0.7427\n",
      "Epoch 00066: saving model to checkpoints\\weights.66.hdf5\n",
      "804/804 [==============================] - 1s 932us/step - loss: 0.5405 - accuracy: 0.7386\n",
      "Epoch 67/100\n",
      "496/804 [=================>............] - ETA: 0s - loss: 0.5393 - accuracy: 0.7382\n",
      "Epoch 00067: saving model to checkpoints\\weights.67.hdf5\n",
      "804/804 [==============================] - 1s 1ms/step - loss: 0.5402 - accuracy: 0.7386\n",
      "Epoch 68/100\n",
      "685/804 [========================>.....] - ETA: 0s - loss: 0.5396 - accuracy: 0.7412\n",
      "Epoch 00068: saving model to checkpoints\\weights.68.hdf5\n",
      "804/804 [==============================] - 1s 975us/step - loss: 0.5402 - accuracy: 0.7400\n",
      "Epoch 69/100\n",
      "804/804 [==============================] - 1s 976us/step - loss: 0.5399 - accuracy: 0.7397\n",
      "Epoch 70/100\n",
      "106/804 [==>...........................] - ETA: 0s - loss: 0.5405 - accuracy: 0.7385\n",
      "Epoch 00070: saving model to checkpoints\\weights.70.hdf5\n",
      "804/804 [==============================] - 1s 1ms/step - loss: 0.5397 - accuracy: 0.7404\n",
      "Epoch 71/100\n",
      "299/804 [==========>...................] - ETA: 0s - loss: 0.5374 - accuracy: 0.7438\n",
      "Epoch 00071: saving model to checkpoints\\weights.71.hdf5\n",
      "804/804 [==============================] - 1s 956us/step - loss: 0.5402 - accuracy: 0.7399\n",
      "Epoch 72/100\n",
      "516/804 [==================>...........] - ETA: 0s - loss: 0.5447 - accuracy: 0.7360\n",
      "Epoch 00072: saving model to checkpoints\\weights.72.hdf5\n",
      "804/804 [==============================] - 1s 935us/step - loss: 0.5395 - accuracy: 0.7393\n",
      "Epoch 73/100\n",
      "661/804 [=======================>......] - ETA: 0s - loss: 0.5413 - accuracy: 0.7375\n",
      "Epoch 00073: saving model to checkpoints\\weights.73.hdf5\n",
      "804/804 [==============================] - 1s 944us/step - loss: 0.5396 - accuracy: 0.7390\n",
      "Epoch 74/100\n",
      "804/804 [==============================] - 1s 888us/step - loss: 0.5396 - accuracy: 0.7397\n",
      "Epoch 75/100\n",
      " 59/804 [=>............................] - ETA: 0s - loss: 0.5331 - accuracy: 0.7452\n",
      "Epoch 00075: saving model to checkpoints\\weights.75.hdf5\n",
      "804/804 [==============================] - 1s 985us/step - loss: 0.5394 - accuracy: 0.7392\n",
      "Epoch 76/100\n",
      "293/804 [=========>....................] - ETA: 0s - loss: 0.5307 - accuracy: 0.7459\n",
      "Epoch 00076: saving model to checkpoints\\weights.76.hdf5\n",
      "804/804 [==============================] - 1s 1ms/step - loss: 0.5393 - accuracy: 0.7394\n",
      "Epoch 77/100\n",
      "496/804 [=================>............] - ETA: 0s - loss: 0.5396 - accuracy: 0.7404 ETA: 0s - loss: 0.5380 - accuracy: 0.74\n",
      "Epoch 00077: saving model to checkpoints\\weights.77.hdf5\n",
      "804/804 [==============================] - 1s 912us/step - loss: 0.5395 - accuracy: 0.7406\n",
      "Epoch 78/100\n",
      "684/804 [========================>.....] - ETA: 0s - loss: 0.5390 - accuracy: 0.7409\n",
      "Epoch 00078: saving model to checkpoints\\weights.78.hdf5\n",
      "804/804 [==============================] - 1s 902us/step - loss: 0.5395 - accuracy: 0.7402\n",
      "Epoch 79/100\n",
      "804/804 [==============================] - 1s 899us/step - loss: 0.5392 - accuracy: 0.7399\n",
      "Epoch 80/100\n",
      " 52/804 [>.............................] - ETA: 0s - loss: 0.5334 - accuracy: 0.7458\n",
      "Epoch 00080: saving model to checkpoints\\weights.80.hdf5\n",
      "804/804 [==============================] - 1s 935us/step - loss: 0.5394 - accuracy: 0.7397\n",
      "Epoch 81/100\n",
      "271/804 [=========>....................] - ETA: 0s - loss: 0.5430 - accuracy: 0.73 - ETA: 0s - loss: 0.5404 - accuracy: 0.7365\n",
      "Epoch 00081: saving model to checkpoints\\weights.81.hdf5\n",
      "804/804 [==============================] - 1s 949us/step - loss: 0.5391 - accuracy: 0.74010s - loss: 0.5401 - accu\n",
      "Epoch 82/100\n",
      "446/804 [===============>..............] - ETA: 0s - loss: 0.5399 - accuracy: 0.7363\n",
      "Epoch 00082: saving model to checkpoints\\weights.82.hdf5\n",
      "804/804 [==============================] - 1s 935us/step - loss: 0.5391 - accuracy: 0.7397\n",
      "Epoch 83/100\n",
      "630/804 [======================>.......] - ETA: 0s - loss: 0.5392 - accuracy: 0.7408\n",
      "Epoch 00083: saving model to checkpoints\\weights.83.hdf5\n",
      "804/804 [==============================] - 1s 913us/step - loss: 0.5393 - accuracy: 0.7403\n",
      "Epoch 84/100\n",
      "804/804 [==============================] - 1s 936us/step - loss: 0.5395 - accuracy: 0.7393\n",
      "Epoch 85/100\n",
      " 36/804 [>.............................] - ETA: 1s - loss: 0.5372 - accuracy: 0.7326\n",
      "Epoch 00085: saving model to checkpoints\\weights.85.hdf5\n",
      "804/804 [==============================] - 1s 934us/step - loss: 0.5390 - accuracy: 0.7398\n",
      "Epoch 86/100\n",
      "208/804 [======>.......................] - ETA: 0s - loss: 0.5402 - accuracy: 0.7401\n",
      "Epoch 00086: saving model to checkpoints\\weights.86.hdf5\n",
      "804/804 [==============================] - 1s 987us/step - loss: 0.5387 - accuracy: 0.7402\n",
      "Epoch 87/100\n",
      "443/804 [===============>..............] - ETA: 0s - loss: 0.5389 - accuracy: 0.7387\n",
      "Epoch 00087: saving model to checkpoints\\weights.87.hdf5\n",
      "804/804 [==============================] - 1s 945us/step - loss: 0.5390 - accuracy: 0.7402\n",
      "Epoch 88/100\n",
      "621/804 [======================>.......] - ETA: 0s - loss: 0.5375 - accuracy: 0.7410\n",
      "Epoch 00088: saving model to checkpoints\\weights.88.hdf5\n",
      "804/804 [==============================] - 1s 934us/step - loss: 0.5389 - accuracy: 0.7401\n",
      "Epoch 89/100\n",
      "804/804 [==============================] - 1s 963us/step - loss: 0.5392 - accuracy: 0.7408\n",
      "Epoch 90/100\n",
      "  1/804 [..............................] - ETA: 0s - loss: 0.5758 - accuracy: 0.7500\n",
      "Epoch 00090: saving model to checkpoints\\weights.90.hdf5\n",
      "804/804 [==============================] - 1s 924us/step - loss: 0.5388 - accuracy: 0.7402\n",
      "Epoch 91/100\n",
      "210/804 [======>.......................] - ETA: 0s - loss: 0.5340 - accuracy: 0.7437\n",
      "Epoch 00091: saving model to checkpoints\\weights.91.hdf5\n",
      "804/804 [==============================] - 1s 954us/step - loss: 0.5389 - accuracy: 0.73970s - loss: 0.5360 \n",
      "Epoch 92/100\n",
      "397/804 [=============>................] - ETA: 0s - loss: 0.5387 - accuracy: 0.7417\n",
      "Epoch 00092: saving model to checkpoints\\weights.92.hdf5\n",
      "804/804 [==============================] - 1s 989us/step - loss: 0.5385 - accuracy: 0.7405\n",
      "Epoch 93/100\n",
      "627/804 [======================>.......] - ETA: 0s - loss: 0.5400 - accuracy: 0.7384\n",
      "Epoch 00093: saving model to checkpoints\\weights.93.hdf5\n",
      "804/804 [==============================] - 1s 923us/step - loss: 0.5387 - accuracy: 0.7400\n",
      "Epoch 94/100\n",
      "804/804 [==============================] - 1s 908us/step - loss: 0.5385 - accuracy: 0.7400\n",
      "Epoch 95/100\n",
      "  1/804 [..............................] - ETA: 0s - loss: 0.5834 - accuracy: 0.6562\n",
      "Epoch 00095: saving model to checkpoints\\weights.95.hdf5\n",
      "804/804 [==============================] - 1s 959us/step - loss: 0.5385 - accuracy: 0.7408\n",
      "Epoch 96/100\n",
      "203/804 [======>.......................] - ETA: 0s - loss: 0.5372 - accuracy: 0.7397\n",
      "Epoch 00096: saving model to checkpoints\\weights.96.hdf5\n",
      "804/804 [==============================] - 1s 966us/step - loss: 0.5387 - accuracy: 0.7402\n",
      "Epoch 97/100\n",
      "377/804 [=============>................] - ETA: 0s - loss: 0.5402 - accuracy: 0.7386\n",
      "Epoch 00097: saving model to checkpoints\\weights.97.hdf5\n",
      "804/804 [==============================] - 1s 1ms/step - loss: 0.5383 - accuracy: 0.7404\n",
      "Epoch 98/100\n",
      "556/804 [===================>..........] - ETA: 0s - loss: 0.5365 - accuracy: 0.7413\n",
      "Epoch 00098: saving model to checkpoints\\weights.98.hdf5\n",
      "804/804 [==============================] - 1s 924us/step - loss: 0.5385 - accuracy: 0.7405\n",
      "Epoch 99/100\n",
      "804/804 [==============================] - 1s 968us/step - loss: 0.5382 - accuracy: 0.7407\n",
      "Epoch 100/100\n",
      "  1/804 [..............................] - ETA: 0s - loss: 0.6111 - accuracy: 0.6250\n",
      "Epoch 00100: saving model to checkpoints\\weights.100.hdf5\n",
      "804/804 [==============================] - 1s 941us/step - loss: 0.5381 - accuracy: 0.7409\n"
     ]
    }
   ],
   "source": [
    "# Train the model (include parameter for callbacks=\n",
    "fit_model = nn_inital.fit(X_train_scaled,y_train,epochs=100, callbacks=[cp_callback])"
   ]
  },
  {
   "cell_type": "code",
   "execution_count": 45,
   "metadata": {},
   "outputs": [
    {
     "name": "stdout",
     "output_type": "stream",
     "text": [
      "268/268 - 0s - loss: 0.5571 - accuracy: 0.7249\n",
      "Loss: 0.557121753692627, Accuracy: 0.7248979806900024\n"
     ]
    }
   ],
   "source": [
    "# Evaluate the model using the test data\n",
    "model_loss, model_accuracy = nn.evaluate(X_test_scaled,y_test,verbose=2)\n",
    "print(f\"Loss: {model_loss}, Accuracy: {model_accuracy}\")"
   ]
  },
  {
   "cell_type": "markdown",
   "metadata": {},
   "source": [
    "After running the previous code, we have created our trained model within the Python session, as well as a folder of checkpoints we can use to restore previous model weights. "
   ]
  },
  {
   "cell_type": "markdown",
   "metadata": {},
   "source": [
    "## Model Assessment:\n",
    "According to the accuracy metric of the neural network model was only able to correctly classify about 72.4%\n",
    "\n",
    "Loss: 0.557121753692627, Accuracy: 0.7248979806900024"
   ]
  },
  {
   "cell_type": "code",
   "execution_count": 48,
   "metadata": {},
   "outputs": [
    {
     "data": {
      "text/plain": [
       "<AxesSubplot:>"
      ]
     },
     "execution_count": 48,
     "metadata": {},
     "output_type": "execute_result"
    },
    {
     "data": {
      "image/png": "[encoded data removed]",
      "text/plain": [
       "<Figure size 432x288 with 1 Axes>"
      ]
     },
     "metadata": {
      "needs_background": "light"
     },
     "output_type": "display_data"
    }
   ],
   "source": [
    "# Create a DataFrame containing training history\n",
    "history_df = pd.DataFrame(fit_model.history, index=range(1,len(fit_model.history[\"loss\"])+1))\n",
    "\n",
    "# Plot the loss\n",
    "history_df.plot(y=\"loss\")"
   ]
  },
  {
   "cell_type": "code",
   "execution_count": 49,
   "metadata": {},
   "outputs": [
    {
     "data": {
      "text/plain": [
       "<AxesSubplot:>"
      ]
     },
     "execution_count": 49,
     "metadata": {},
     "output_type": "execute_result"
    },
    {
     "data": {
      "image/png": "[encoded data removed]",
      "text/plain": [
       "<Figure size 432x288 with 1 Axes>"
      ]
     },
     "metadata": {
      "needs_background": "light"
     },
     "output_type": "display_data"
    }
   ],
   "source": [
    "# Plot the accuracy\n",
    "history_df.plot(y=\"accuracy\")"
   ]
  },
  {
   "cell_type": "code",
   "execution_count": 51,
   "metadata": {},
   "outputs": [],
   "source": [
    "# export the fully trained model to HDF5 file\n",
    "# note: The Hierarchical Data Format version 5 (HDF5), is an open source file format that supports large, complex, heterogeneous data. \n",
    "\n",
    "nn_inital.save(\"./Trained_Models/trained_attrition.h5\")"
   ]
  },
  {
   "cell_type": "markdown",
   "metadata": {},
   "source": [
    "note: After running the code, we  see a file named \"trained_attrition.h5,\" in the Trained_Model folder which contains the complete model and configuration. \n",
    "\n",
    "Now that we have the model saved, we can create the model at any point. Let's try importing the model into the notebook without providing any structure or context. \n",
    "\n",
    "To import the model, add and run the following code:"
   ]
  },
  {
   "cell_type": "code",
   "execution_count": 52,
   "metadata": {},
   "outputs": [],
   "source": [
    "# Import the model to a new object\n",
    "nn_imported = tf.keras.models.load_model('./Trained_Models/trained_attrition.h5')"
   ]
  },
  {
   "cell_type": "code",
   "execution_count": 54,
   "metadata": {},
   "outputs": [
    {
     "name": "stdout",
     "output_type": "stream",
     "text": [
      "268/268 - 0s - loss: 0.5581 - accuracy: 0.7261\n",
      "Loss: 0.5581235289573669, Accuracy: 0.726064145565033\n"
     ]
    }
   ],
   "source": [
    "# Evaluate the imported model using the test data\n",
    "model_loss, model_accuracy = nn_imported.evaluate(X_test_scaled,y_test,verbose=2)\n",
    "print(f\"Loss: {model_loss}, Accuracy: {model_accuracy}\")"
   ]
  },
  {
   "cell_type": "code",
   "execution_count": null,
   "metadata": {},
   "outputs": [],
   "source": []
  }
 ],
 "metadata": {
  "kernelspec": {
   "display_name": "mlenv",
   "language": "python",
   "name": "mlenv"
  },
  "language_info": {
   "codemirror_mode": {
    "name": "ipython",
    "version": 3
   },
   "file_extension": ".py",
   "mimetype": "text/x-python",
   "name": "python",
   "nbconvert_exporter": "python",
   "pygments_lexer": "ipython3",
   "version": "3.7.10"
  },
  "widgets": {
   "application/vnd.jupyter.widget-state+json": {
    "state": {},
    "version_major": 2,
    "version_minor": 0
   }
  }
 },
 "nbformat": 4,
 "nbformat_minor": 4
}
